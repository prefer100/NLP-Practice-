{
 "cells": [
  {
   "cell_type": "code",
   "execution_count": null,
   "metadata": {
    "id": "97NZnRNyrgwX"
   },
   "outputs": [],
   "source": [
    "import nltk\n",
    "import numpy as np\n",
    "import matplotlib.pyplot as plt\n",
    "from tensorflow.keras.preprocessing.text import Tokenizer\n",
    "from tensorflow.keras.preprocessing.sequence import pad_sequences\n",
    "from tensorflow.keras.utils import to_categorical\n",
    "from sklearn.model_selection import train_test_split"
   ]
  },
  {
   "cell_type": "code",
   "execution_count": null,
   "metadata": {
    "id": "eFK8bwjkrgwY",
    "outputId": "d0818be7-0569-48bb-d699-8511db039f97"
   },
   "outputs": [
    {
     "name": "stderr",
     "output_type": "stream",
     "text": [
      "[nltk_data] Downloading package treebank to\n",
      "[nltk_data]     C:\\Users\\sunho\\AppData\\Roaming\\nltk_data...\n",
      "[nltk_data]   Package treebank is already up-to-date!\n"
     ]
    },
    {
     "name": "stdout",
     "output_type": "stream",
     "text": [
      "품사 태깅이 된 문장 개수 : 3914\n"
     ]
    }
   ],
   "source": [
    "nltk.download('treebank')\n",
    "tagged_sentences = nltk.corpus.treebank.tagged_sents()\n",
    "print(\"품사 태깅이 된 문장 개수 :\", len(tagged_sentences))"
   ]
  },
  {
   "cell_type": "code",
   "execution_count": null,
   "metadata": {
    "id": "97X8540irgwZ",
    "outputId": "446a9673-6824-43e7-b309-80eb7ef84e48"
   },
   "outputs": [
    {
     "name": "stdout",
     "output_type": "stream",
     "text": [
      "[('Pierre', 'NNP'), ('Vinken', 'NNP'), (',', ','), ('61', 'CD'), ('years', 'NNS'), ('old', 'JJ'), (',', ','), ('will', 'MD'), ('join', 'VB'), ('the', 'DT'), ('board', 'NN'), ('as', 'IN'), ('a', 'DT'), ('nonexecutive', 'JJ'), ('director', 'NN'), ('Nov.', 'NNP'), ('29', 'CD'), ('.', '.')]\n"
     ]
    }
   ],
   "source": [
    "print(tagged_sentences[0])"
   ]
  },
  {
   "cell_type": "code",
   "execution_count": null,
   "metadata": {
    "id": "dYsB9ONIrgwa"
   },
   "outputs": [],
   "source": [
    "sentences, pos_tags = [],[]\n",
    "for tagged_sentence in tagged_sentences:\n",
    "    sentence, tag_info = zip(*tagged_sentence)\n",
    "    sentences.append(list(sentence))\n",
    "    pos_tags.append(list(tag_info))"
   ]
  },
  {
   "cell_type": "code",
   "execution_count": null,
   "metadata": {
    "id": "rDXbMRUKrgwa",
    "outputId": "fd47fbc3-65c8-49ae-cdc9-8fa31eea836c"
   },
   "outputs": [
    {
     "name": "stdout",
     "output_type": "stream",
     "text": [
      "['Pierre', 'Vinken', ',', '61', 'years', 'old', ',', 'will', 'join', 'the', 'board', 'as', 'a', 'nonexecutive', 'director', 'Nov.', '29', '.']\n",
      "['NNP', 'NNP', ',', 'CD', 'NNS', 'JJ', ',', 'MD', 'VB', 'DT', 'NN', 'IN', 'DT', 'JJ', 'NN', 'NNP', 'CD', '.']\n"
     ]
    }
   ],
   "source": [
    "print(sentences[0])\n",
    "print(pos_tags[0])"
   ]
  },
  {
   "cell_type": "code",
   "execution_count": null,
   "metadata": {
    "id": "DOGYN7HPrgwb",
    "outputId": "6b6e3690-269d-4a38-9cb9-bfcb8d57940d"
   },
   "outputs": [
    {
     "name": "stdout",
     "output_type": "stream",
     "text": [
      "['We', \"'re\", 'talking', 'about', 'years', 'ago', 'before', 'anyone', 'heard', 'of', 'asbestos', 'having', 'any', 'questionable', 'properties', '.']\n",
      "['PRP', 'VBP', 'VBG', 'IN', 'NNS', 'IN', 'IN', 'NN', 'VBD', 'IN', 'NN', 'VBG', 'DT', 'JJ', 'NNS', '.']\n"
     ]
    }
   ],
   "source": [
    "print(sentences[8])\n",
    "print(pos_tags[8])"
   ]
  },
  {
   "cell_type": "code",
   "execution_count": null,
   "metadata": {
    "id": "wsg1IOQLrgwb",
    "outputId": "dc8cc0e5-b1c8-4ffe-bcfe-15acdc66769e",
    "scrolled": true
   },
   "outputs": [
    {
     "name": "stdout",
     "output_type": "stream",
     "text": [
      "샘플의 최대 길이 : 271\n",
      "샘플의 평균 길이 : 25.722024\n"
     ]
    },
    {
     "data": {
      "image/png": "[encoded data removed]",
      "text/plain": [
       "<Figure size 432x288 with 1 Axes>"
      ]
     },
     "metadata": {},
     "output_type": "display_data"
    }
   ],
   "source": [
    "print('샘플의 최대 길이 : %d' % max(len(l) for l in sentences))\n",
    "print('샘플의 평균 길이 : %f' %(sum(map(len,sentences))/len(sentences)))\n",
    "plt.hist([len(s) for s in sentences], bins=50)\n",
    "plt.xlabel('length of samples')\n",
    "plt.ylabel('number of samples')\n",
    "plt.show()"
   ]
  },
  {
   "cell_type": "code",
   "execution_count": null,
   "metadata": {
    "id": "oYm8d9rArgwb"
   },
   "outputs": [],
   "source": [
    "def tokenize(samples):\n",
    "    tokenizer = Tokenizer()\n",
    "    tokenizer.fit_on_texts(samples)\n",
    "    return tokenizer"
   ]
  },
  {
   "cell_type": "code",
   "execution_count": null,
   "metadata": {
    "id": "QPQRzhD3rgwb"
   },
   "outputs": [],
   "source": [
    "src_tokenizer = tokenize(sentences)\n",
    "tar_tokenizer = tokenize(pos_tags)"
   ]
  },
  {
   "cell_type": "code",
   "execution_count": null,
   "metadata": {
    "id": "SrkUZ4rrrgwc",
    "outputId": "af02f37e-7273-4e9f-fb1c-eb7600fb7d82"
   },
   "outputs": [
    {
     "name": "stdout",
     "output_type": "stream",
     "text": [
      "단어 집합의 크기 : 11388\n",
      "태깅 정보 집합의 크기 : 47\n"
     ]
    }
   ],
   "source": [
    "vocab_size = len(src_tokenizer.word_index) + 1\n",
    "tag_size = len(tar_tokenizer.word_index) + 1\n",
    "print('단어 집합의 크기 : {}'.format(vocab_size))\n",
    "print('태깅 정보 집합의 크기 : {}'.format(tag_size))"
   ]
  },
  {
   "cell_type": "code",
   "execution_count": null,
   "metadata": {
    "id": "d8m1UJcIrgwc"
   },
   "outputs": [],
   "source": [
    "X_train = src_tokenizer.texts_to_sequences(sentences)\n",
    "y_train = tar_tokenizer.texts_to_sequences(pos_tags)"
   ]
  },
  {
   "cell_type": "code",
   "execution_count": null,
   "metadata": {
    "id": "EXzg7cEfrgwc",
    "outputId": "b06944d1-0f94-4c20-a6a2-50b0ead4d36f"
   },
   "outputs": [
    {
     "name": "stdout",
     "output_type": "stream",
     "text": [
      "[[5601, 3746, 1, 2024, 86, 331, 1, 46, 2405, 2, 131, 27, 6, 2025, 332, 459, 2026, 3], [31, 3746, 20, 177, 4, 5602, 2915, 1, 2, 2916, 637, 147, 3]]\n",
      "[[3, 3, 8, 10, 6, 7, 8, 21, 13, 4, 1, 2, 4, 7, 1, 3, 10, 9], [3, 3, 17, 1, 2, 3, 3, 8, 4, 3, 19, 1, 9]]\n"
     ]
    }
   ],
   "source": [
    "print(X_train[:2])\n",
    "print(y_train[:2])"
   ]
  },
  {
   "cell_type": "code",
   "execution_count": null,
   "metadata": {
    "id": "66Xa2qC_rgwd"
   },
   "outputs": [],
   "source": [
    "max_len = 150\n",
    "X_train = pad_sequences(X_train,padding='post',maxlen=max_len)\n",
    "y_train = pad_sequences(y_train,padding='post',maxlen=max_len)"
   ]
  },
  {
   "cell_type": "code",
   "execution_count": null,
   "metadata": {
    "id": "CE6S3wyWrgwd"
   },
   "outputs": [],
   "source": [
    "X_train,X_test,y_train,y_test = train_test_split(X_train,y_train,test_size=.2,random_state=777)"
   ]
  },
  {
   "cell_type": "code",
   "execution_count": null,
   "metadata": {
    "id": "3ZsVBuOTrgwd",
    "outputId": "dd2093af-da4b-41ef-e7f4-9ebbf76783d2"
   },
   "outputs": [
    {
     "name": "stdout",
     "output_type": "stream",
     "text": [
      "훈련 샘플 문장의 크기 : (3131, 150)\n",
      "훈련 샘플 레이블의 크기 : (3131, 150)\n",
      "테스트 샘플 문장의 크기 : (783, 150)\n",
      "테스트 샘플 레이블의 크기 : (783, 150)\n"
     ]
    }
   ],
   "source": [
    "print('훈련 샘플 문장의 크기 : {}'.format(X_train.shape))\n",
    "print('훈련 샘플 레이블의 크기 : {}'.format(y_train.shape))\n",
    "print('테스트 샘플 문장의 크기 : {}'.format(X_test.shape))\n",
    "print('테스트 샘플 레이블의 크기 : {}'.format(y_test.shape))"
   ]
  },
  {
   "cell_type": "code",
   "execution_count": null,
   "metadata": {
    "id": "TjfWMDfIrgwd",
    "outputId": "55e21144-b5a1-424d-aa3f-36435fe35e9d"
   },
   "outputs": [
    {
     "data": {
      "text/plain": [
       "(array([[   2,  147,   53, ...,    0,    0,    0],\n",
       "        [  67,    1,   31, ...,    0,    0,    0],\n",
       "        [  14, 2727,    6, ...,    0,    0,    0],\n",
       "        ...,\n",
       "        [ 290,    1,    6, ...,    0,    0,    0],\n",
       "        [1313, 5399, 1476, ...,    0,    0,    0],\n",
       "        [  18,    2,   88, ...,    0,    0,    0]]),\n",
       " array([[ 4,  1, 17, ...,  0,  0,  0],\n",
       "        [12,  8,  3, ...,  0,  0,  0],\n",
       "        [ 4, 17,  4, ...,  0,  0,  0],\n",
       "        ...,\n",
       "        [ 3,  8,  4, ...,  0,  0,  0],\n",
       "        [ 1,  6, 20, ...,  0,  0,  0],\n",
       "        [25,  4,  3, ...,  0,  0,  0]]))"
      ]
     },
     "execution_count": 38,
     "metadata": {},
     "output_type": "execute_result"
    }
   ],
   "source": [
    "X_train,y_train"
   ]
  },
  {
   "cell_type": "code",
   "execution_count": null,
   "metadata": {
    "id": "FshMKonYrgwe",
    "outputId": "86118bdd-67d2-4711-b5b8-8441338866b1"
   },
   "outputs": [
    {
     "name": "stdout",
     "output_type": "stream",
     "text": [
      "Epoch 1/7\n",
      "25/25 [==============================] - 12s 140ms/step - loss: 0.5921 - accuracy: 0.1363 - val_loss: 0.5154 - val_accuracy: 0.1652\n",
      "Epoch 2/7\n",
      "25/25 [==============================] - 1s 27ms/step - loss: 0.5025 - accuracy: 0.1918 - val_loss: 0.4804 - val_accuracy: 0.2326\n",
      "Epoch 3/7\n",
      "25/25 [==============================] - 1s 27ms/step - loss: 0.4518 - accuracy: 0.3665 - val_loss: 0.3985 - val_accuracy: 0.4558\n",
      "Epoch 4/7\n",
      "25/25 [==============================] - 1s 28ms/step - loss: 0.3343 - accuracy: 0.5188 - val_loss: 0.2655 - val_accuracy: 0.6121\n",
      "Epoch 5/7\n",
      "25/25 [==============================] - 1s 28ms/step - loss: 0.2104 - accuracy: 0.7131 - val_loss: 0.1611 - val_accuracy: 0.7947\n",
      "Epoch 6/7\n",
      "25/25 [==============================] - 1s 29ms/step - loss: 0.1167 - accuracy: 0.8663 - val_loss: 0.0964 - val_accuracy: 0.8795\n",
      "Epoch 7/7\n",
      "25/25 [==============================] - 1s 28ms/step - loss: 0.0658 - accuracy: 0.9251 - val_loss: 0.0687 - val_accuracy: 0.9044\n"
     ]
    },
    {
     "data": {
      "text/plain": [
       "<keras.callbacks.History at 0x18307543760>"
      ]
     },
     "execution_count": 39,
     "metadata": {},
     "output_type": "execute_result"
    }
   ],
   "source": [
    "from tensorflow.keras.models import Sequential\n",
    "from tensorflow.keras.layers import Dense, LSTM, InputLayer, Bidirectional, TimeDistributed, Embedding\n",
    "from tensorflow.keras.optimizers import Adam\n",
    "\n",
    "embedding_dim = 128\n",
    "hidden_units = 128\n",
    "\n",
    "model = Sequential()\n",
    "model.add(Embedding(vocab_size, embedding_dim, mask_zero=True))\n",
    "model.add(Bidirectional(LSTM(hidden_units, return_sequences=True)))\n",
    "model.add(TimeDistributed(Dense(tag_size, activation=('softmax'))))\n",
    "\n",
    "model.compile(loss='sparse_categorical_crossentropy', optimizer=Adam(0.001), metrics=['accuracy'])\n",
    "model.fit(X_train, y_train, batch_size=128, epochs=7, validation_data=(X_test, y_test))"
   ]
  },
  {
   "cell_type": "code",
   "execution_count": null,
   "metadata": {
    "id": "pTKKS4sHrgwe",
    "outputId": "46eda9a5-0e9b-4c93-dd34-d868e4e2136d"
   },
   "outputs": [
    {
     "name": "stdout",
     "output_type": "stream",
     "text": [
      "25/25 [==============================] - 0s 7ms/step - loss: 0.0687 - accuracy: 0.9044\n",
      "\n",
      " 테스트 정확도: 0.9044\n"
     ]
    }
   ],
   "source": [
    "print(\"\\n 테스트 정확도: %.4f\" %(model.evaluate(X_test,y_test)[1]))"
   ]
  },
  {
   "cell_type": "code",
   "execution_count": null,
   "metadata": {
    "id": "XtU7X_Sgrgwf",
    "outputId": "db63c880-d207-47ea-8186-bf1ef9e09054",
    "scrolled": true
   },
   "outputs": [
    {
     "name": "stdout",
     "output_type": "stream",
     "text": [
      "단어             |실제값  |예측값\n",
      "-----------------------------------\n",
      "in               : IN      IN\n",
      "addition         : NN      NN\n",
      ",                : ,       ,\n",
      "buick            : NNP     NNP\n",
      "is               : VBZ     VBZ\n",
      "a                : DT      DT\n",
      "relatively       : RB      RB\n",
      "respected        : VBN     VBN\n",
      "nameplate        : NN      NN\n",
      "among            : IN      IN\n",
      "american         : NNP     NNP\n",
      "express          : NNP     NNP\n",
      "card             : NN      NN\n",
      "holders          : NNS     NNS\n",
      ",                : ,       ,\n",
      "says             : VBZ     VBZ\n",
      "0                : -NONE-  -NONE-\n",
      "*t*-1            : -NONE-  -NONE-\n",
      "an               : DT      DT\n",
      "american         : NNP     NNP\n",
      "express          : NNP     NNP\n",
      "spokeswoman      : NN      NN\n",
      ".                : .       .\n"
     ]
    }
   ],
   "source": [
    "index_to_word = src_tokenizer.index_word\n",
    "index_to_tag = tar_tokenizer.index_word\n",
    "i = 10\n",
    "y_predicted = model.predict(np.array([X_test[i]]))\n",
    "y_predicted = np.argmax(y_predicted,axis=-1)\n",
    "print(\"{:15}|{:5}|{}\".format(\"단어\",\"실제값\",\"예측값\"))\n",
    "print(35 * \"-\")\n",
    "for word,tag,pred in zip(X_test[i],y_test[i],y_predicted[0]):\n",
    "    if word != 0:\n",
    "        print(\"{:17}: {:7} {}\".format(index_to_word[word], index_to_tag[tag].upper(),index_to_tag[pred].upper()))"
   ]
  },
  {
   "cell_type": "code",
   "execution_count": null,
   "metadata": {
    "id": "K5rvzDmprgwf",
    "outputId": "7d6c0255-9a22-4686-c810-fad7f56663e7"
   },
   "outputs": [
    {
     "name": "stdout",
     "output_type": "stream",
     "text": [
      "[('James', 'NNP'), ('is', 'VBZ'), ('working', 'VBG'), ('at', 'IN'), ('Disney', 'NNP'), ('in', 'IN'), ('London', 'NNP')]\n"
     ]
    }
   ],
   "source": [
    "import nltk\n",
    "from nltk import word_tokenize,pos_tag,ne_chunk\n",
    "\n",
    "sentence = \"James is working at Disney in London\"\n",
    "tokenized_sentence = pos_tag(word_tokenize(sentence))\n",
    "print(tokenized_sentence)"
   ]
  },
  {
   "cell_type": "code",
   "execution_count": null,
   "metadata": {
    "id": "APTnBSZPrgwf",
    "outputId": "33d24b6b-20f6-4f8c-926d-2872f1b574cf"
   },
   "outputs": [
    {
     "name": "stderr",
     "output_type": "stream",
     "text": [
      "[nltk_data] Downloading package maxent_ne_chunker to\n",
      "[nltk_data]     C:\\Users\\sunho\\AppData\\Roaming\\nltk_data...\n",
      "[nltk_data]   Package maxent_ne_chunker is already up-to-date!\n",
      "[nltk_data] Downloading package words to\n",
      "[nltk_data]     C:\\Users\\sunho\\AppData\\Roaming\\nltk_data...\n"
     ]
    },
    {
     "name": "stdout",
     "output_type": "stream",
     "text": [
      "(S\n",
      "  (PERSON James/NNP)\n",
      "  is/VBZ\n",
      "  working/VBG\n",
      "  at/IN\n",
      "  (ORGANIZATION Disney/NNP)\n",
      "  in/IN\n",
      "  (GPE London/NNP))\n"
     ]
    },
    {
     "name": "stderr",
     "output_type": "stream",
     "text": [
      "[nltk_data]   Unzipping corpora\\words.zip.\n"
     ]
    }
   ],
   "source": [
    "nltk.download('maxent_ne_chunker')\n",
    "nltk.download(\"words\")\n",
    "ner_sentence = ne_chunk(tokenized_sentence)\n",
    "print(ner_sentence)"
   ]
  },
  {
   "cell_type": "code",
   "execution_count": null,
   "metadata": {
    "id": "e2t67jXTrgwg"
   },
   "outputs": [],
   "source": [
    "import re\n",
    "import numpy as np\n",
    "import matplotlib.pyplot as plt\n",
    "import urllib.request\n",
    "from tensorflow.keras.preprocessing.text import Tokenizer\n",
    "from tensorflow.keras.preprocessing.sequence import pad_sequences\n",
    "from tensorflow.keras.utils import to_categorical\n",
    "from sklearn.model_selection import train_test_split"
   ]
  },
  {
   "cell_type": "code",
   "execution_count": null,
   "metadata": {
    "id": "fMjJ78E_rgwg"
   },
   "outputs": [],
   "source": [
    "urllib.request.urlretrieve(\"https://raw.githubusercontent.com/ukairia777/tensorflow-nlp-tutorial/main/12.%20RNN%20Sequence%20Labeling/dataset/train.txt\", filename=\"train.txt\")\n",
    "\n",
    "f = open('train.txt', 'r')\n",
    "tagged_sentences = []\n",
    "sentence = []\n",
    "\n",
    "for line in f:\n",
    "    if len(line)==0 or line.startswith('-DOCSTART') or line[0]==\"\\n\":\n",
    "        if len(sentence) > 0:\n",
    "            tagged_sentences.append(sentence)\n",
    "            sentence = []\n",
    "        continue\n",
    "    splits = line.split(' ') # 공백을 기준으로 속성을 구분한다.\n",
    "    splits[-1] = re.sub(r'\\n', '', splits[-1]) # 줄바꿈 표시 \\n을 제거한다.\n",
    "    word = splits[0].lower() # 단어들은 소문자로 바꿔서 저장한다.\n",
    "    sentence.append([word, splits[-1]]) # 단어와 개체명 태깅만 기록한다."
   ]
  },
  {
   "cell_type": "markdown",
   "metadata": {
    "id": "j4FuqTpurgwg"
   },
   "source": [
    "# 2022.7.3 기준 url사이트에서 404 Not Found로 파일 가져오기 불가능\n",
    "\n",
    "\"https://raw.githubusercontent.com/ukairia777/tensorflow-nlp-tutorial/main/12.%20RNN%20Sequence%20Labeling/dataset/train.txt\" 으로 url 주소 변경"
   ]
  },
  {
   "cell_type": "code",
   "execution_count": null,
   "metadata": {
    "id": "A9ht2dAGrgwh",
    "outputId": "3602d52a-47b1-4661-a607-f78203c69b3c"
   },
   "outputs": [
    {
     "name": "stdout",
     "output_type": "stream",
     "text": [
      "전체 샘플 개수:  14041\n"
     ]
    }
   ],
   "source": [
    "print('전체 샘플 개수: ',len(tagged_sentences))"
   ]
  },
  {
   "cell_type": "code",
   "execution_count": null,
   "metadata": {
    "id": "KNphMyqxrgwh",
    "outputId": "165c49f9-b215-4093-dfc0-703876ae6de4"
   },
   "outputs": [
    {
     "name": "stdout",
     "output_type": "stream",
     "text": [
      "첫번째 샘플 : [['eu', 'B-ORG'], ['rejects', 'O'], ['german', 'B-MISC'], ['call', 'O'], ['to', 'O'], ['boycott', 'O'], ['british', 'B-MISC'], ['lamb', 'O'], ['.', 'O']]\n"
     ]
    }
   ],
   "source": [
    "print('첫번째 샘플 :',tagged_sentences[0])"
   ]
  },
  {
   "cell_type": "code",
   "execution_count": null,
   "metadata": {
    "id": "55PkQjIUrgwi"
   },
   "outputs": [],
   "source": [
    "sentences,ner_tags = [],[]\n",
    "for tagged_sentence in tagged_sentences:\n",
    "    sentence,tag_info = zip(*tagged_sentence)\n",
    "    sentences.append(list(sentence))\n",
    "    ner_tags.append(list(tag_info))"
   ]
  },
  {
   "cell_type": "code",
   "execution_count": null,
   "metadata": {
    "id": "dHPHUA9Xrgwi",
    "outputId": "9c066957-f17c-4d3f-b82a-01f95e1a7122"
   },
   "outputs": [
    {
     "name": "stdout",
     "output_type": "stream",
     "text": [
      "첫번째 샘플의 문장 : ['eu', 'rejects', 'german', 'call', 'to', 'boycott', 'british', 'lamb', '.']\n",
      "첫번째 샘플의 레이블 : ['B-ORG', 'O', 'B-MISC', 'O', 'O', 'O', 'B-MISC', 'O', 'O']\n"
     ]
    }
   ],
   "source": [
    "print('첫번째 샘플의 문장 :',sentences[0])\n",
    "print('첫번째 샘플의 레이블 :',ner_tags[0])"
   ]
  },
  {
   "cell_type": "code",
   "execution_count": null,
   "metadata": {
    "id": "axP6kvEUrgwi",
    "outputId": "7d78eca6-0f28-42c3-85f9-ba5c850fab84"
   },
   "outputs": [
    {
     "name": "stdout",
     "output_type": "stream",
     "text": [
      "['only', 'france', 'and', 'britain', 'backed', 'fischler', \"'s\", 'proposal', '.']\n",
      "['O', 'B-LOC', 'O', 'B-LOC', 'O', 'B-PER', 'O', 'O', 'O']\n"
     ]
    }
   ],
   "source": [
    "print(sentences[12])\n",
    "print(ner_tags[12])"
   ]
  },
  {
   "cell_type": "code",
   "execution_count": null,
   "metadata": {
    "id": "-jicSPS0rgwi",
    "outputId": "d25b40a6-63bd-4844-c8ba-e43cf3316716"
   },
   "outputs": [
    {
     "name": "stdout",
     "output_type": "stream",
     "text": [
      "샘플의 최대 길이 : 113\n",
      "샘플의 평균 길이 : 14.501887\n"
     ]
    },
    {
     "data": {
      "image/png": "[encoded data removed]",
      "text/plain": [
       "<Figure size 432x288 with 1 Axes>"
      ]
     },
     "metadata": {},
     "output_type": "display_data"
    }
   ],
   "source": [
    "print('샘플의 최대 길이 : %d' %max(len(sentence) for sentence in sentences))\n",
    "print('샘플의 평균 길이 : %f' %(sum(map(len,sentences))/len(sentences)))\n",
    "plt.hist([len(sentence) for sentence in sentences],bins=50)\n",
    "plt.xlabel('length of samples')\n",
    "plt.ylabel('number of samples')\n",
    "plt.show()"
   ]
  },
  {
   "cell_type": "code",
   "execution_count": null,
   "metadata": {
    "id": "OZclxmUYrgwi"
   },
   "outputs": [],
   "source": [
    "vocab_size = 4000\n",
    "src_tokenizer = Tokenizer(num_words=vocab_size,oov_token='OOV')\n",
    "src_tokenizer.fit_on_texts(sentences)\n",
    "tar_tokenizer = Tokenizer()\n",
    "tar_tokenizer.fit_on_texts(ner_tags)"
   ]
  },
  {
   "cell_type": "code",
   "execution_count": null,
   "metadata": {
    "id": "Oc8Pr_JXrgwj",
    "outputId": "53b8cdb1-c2db-4aec-f832-6c6a206d624e"
   },
   "outputs": [
    {
     "name": "stdout",
     "output_type": "stream",
     "text": [
      "단어 집합의 크기 : 4000\n",
      "개체명 태깅 정보 집합의 크기 : 10\n"
     ]
    }
   ],
   "source": [
    "tag_size = len(tar_tokenizer.word_index) + 1\n",
    "print('단어 집합의 크기 : {}'.format(vocab_size))\n",
    "print('개체명 태깅 정보 집합의 크기 : {}'.format(tag_size))"
   ]
  },
  {
   "cell_type": "code",
   "execution_count": null,
   "metadata": {
    "id": "ftHp8h0_rgwj"
   },
   "outputs": [],
   "source": [
    "X_train = src_tokenizer.texts_to_sequences(sentences)\n",
    "y_train = tar_tokenizer.texts_to_sequences(ner_tags)"
   ]
  },
  {
   "cell_type": "code",
   "execution_count": null,
   "metadata": {
    "id": "qYYI4quHrgwj",
    "outputId": "2e15279a-9834-4697-b503-500f4e0b9944"
   },
   "outputs": [
    {
     "name": "stdout",
     "output_type": "stream",
     "text": [
      "첫번째 샘플의 문장 : [989, 1, 205, 629, 7, 3939, 216, 1, 3]\n",
      "첫번재 샘플의 레이블 : [4, 1, 7, 1, 1, 1, 7, 1, 1]\n"
     ]
    }
   ],
   "source": [
    "print('첫번째 샘플의 문장 :',X_train[0])\n",
    "print('첫번재 샘플의 레이블 :',y_train[0])"
   ]
  },
  {
   "cell_type": "code",
   "execution_count": null,
   "metadata": {
    "id": "6VnJShN5rgwj"
   },
   "outputs": [],
   "source": [
    "index_to_word = src_tokenizer.index_word\n",
    "index_to_ner = tar_tokenizer.index_word"
   ]
  },
  {
   "cell_type": "code",
   "execution_count": null,
   "metadata": {
    "id": "JONcmpkurgwj",
    "outputId": "9507da18-d927-46d9-d048-764425bc75d7"
   },
   "outputs": [
    {
     "name": "stdout",
     "output_type": "stream",
     "text": [
      "기존 문장 : ['eu', 'rejects', 'german', 'call', 'to', 'boycott', 'british', 'lamb', '.']\n",
      "빈도수가 낮은 단어가 OOV 처리된 문장 : ['eu', 'OOV', 'german', 'call', 'to', 'boycott', 'british', 'OOV', '.']\n"
     ]
    }
   ],
   "source": [
    "decoded = []\n",
    "for index in X_train[0]:\n",
    "    decoded.append(index_to_word[index])\n",
    "print('기존 문장 : {}'.format(sentences[0]))\n",
    "print('빈도수가 낮은 단어가 OOV 처리된 문장 : {}'.format(decoded))"
   ]
  },
  {
   "cell_type": "code",
   "execution_count": null,
   "metadata": {
    "id": "LYzV3Z8Irgwk"
   },
   "outputs": [],
   "source": [
    "max_len = 70\n",
    "X_train = pad_sequences(X_train,padding='post', maxlen=max_len)\n",
    "y_train = pad_sequences(y_train,padding='post', maxlen=max_len)"
   ]
  },
  {
   "cell_type": "code",
   "execution_count": null,
   "metadata": {
    "id": "4ijKpDaErgwk"
   },
   "outputs": [],
   "source": [
    "X_train,X_test,y_train,y_test = train_test_split(X_train,y_train,test_size=.2,random_state=777)"
   ]
  },
  {
   "cell_type": "code",
   "execution_count": null,
   "metadata": {
    "id": "w1X4BNVhrgwk"
   },
   "outputs": [],
   "source": [
    "y_train = to_categorical(y_train,num_classes=tag_size)\n",
    "y_test = to_categorical(y_test,num_classes=tag_size)"
   ]
  },
  {
   "cell_type": "code",
   "execution_count": null,
   "metadata": {
    "id": "U6Xq4g8Rrgwk",
    "outputId": "60f180b9-a498-4eb1-aba8-b593c08b616d"
   },
   "outputs": [
    {
     "name": "stdout",
     "output_type": "stream",
     "text": [
      "훈련 샘플 문장의 크기 : (11232, 70)\n",
      "훈련 샘플 레이블의 크기 : (11232, 70, 10)\n",
      "테스트 샘플 문장의 크기 : (2809, 70)\n",
      "테스트 샘플 레이블의 크기 : (2809, 70, 10)\n"
     ]
    }
   ],
   "source": [
    "print('훈련 샘플 문장의 크기 : {}'.format(X_train.shape))\n",
    "print('훈련 샘플 레이블의 크기 : {}'.format(y_train.shape))\n",
    "print('테스트 샘플 문장의 크기 : {}'.format(X_test.shape))\n",
    "print('테스트 샘플 레이블의 크기 : {}'.format(y_test.shape))"
   ]
  },
  {
   "cell_type": "code",
   "execution_count": null,
   "metadata": {
    "id": "wMB5dF_Vrgwk",
    "outputId": "0cd2adf7-7861-4a03-ba22-e3b6b7a08154"
   },
   "outputs": [
    {
     "name": "stdout",
     "output_type": "stream",
     "text": [
      "Epoch 1/8\n",
      "88/88 [==============================] - 15s 60ms/step - loss: 0.1991 - accuracy: 0.8224 - val_loss: 0.1308 - val_accuracy: 0.8332\n",
      "Epoch 2/8\n",
      "88/88 [==============================] - 2s 23ms/step - loss: 0.1064 - accuracy: 0.8473 - val_loss: 0.0848 - val_accuracy: 0.8726\n",
      "Epoch 3/8\n",
      "88/88 [==============================] - 2s 23ms/step - loss: 0.0757 - accuracy: 0.8914 - val_loss: 0.0623 - val_accuracy: 0.9114\n",
      "Epoch 4/8\n",
      "88/88 [==============================] - 2s 23ms/step - loss: 0.0539 - accuracy: 0.9253 - val_loss: 0.0453 - val_accuracy: 0.9362\n",
      "Epoch 5/8\n",
      "88/88 [==============================] - 2s 23ms/step - loss: 0.0396 - accuracy: 0.9445 - val_loss: 0.0387 - val_accuracy: 0.9467\n",
      "Epoch 6/8\n",
      "88/88 [==============================] - 2s 24ms/step - loss: 0.0319 - accuracy: 0.9547 - val_loss: 0.0341 - val_accuracy: 0.9516\n",
      "Epoch 7/8\n",
      "88/88 [==============================] - 2s 24ms/step - loss: 0.0269 - accuracy: 0.9619 - val_loss: 0.0323 - val_accuracy: 0.9555\n",
      "Epoch 8/8\n",
      "88/88 [==============================] - 2s 24ms/step - loss: 0.0238 - accuracy: 0.9662 - val_loss: 0.0325 - val_accuracy: 0.9553\n"
     ]
    },
    {
     "data": {
      "text/plain": [
       "<keras.callbacks.History at 0x17045ee6dc0>"
      ]
     },
     "execution_count": 33,
     "metadata": {},
     "output_type": "execute_result"
    }
   ],
   "source": [
    "from tensorflow.keras.models import Sequential\n",
    "from tensorflow.keras.layers import Dense,Embedding,LSTM,Bidirectional,TimeDistributed\n",
    "from tensorflow.keras.optimizers import Adam\n",
    "\n",
    "embedding_dim= 128\n",
    "hidden_units = 128\n",
    "\n",
    "model = Sequential()\n",
    "model.add(Embedding(input_dim=vocab_size,output_dim=embedding_dim,input_length=max_len,mask_zero=True))\n",
    "model.add(Bidirectional(LSTM(hidden_units, return_sequences=True)))\n",
    "model.add(TimeDistributed(Dense(tag_size,activation='softmax')))\n",
    "\n",
    "model.compile(loss='categorical_crossentropy',optimizer=Adam(0.001),metrics=['accuracy'])\n",
    "model.fit(X_train,y_train,batch_size=128,epochs=8,validation_data=(X_test,y_test))"
   ]
  },
  {
   "cell_type": "code",
   "execution_count": null,
   "metadata": {
    "id": "5BARZptmrgwk",
    "outputId": "22e3921e-305d-4ab5-bf84-373a7fb888a5"
   },
   "outputs": [
    {
     "name": "stdout",
     "output_type": "stream",
     "text": [
      "88/88 [==============================] - 1s 7ms/step - loss: 0.0325 - accuracy: 0.9553\n",
      "\n",
      " 테스트 정확도 : 0.9553\n"
     ]
    }
   ],
   "source": [
    "print(\"\\n 테스트 정확도 : %.4f\" % (model.evaluate(X_test,y_test)[1]))"
   ]
  },
  {
   "cell_type": "code",
   "execution_count": null,
   "metadata": {
    "id": "omjVtKIMrgwl",
    "outputId": "3bea2daa-5c4f-46d2-aa27-c72f68c07ccf"
   },
   "outputs": [
    {
     "name": "stdout",
     "output_type": "stream",
     "text": [
      "단어             |실제값  |예측값\n",
      "-----------------------------------\n",
      "sarah            : B-PER   B-PER\n",
      "brady            : I-PER   I-PER\n",
      ",                : O       O\n",
      "whose            : O       O\n",
      "republican       : B-MISC  B-MISC\n",
      "husband          : O       O\n",
      "was              : O       O\n",
      "OOV              : O       O\n",
      "OOV              : O       O\n",
      "in               : O       O\n",
      "an               : O       O\n",
      "OOV              : O       O\n",
      "attempt          : O       O\n",
      "on               : O       O\n",
      "president        : O       O\n",
      "ronald           : B-PER   B-PER\n",
      "reagan           : I-PER   I-PER\n",
      ",                : O       O\n",
      "took             : O       O\n",
      "centre           : O       O\n",
      "stage            : O       O\n",
      "at               : O       O\n",
      "the              : O       O\n",
      "democratic       : B-MISC  B-MISC\n",
      "national         : I-MISC  I-MISC\n",
      "convention       : I-MISC  I-MISC\n",
      "on               : O       O\n",
      "monday           : O       O\n",
      "night            : O       O\n",
      "to               : O       O\n",
      "OOV              : O       O\n",
      "president        : O       O\n",
      "bill             : B-PER   B-PER\n",
      "clinton          : I-PER   I-PER\n",
      "'s               : O       O\n",
      "gun              : O       O\n",
      "control          : O       O\n",
      "efforts          : O       O\n",
      ".                : O       O\n"
     ]
    }
   ],
   "source": [
    "i = 10\n",
    "y_predicted = model.predict(np.array([X_test[i]]))\n",
    "y_predicted = np.argmax(y_predicted,axis=-1)\n",
    "labels = np.argmax(y_test[i],-1)\n",
    "print(\"{:15}|{:5}|{}\".format(\"단어\",\"실제값\",\"예측값\"))\n",
    "print(35 * \"-\")\n",
    "\n",
    "for word,tag,pred in zip(X_test[i],labels,y_predicted[0]):\n",
    "    if word != 0:\n",
    "        print(\"{:17}: {:7} {}\".format(index_to_word[word],index_to_ner[tag].upper(),index_to_ner[pred].upper()))"
   ]
  },
  {
   "cell_type": "code",
   "execution_count": 1,
   "metadata": {
    "executionInfo": {
     "elapsed": 3354,
     "status": "ok",
     "timestamp": 1656846448307,
     "user": {
      "displayName": "백선호",
      "userId": "11426685653262706714"
     },
     "user_tz": -540
    },
    "id": "rhp3NwC1rgwl"
   },
   "outputs": [],
   "source": [
    "import pandas as pd\n",
    "import numpy as np\n",
    "import matplotlib.pyplot as plt\n",
    "import urllib.request\n",
    "from tensorflow.keras.preprocessing.text import Tokenizer\n",
    "from tensorflow.keras.preprocessing.sequence import pad_sequences\n",
    "from sklearn.model_selection import train_test_split\n",
    "from tensorflow.keras.utils import to_categorical"
   ]
  },
  {
   "cell_type": "code",
   "execution_count": 2,
   "metadata": {
    "executionInfo": {
     "elapsed": 1671,
     "status": "ok",
     "timestamp": 1656846449974,
     "user": {
      "displayName": "백선호",
      "userId": "11426685653262706714"
     },
     "user_tz": -540
    },
    "id": "Jx6KA-2Krgwl"
   },
   "outputs": [],
   "source": [
    "urllib.request.urlretrieve(\"https://raw.githubusercontent.com/ukairia777/tensorflow-nlp-tutorial/main/12.%20RNN%20Sequence%20Labeling/dataset/ner_dataset.csv\", filename=\"ner_dataset.csv\")\n",
    "data = pd.read_csv(\"ner_dataset.csv\", encoding=\"latin1\")"
   ]
  },
  {
   "cell_type": "code",
   "execution_count": 3,
   "metadata": {
    "colab": {
     "base_uri": "https://localhost:8080/",
     "height": 206
    },
    "executionInfo": {
     "elapsed": 9,
     "status": "ok",
     "timestamp": 1656846449975,
     "user": {
      "displayName": "백선호",
      "userId": "11426685653262706714"
     },
     "user_tz": -540
    },
    "id": "N27DtYXErgwl",
    "outputId": "f2d018cf-438e-4505-ba4c-b1bbf519f72d"
   },
   "outputs": [
    {
     "data": {
      "text/html": [
       "<div>\n",
       "<style scoped>\n",
       "    .dataframe tbody tr th:only-of-type {\n",
       "        vertical-align: middle;\n",
       "    }\n",
       "\n",
       "    .dataframe tbody tr th {\n",
       "        vertical-align: top;\n",
       "    }\n",
       "\n",
       "    .dataframe thead th {\n",
       "        text-align: right;\n",
       "    }\n",
       "</style>\n",
       "<table border=\"1\" class=\"dataframe\">\n",
       "  <thead>\n",
       "    <tr style=\"text-align: right;\">\n",
       "      <th></th>\n",
       "      <th>Sentence #</th>\n",
       "      <th>Word</th>\n",
       "      <th>POS</th>\n",
       "      <th>Tag</th>\n",
       "    </tr>\n",
       "  </thead>\n",
       "  <tbody>\n",
       "    <tr>\n",
       "      <th>0</th>\n",
       "      <td>Sentence: 1</td>\n",
       "      <td>Thousands</td>\n",
       "      <td>NNS</td>\n",
       "      <td>O</td>\n",
       "    </tr>\n",
       "    <tr>\n",
       "      <th>1</th>\n",
       "      <td>NaN</td>\n",
       "      <td>of</td>\n",
       "      <td>IN</td>\n",
       "      <td>O</td>\n",
       "    </tr>\n",
       "    <tr>\n",
       "      <th>2</th>\n",
       "      <td>NaN</td>\n",
       "      <td>demonstrators</td>\n",
       "      <td>NNS</td>\n",
       "      <td>O</td>\n",
       "    </tr>\n",
       "    <tr>\n",
       "      <th>3</th>\n",
       "      <td>NaN</td>\n",
       "      <td>have</td>\n",
       "      <td>VBP</td>\n",
       "      <td>O</td>\n",
       "    </tr>\n",
       "    <tr>\n",
       "      <th>4</th>\n",
       "      <td>NaN</td>\n",
       "      <td>marched</td>\n",
       "      <td>VBN</td>\n",
       "      <td>O</td>\n",
       "    </tr>\n",
       "  </tbody>\n",
       "</table>\n",
       "</div>"
      ],
      "text/plain": [
       "    Sentence #           Word  POS Tag\n",
       "0  Sentence: 1      Thousands  NNS   O\n",
       "1          NaN             of   IN   O\n",
       "2          NaN  demonstrators  NNS   O\n",
       "3          NaN           have  VBP   O\n",
       "4          NaN        marched  VBN   O"
      ]
     },
     "execution_count": 3,
     "metadata": {},
     "output_type": "execute_result"
    }
   ],
   "source": [
    "data[:5]"
   ]
  },
  {
   "cell_type": "code",
   "execution_count": 4,
   "metadata": {
    "colab": {
     "base_uri": "https://localhost:8080/"
    },
    "executionInfo": {
     "elapsed": 296,
     "status": "ok",
     "timestamp": 1656846450264,
     "user": {
      "displayName": "백선호",
      "userId": "11426685653262706714"
     },
     "user_tz": -540
    },
    "id": "SfJk7GxUrgwm",
    "outputId": "caef61be-8f57-4336-9758-9b19762abe43"
   },
   "outputs": [
    {
     "name": "stdout",
     "output_type": "stream",
     "text": [
      "데이터프레임 행의 개수 : 1048575\n"
     ]
    }
   ],
   "source": [
    "print('데이터프레임 행의 개수 : {}'.format(len(data)))"
   ]
  },
  {
   "cell_type": "code",
   "execution_count": 5,
   "metadata": {
    "colab": {
     "base_uri": "https://localhost:8080/"
    },
    "executionInfo": {
     "elapsed": 402,
     "status": "ok",
     "timestamp": 1656846450663,
     "user": {
      "displayName": "백선호",
      "userId": "11426685653262706714"
     },
     "user_tz": -540
    },
    "id": "a_NUfp4Irgwm",
    "outputId": "a32fc05c-71c1-4625-e05a-c233f696965a"
   },
   "outputs": [
    {
     "name": "stdout",
     "output_type": "stream",
     "text": [
      "데이터에 Null 값이 있는지 유무 : True\n"
     ]
    }
   ],
   "source": [
    "print('데이터에 Null 값이 있는지 유무 : ' + str(data.isnull().values.any()))"
   ]
  },
  {
   "cell_type": "code",
   "execution_count": 6,
   "metadata": {
    "colab": {
     "base_uri": "https://localhost:8080/"
    },
    "executionInfo": {
     "elapsed": 7,
     "status": "ok",
     "timestamp": 1656846450941,
     "user": {
      "displayName": "백선호",
      "userId": "11426685653262706714"
     },
     "user_tz": -540
    },
    "id": "iBOa17Pcrgwm",
    "outputId": "3be0eb3d-78d2-4ac0-9087-2db51c5e6111"
   },
   "outputs": [
    {
     "name": "stdout",
     "output_type": "stream",
     "text": [
      "어떤 열에 Null값이 있는지 출력\n",
      "=================================\n"
     ]
    },
    {
     "data": {
      "text/plain": [
       "Sentence #    1000616\n",
       "Word                0\n",
       "POS                 0\n",
       "Tag                 0\n",
       "dtype: int64"
      ]
     },
     "execution_count": 6,
     "metadata": {},
     "output_type": "execute_result"
    }
   ],
   "source": [
    "print('어떤 열에 Null값이 있는지 출력')\n",
    "print('=================================')\n",
    "data.isnull().sum()"
   ]
  },
  {
   "cell_type": "code",
   "execution_count": 7,
   "metadata": {
    "colab": {
     "base_uri": "https://localhost:8080/"
    },
    "executionInfo": {
     "elapsed": 305,
     "status": "ok",
     "timestamp": 1656846451240,
     "user": {
      "displayName": "백선호",
      "userId": "11426685653262706714"
     },
     "user_tz": -540
    },
    "id": "CrTBevHWrgwm",
    "outputId": "f2e9c85e-f39d-4f9d-c354-e77a16cd2642"
   },
   "outputs": [
    {
     "name": "stdout",
     "output_type": "stream",
     "text": [
      "sentence # 열의 중복을 제거한 값의 개수 : 47959\n",
      "Word 열의 중복을 제거한 값의 개수 : 35178\n",
      "Tag 열의 중복을 제거한 값의 개수 : 17\n"
     ]
    }
   ],
   "source": [
    "print('sentence # 열의 중복을 제거한 값의 개수 : {}'.format(data['Sentence #'].nunique()))\n",
    "print('Word 열의 중복을 제거한 값의 개수 : {}'.format(data.Word.nunique()))\n",
    "print('Tag 열의 중복을 제거한 값의 개수 : {}'.format(data.Tag.nunique()))"
   ]
  },
  {
   "cell_type": "code",
   "execution_count": 8,
   "metadata": {
    "colab": {
     "base_uri": "https://localhost:8080/"
    },
    "executionInfo": {
     "elapsed": 285,
     "status": "ok",
     "timestamp": 1656846451522,
     "user": {
      "displayName": "백선호",
      "userId": "11426685653262706714"
     },
     "user_tz": -540
    },
    "id": "OHY4Of38rgwm",
    "outputId": "26a8f4ab-666a-4810-e3b9-4350642ae1b1"
   },
   "outputs": [
    {
     "name": "stdout",
     "output_type": "stream",
     "text": [
      "Tag  열의 각각의 값의 개수 카운트\n",
      "=======================================\n",
      "      Tag   count\n",
      "0   B-art     402\n",
      "1   B-eve     308\n",
      "2   B-geo   37644\n",
      "3   B-gpe   15870\n",
      "4   B-nat     201\n",
      "5   B-org   20143\n",
      "6   B-per   16990\n",
      "7   B-tim   20333\n",
      "8   I-art     297\n",
      "9   I-eve     253\n",
      "10  I-geo    7414\n",
      "11  I-gpe     198\n",
      "12  I-nat      51\n",
      "13  I-org   16784\n",
      "14  I-per   17251\n",
      "15  I-tim    6528\n",
      "16      O  887908\n"
     ]
    }
   ],
   "source": [
    "print(\"Tag  열의 각각의 값의 개수 카운트\")\n",
    "print(\"=======================================\")\n",
    "print(data.groupby('Tag').size().reset_index(name='count'))"
   ]
  },
  {
   "cell_type": "code",
   "execution_count": 9,
   "metadata": {
    "colab": {
     "base_uri": "https://localhost:8080/"
    },
    "executionInfo": {
     "elapsed": 305,
     "status": "ok",
     "timestamp": 1656846451826,
     "user": {
      "displayName": "백선호",
      "userId": "11426685653262706714"
     },
     "user_tz": -540
    },
    "id": "huaDdmpMrgwn",
    "outputId": "446836c9-9f5d-443b-deff-557eeacc3134"
   },
   "outputs": [
    {
     "name": "stdout",
     "output_type": "stream",
     "text": [
      "              Sentence #       Word  POS Tag\n",
      "1048570  Sentence: 47959       they  PRP   O\n",
      "1048571  Sentence: 47959  responded  VBD   O\n",
      "1048572  Sentence: 47959         to   TO   O\n",
      "1048573  Sentence: 47959        the   DT   O\n",
      "1048574  Sentence: 47959     attack   NN   O\n"
     ]
    }
   ],
   "source": [
    "data = data.fillna(method=\"ffill\")\n",
    "print(data.tail())"
   ]
  },
  {
   "cell_type": "code",
   "execution_count": 10,
   "metadata": {
    "colab": {
     "base_uri": "https://localhost:8080/"
    },
    "executionInfo": {
     "elapsed": 279,
     "status": "ok",
     "timestamp": 1656846452103,
     "user": {
      "displayName": "백선호",
      "userId": "11426685653262706714"
     },
     "user_tz": -540
    },
    "id": "kUyzE5c1rgwn",
    "outputId": "752ee534-5957-4e7b-9f5b-a8860a1ae94e"
   },
   "outputs": [
    {
     "name": "stdout",
     "output_type": "stream",
     "text": [
      "데이터에 Null 값이 있는지 유무 : False\n"
     ]
    }
   ],
   "source": [
    "print('데이터에 Null 값이 있는지 유무 : ' + str(data.isnull().values.any()))"
   ]
  },
  {
   "cell_type": "code",
   "execution_count": 11,
   "metadata": {
    "colab": {
     "base_uri": "https://localhost:8080/"
    },
    "executionInfo": {
     "elapsed": 1103,
     "status": "ok",
     "timestamp": 1656846453205,
     "user": {
      "displayName": "백선호",
      "userId": "11426685653262706714"
     },
     "user_tz": -540
    },
    "id": "J1mb5Fwrrgwn",
    "outputId": "642a846d-815d-40ae-e868-6e548f74ea52"
   },
   "outputs": [
    {
     "name": "stdout",
     "output_type": "stream",
     "text": [
      "Word 열의 중복을 제거한 값의 개수 : 31817\n"
     ]
    }
   ],
   "source": [
    "data['Word'] = data['Word'].str.lower()\n",
    "print('Word 열의 중복을 제거한 값의 개수 : {}'.format(data.Word.nunique()))"
   ]
  },
  {
   "cell_type": "code",
   "execution_count": 12,
   "metadata": {
    "colab": {
     "base_uri": "https://localhost:8080/"
    },
    "executionInfo": {
     "elapsed": 7,
     "status": "ok",
     "timestamp": 1656846453206,
     "user": {
      "displayName": "백선호",
      "userId": "11426685653262706714"
     },
     "user_tz": -540
    },
    "id": "b73w14Purgwn",
    "outputId": "37973bc1-e62b-466c-d36c-80e964e1eb3b"
   },
   "outputs": [
    {
     "name": "stdout",
     "output_type": "stream",
     "text": [
      "    Sentence #           Word  POS Tag\n",
      "0  Sentence: 1      thousands  NNS   O\n",
      "1  Sentence: 1             of   IN   O\n",
      "2  Sentence: 1  demonstrators  NNS   O\n",
      "3  Sentence: 1           have  VBP   O\n",
      "4  Sentence: 1        marched  VBN   O\n"
     ]
    }
   ],
   "source": [
    "print(data[:5])"
   ]
  },
  {
   "cell_type": "code",
   "execution_count": 13,
   "metadata": {
    "colab": {
     "base_uri": "https://localhost:8080/"
    },
    "executionInfo": {
     "elapsed": 8472,
     "status": "ok",
     "timestamp": 1656846461675,
     "user": {
      "displayName": "백선호",
      "userId": "11426685653262706714"
     },
     "user_tz": -540
    },
    "id": "0IyJ00aergwn",
    "outputId": "45f958ff-519a-42a7-d162-098be2010876"
   },
   "outputs": [
    {
     "name": "stdout",
     "output_type": "stream",
     "text": [
      "전체 샘플 개수 : 47959\n"
     ]
    }
   ],
   "source": [
    "func = lambda temp: [(w,t) for w,t in zip(temp['Word'].values.tolist(),temp[\"Tag\"].values.tolist())]\n",
    "tagged_sentences = [t for t in data.groupby(\"Sentence #\").apply(func)]\n",
    "print(\"전체 샘플 개수 : {}\".format(len(tagged_sentences)))"
   ]
  },
  {
   "cell_type": "code",
   "execution_count": 14,
   "metadata": {
    "colab": {
     "base_uri": "https://localhost:8080/"
    },
    "executionInfo": {
     "elapsed": 10,
     "status": "ok",
     "timestamp": 1656846461676,
     "user": {
      "displayName": "백선호",
      "userId": "11426685653262706714"
     },
     "user_tz": -540
    },
    "id": "7HkZFgaErgwo",
    "outputId": "5f39263f-0672-4834-fce2-0c5434c44d87"
   },
   "outputs": [
    {
     "name": "stdout",
     "output_type": "stream",
     "text": [
      "[('thousands', 'O'), ('of', 'O'), ('demonstrators', 'O'), ('have', 'O'), ('marched', 'O'), ('through', 'O'), ('london', 'B-geo'), ('to', 'O'), ('protest', 'O'), ('the', 'O'), ('war', 'O'), ('in', 'O'), ('iraq', 'B-geo'), ('and', 'O'), ('demand', 'O'), ('the', 'O'), ('withdrawal', 'O'), ('of', 'O'), ('british', 'B-gpe'), ('troops', 'O'), ('from', 'O'), ('that', 'O'), ('country', 'O'), ('.', 'O')]\n"
     ]
    }
   ],
   "source": [
    "print(tagged_sentences[0])"
   ]
  },
  {
   "cell_type": "code",
   "execution_count": 15,
   "metadata": {
    "executionInfo": {
     "elapsed": 406,
     "status": "ok",
     "timestamp": 1656846462074,
     "user": {
      "displayName": "백선호",
      "userId": "11426685653262706714"
     },
     "user_tz": -540
    },
    "id": "jVhovZBOrgwo"
   },
   "outputs": [],
   "source": [
    "sentences,ner_tags = [],[]\n",
    "for tagged_sentence in tagged_sentences:\n",
    "    sentence,tag_info = zip(*tagged_sentence)\n",
    "    sentences.append(list(sentence))\n",
    "    ner_tags.append(list(tag_info))"
   ]
  },
  {
   "cell_type": "code",
   "execution_count": 16,
   "metadata": {
    "colab": {
     "base_uri": "https://localhost:8080/"
    },
    "executionInfo": {
     "elapsed": 6,
     "status": "ok",
     "timestamp": 1656846462075,
     "user": {
      "displayName": "백선호",
      "userId": "11426685653262706714"
     },
     "user_tz": -540
    },
    "id": "qgpP-DrWrgwo",
    "outputId": "a75d485c-642d-4d5d-d9eb-3d7e1a95f632"
   },
   "outputs": [
    {
     "name": "stdout",
     "output_type": "stream",
     "text": [
      "['thousands', 'of', 'demonstrators', 'have', 'marched', 'through', 'london', 'to', 'protest', 'the', 'war', 'in', 'iraq', 'and', 'demand', 'the', 'withdrawal', 'of', 'british', 'troops', 'from', 'that', 'country', '.']\n",
      "['O', 'O', 'O', 'O', 'O', 'O', 'B-geo', 'O', 'O', 'O', 'O', 'O', 'B-geo', 'O', 'O', 'O', 'O', 'O', 'B-gpe', 'O', 'O', 'O', 'O', 'O']\n"
     ]
    }
   ],
   "source": [
    "print(sentences[0])\n",
    "print(ner_tags[0])"
   ]
  },
  {
   "cell_type": "code",
   "execution_count": 17,
   "metadata": {
    "colab": {
     "base_uri": "https://localhost:8080/"
    },
    "executionInfo": {
     "elapsed": 308,
     "status": "ok",
     "timestamp": 1656846462379,
     "user": {
      "displayName": "백선호",
      "userId": "11426685653262706714"
     },
     "user_tz": -540
    },
    "id": "CAClqiZWrgwo",
    "outputId": "06fdd8fc-e3f9-4916-9723-3c9b722ac0cb"
   },
   "outputs": [
    {
     "name": "stdout",
     "output_type": "stream",
     "text": [
      "['she', 'had', 'once', 'received', 'a', 'kidney', 'transplant', '.']\n",
      "['O', 'O', 'O', 'O', 'O', 'O', 'O', 'O']\n"
     ]
    }
   ],
   "source": [
    "print(sentences[98])\n",
    "print(ner_tags[98])"
   ]
  },
  {
   "cell_type": "code",
   "execution_count": 18,
   "metadata": {
    "colab": {
     "base_uri": "https://localhost:8080/",
     "height": 316
    },
    "executionInfo": {
     "elapsed": 316,
     "status": "ok",
     "timestamp": 1656846462693,
     "user": {
      "displayName": "백선호",
      "userId": "11426685653262706714"
     },
     "user_tz": -540
    },
    "id": "9SrWS8Czrgwo",
    "outputId": "a32bb41b-ba85-4587-c254-5649c089a422"
   },
   "outputs": [
    {
     "name": "stdout",
     "output_type": "stream",
     "text": [
      "샘플의 최대 길이 : 104\n",
      "샘플의 평균 길이 : 21.000000\n"
     ]
    },
    {
     "data": {
      "image/png": "[encoded data removed]",
      "text/plain": [
       "<Figure size 432x288 with 1 Axes>"
      ]
     },
     "metadata": {
      "needs_background": "light"
     },
     "output_type": "display_data"
    }
   ],
   "source": [
    "print('샘플의 최대 길이 : %d' % max(len(l) for l in sentences))\n",
    "print('샘플의 평균 길이 : %f'%(sum(map(len,sentences))//len(sentences)))\n",
    "plt.hist([len(s) for s in sentences], bins =50)\n",
    "plt.xlabel('length of samples')\n",
    "plt.ylabel('number of samples')\n",
    "plt.show()"
   ]
  },
  {
   "cell_type": "code",
   "execution_count": 19,
   "metadata": {
    "executionInfo": {
     "elapsed": 2188,
     "status": "ok",
     "timestamp": 1656846464879,
     "user": {
      "displayName": "백선호",
      "userId": "11426685653262706714"
     },
     "user_tz": -540
    },
    "id": "HO357-CSrgwp"
   },
   "outputs": [],
   "source": [
    "src_tokenizer = Tokenizer(oov_token=\"OOV\")\n",
    "tar_tokenizer = Tokenizer(lower=False)\n",
    "src_tokenizer.fit_on_texts(sentences)\n",
    "tar_tokenizer.fit_on_texts(ner_tags)"
   ]
  },
  {
   "cell_type": "code",
   "execution_count": 20,
   "metadata": {
    "colab": {
     "base_uri": "https://localhost:8080/"
    },
    "executionInfo": {
     "elapsed": 6,
     "status": "ok",
     "timestamp": 1656846464879,
     "user": {
      "displayName": "백선호",
      "userId": "11426685653262706714"
     },
     "user_tz": -540
    },
    "id": "70G7xIWOrgwp",
    "outputId": "26deb9c7-0e88-4912-856b-1f241ac4abce"
   },
   "outputs": [
    {
     "name": "stdout",
     "output_type": "stream",
     "text": [
      "단어 집합의 크기 : 31819\n",
      "개체명 태깅 정보 집합의 크기 : 18\n"
     ]
    }
   ],
   "source": [
    "vocab_size = len(src_tokenizer.word_index) + 1\n",
    "tag_size = len(tar_tokenizer.word_index) + 1\n",
    "print('단어 집합의 크기 : {}'.format(vocab_size))\n",
    "print('개체명 태깅 정보 집합의 크기 : {}'.format(tag_size))"
   ]
  },
  {
   "cell_type": "code",
   "execution_count": 21,
   "metadata": {
    "colab": {
     "base_uri": "https://localhost:8080/"
    },
    "executionInfo": {
     "elapsed": 6,
     "status": "ok",
     "timestamp": 1656846464880,
     "user": {
      "displayName": "백선호",
      "userId": "11426685653262706714"
     },
     "user_tz": -540
    },
    "id": "zPGiDHC9rgwp",
    "outputId": "65a5c1a9-3e3e-4be4-846d-99443afed9cf"
   },
   "outputs": [
    {
     "name": "stdout",
     "output_type": "stream",
     "text": [
      "단어 OOV의 인덱스 : 1\n"
     ]
    }
   ],
   "source": [
    "print('단어 OOV의 인덱스 : {}'.format(src_tokenizer.word_index['OOV']))"
   ]
  },
  {
   "cell_type": "code",
   "execution_count": 22,
   "metadata": {
    "executionInfo": {
     "elapsed": 2236,
     "status": "ok",
     "timestamp": 1656846467113,
     "user": {
      "displayName": "백선호",
      "userId": "11426685653262706714"
     },
     "user_tz": -540
    },
    "id": "DBVMjUWmrgwp"
   },
   "outputs": [],
   "source": [
    "X_data = src_tokenizer.texts_to_sequences(sentences)\n",
    "y_data = tar_tokenizer.texts_to_sequences(ner_tags)"
   ]
  },
  {
   "cell_type": "code",
   "execution_count": 23,
   "metadata": {
    "colab": {
     "base_uri": "https://localhost:8080/"
    },
    "executionInfo": {
     "elapsed": 9,
     "status": "ok",
     "timestamp": 1656846467114,
     "user": {
      "displayName": "백선호",
      "userId": "11426685653262706714"
     },
     "user_tz": -540
    },
    "id": "hF3J51M_rgwp",
    "outputId": "e6cbb5bf-2087-4689-d3be-2cb98f9cb3fd"
   },
   "outputs": [
    {
     "name": "stdout",
     "output_type": "stream",
     "text": [
      "[254, 6, 967, 16, 1795, 238, 468, 7, 523, 2, 129, 5, 61, 9, 571, 2, 833, 6, 186, 90, 22, 15, 56, 3]\n",
      "[1, 1, 1, 1, 1, 1, 2, 1, 1, 1, 1, 1, 2, 1, 1, 1, 1, 1, 8, 1, 1, 1, 1, 1]\n"
     ]
    }
   ],
   "source": [
    "print(X_data[0])\n",
    "print(y_data[0])"
   ]
  },
  {
   "cell_type": "code",
   "execution_count": 24,
   "metadata": {
    "colab": {
     "base_uri": "https://localhost:8080/"
    },
    "executionInfo": {
     "elapsed": 7,
     "status": "ok",
     "timestamp": 1656846467114,
     "user": {
      "displayName": "백선호",
      "userId": "11426685653262706714"
     },
     "user_tz": -540
    },
    "id": "NSA_ok52rgwp",
    "outputId": "86767a6f-e6f0-44df-a24f-bda754399a49"
   },
   "outputs": [
    {
     "name": "stdout",
     "output_type": "stream",
     "text": [
      "{1: 'O', 2: 'B-geo', 3: 'B-tim', 4: 'B-org', 5: 'I-per', 6: 'B-per', 7: 'I-org', 8: 'B-gpe', 9: 'I-geo', 10: 'I-tim', 11: 'B-art', 12: 'B-eve', 13: 'I-art', 14: 'I-eve', 15: 'B-nat', 16: 'I-gpe', 17: 'I-nat', 0: 'PAD'}\n"
     ]
    }
   ],
   "source": [
    "word_to_index = src_tokenizer.word_index\n",
    "index_to_word = src_tokenizer.index_word\n",
    "ner_to_index = tar_tokenizer.word_index\n",
    "index_to_ner = tar_tokenizer.index_word\n",
    "index_to_ner[0] = 'PAD'\n",
    "\n",
    "print(index_to_ner)"
   ]
  },
  {
   "cell_type": "code",
   "execution_count": 25,
   "metadata": {
    "colab": {
     "base_uri": "https://localhost:8080/"
    },
    "executionInfo": {
     "elapsed": 5,
     "status": "ok",
     "timestamp": 1656846467114,
     "user": {
      "displayName": "백선호",
      "userId": "11426685653262706714"
     },
     "user_tz": -540
    },
    "id": "swzA-k-7rgwq",
    "outputId": "05476527-0e2f-4eed-de64-2cc871072c3c"
   },
   "outputs": [
    {
     "name": "stdout",
     "output_type": "stream",
     "text": [
      "기존의 문장 : ['thousands', 'of', 'demonstrators', 'have', 'marched', 'through', 'london', 'to', 'protest', 'the', 'war', 'in', 'iraq', 'and', 'demand', 'the', 'withdrawal', 'of', 'british', 'troops', 'from', 'that', 'country', '.']\n",
      "디코딩 문장 : ['thousands', 'of', 'demonstrators', 'have', 'marched', 'through', 'london', 'to', 'protest', 'the', 'war', 'in', 'iraq', 'and', 'demand', 'the', 'withdrawal', 'of', 'british', 'troops', 'from', 'that', 'country', '.']\n"
     ]
    }
   ],
   "source": [
    "decoded = []\n",
    "for index in X_data[0]:\n",
    "    decoded.append(index_to_word[index])\n",
    "print('기존의 문장 : {}'.format(sentences[0]))\n",
    "print('디코딩 문장 : {}'.format(decoded))"
   ]
  },
  {
   "cell_type": "code",
   "execution_count": 26,
   "metadata": {
    "executionInfo": {
     "elapsed": 964,
     "status": "ok",
     "timestamp": 1656846468076,
     "user": {
      "displayName": "백선호",
      "userId": "11426685653262706714"
     },
     "user_tz": -540
    },
    "id": "T5kt2vpjrgwq"
   },
   "outputs": [],
   "source": [
    "max_len = 70\n",
    "X_data = pad_sequences(X_data,padding='post',maxlen=max_len)\n",
    "y_data = pad_sequences(y_data, padding='post', maxlen=max_len)"
   ]
  },
  {
   "cell_type": "code",
   "execution_count": 27,
   "metadata": {
    "executionInfo": {
     "elapsed": 3,
     "status": "ok",
     "timestamp": 1656846468076,
     "user": {
      "displayName": "백선호",
      "userId": "11426685653262706714"
     },
     "user_tz": -540
    },
    "id": "bxjpiNv6rgwq"
   },
   "outputs": [],
   "source": [
    "X_train,X_test,y_train_int,y_test_int = train_test_split(X_data,y_data,test_size=.2,random_state=777)"
   ]
  },
  {
   "cell_type": "code",
   "execution_count": 28,
   "metadata": {
    "executionInfo": {
     "elapsed": 278,
     "status": "ok",
     "timestamp": 1656846468352,
     "user": {
      "displayName": "백선호",
      "userId": "11426685653262706714"
     },
     "user_tz": -540
    },
    "id": "PehbF81vrgwq"
   },
   "outputs": [],
   "source": [
    "y_train = to_categorical(y_train_int,num_classes=tag_size)\n",
    "y_test = to_categorical(y_test_int,num_classes=tag_size)"
   ]
  },
  {
   "cell_type": "code",
   "execution_count": 29,
   "metadata": {
    "colab": {
     "base_uri": "https://localhost:8080/"
    },
    "executionInfo": {
     "elapsed": 2,
     "status": "ok",
     "timestamp": 1656846468352,
     "user": {
      "displayName": "백선호",
      "userId": "11426685653262706714"
     },
     "user_tz": -540
    },
    "id": "ykSXoeNMrgwq",
    "outputId": "1115e95d-f868-4a96-8f41-447418dec0b5"
   },
   "outputs": [
    {
     "name": "stdout",
     "output_type": "stream",
     "text": [
      "훈련 샘플 문장의 크기 : (38367, 70)\n",
      "훈련 샘플 레이블(정수 인코딩)의 크기 : (38367, 70)\n",
      "훈련 샘플 레이블(원-핫 인코딩)의 크기 : (38367, 70, 18)\n",
      "테스트 샘플 문장의 크기 : (9592, 70)\n",
      "테스트 샘플 레이블(정수 인코딩)의 크기 : (9592, 70)\n",
      "테스트 샘플 레이블(원-핫 인코딩)의 크기 : (9592, 70, 18)\n"
     ]
    }
   ],
   "source": [
    "print('훈련 샘플 문장의 크기 : {}'.format(X_train.shape))\n",
    "print('훈련 샘플 레이블(정수 인코딩)의 크기 : {}'.format(y_train_int.shape))\n",
    "print('훈련 샘플 레이블(원-핫 인코딩)의 크기 : {}'.format(y_train.shape))\n",
    "print('테스트 샘플 문장의 크기 : {}'.format(X_test.shape))\n",
    "print('테스트 샘플 레이블(정수 인코딩)의 크기 : {}'.format(y_test_int.shape))\n",
    "print('테스트 샘플 레이블(원-핫 인코딩)의 크기 : {}'.format(y_test.shape))"
   ]
  },
  {
   "cell_type": "code",
   "execution_count": 30,
   "metadata": {
    "colab": {
     "base_uri": "https://localhost:8080/"
    },
    "executionInfo": {
     "elapsed": 83370,
     "status": "ok",
     "timestamp": 1656846551720,
     "user": {
      "displayName": "백선호",
      "userId": "11426685653262706714"
     },
     "user_tz": -540
    },
    "id": "jysp7dptrgwq",
    "outputId": "10682dec-95c0-4237-d135-249bf76a42b1"
   },
   "outputs": [
    {
     "name": "stdout",
     "output_type": "stream",
     "text": [
      "Epoch 1/6\n",
      "270/270 [==============================] - 22s 40ms/step - loss: 0.1707 - accuracy: 0.8773 - val_loss: 0.0762 - val_accuracy: 0.9323\n",
      "Epoch 2/6\n",
      "270/270 [==============================] - 7s 28ms/step - loss: 0.0533 - accuracy: 0.9510 - val_loss: 0.0479 - val_accuracy: 0.9540\n",
      "Epoch 3/6\n",
      "270/270 [==============================] - 7s 28ms/step - loss: 0.0367 - accuracy: 0.9649 - val_loss: 0.0442 - val_accuracy: 0.9565\n",
      "Epoch 4/6\n",
      "270/270 [==============================] - 7s 27ms/step - loss: 0.0298 - accuracy: 0.9706 - val_loss: 0.0426 - val_accuracy: 0.9586\n",
      "Epoch 5/6\n",
      "270/270 [==============================] - 8s 28ms/step - loss: 0.0257 - accuracy: 0.9740 - val_loss: 0.0439 - val_accuracy: 0.9581\n",
      "Epoch 6/6\n",
      "270/270 [==============================] - 7s 27ms/step - loss: 0.0227 - accuracy: 0.9767 - val_loss: 0.0444 - val_accuracy: 0.9593\n"
     ]
    }
   ],
   "source": [
    "from tensorflow.keras.models import Sequential\n",
    "from tensorflow.keras.layers import Dense,LSTM,InputLayer,Bidirectional,TimeDistributed,Embedding\n",
    "from tensorflow.keras.optimizers import Adam\n",
    "\n",
    "embedding_dim =128\n",
    "hidden_units = 256\n",
    "model = Sequential()\n",
    "model.add(Embedding(vocab_size,embedding_dim,mask_zero=True))\n",
    "model.add(Bidirectional(LSTM(hidden_units,return_sequences=True)))\n",
    "model.add(TimeDistributed(Dense(tag_size,activation=('softmax'))))\n",
    "model.compile(loss='categorical_crossentropy',optimizer=Adam(0.001),metrics=['accuracy'])\n",
    "\n",
    "history = model.fit(X_train,y_train,batch_size=128,epochs=6,validation_split=0.1)"
   ]
  },
  {
   "cell_type": "code",
   "execution_count": 31,
   "metadata": {
    "colab": {
     "base_uri": "https://localhost:8080/"
    },
    "executionInfo": {
     "elapsed": 2332,
     "status": "ok",
     "timestamp": 1656846554037,
     "user": {
      "displayName": "백선호",
      "userId": "11426685653262706714"
     },
     "user_tz": -540
    },
    "id": "SVMIiOburgwr",
    "outputId": "715520b8-0f0d-4409-a9e2-17c44cdfd144"
   },
   "outputs": [
    {
     "name": "stdout",
     "output_type": "stream",
     "text": [
      "단어             |실제값  |예측값\n",
      "-----------------------------------\n",
      "the              : O       O\n",
      "statement        : O       O\n",
      "came             : O       O\n",
      "as               : O       O\n",
      "u.n.             : B-org   B-org\n",
      "secretary-general: I-org   I-org\n",
      "kofi             : B-per   B-per\n",
      "annan            : I-per   I-per\n",
      "met              : O       O\n",
      "with             : O       O\n",
      "officials        : O       O\n",
      "in               : O       O\n",
      "amman            : B-geo   B-geo\n",
      "to               : O       O\n",
      "discuss          : O       O\n",
      "wednesday        : B-tim   B-tim\n",
      "'s               : O       O\n",
      "attacks          : O       O\n",
      ".                : O       O\n"
     ]
    }
   ],
   "source": [
    "i = 13\n",
    "y_predicted = model.predict(np.array([X_test[i]]))\n",
    "y_predicted = np.argmax(y_predicted,axis=-1)\n",
    "labels = np.argmax(y_test[i], -1)\n",
    "print(\"{:15}|{:5}|{}\".format(\"단어\",\"실제값\",\"예측값\"))\n",
    "print(35 * \"-\")\n",
    "for word,tag,pred in zip(X_test[i],labels, y_predicted[0]):\n",
    "    if word != 0:\n",
    "        print(\"{:17}: {:7} {}\".format(index_to_word[word],index_to_ner[tag],index_to_ner[pred]))"
   ]
  },
  {
   "cell_type": "code",
   "execution_count": 32,
   "metadata": {
    "colab": {
     "base_uri": "https://localhost:8080/"
    },
    "executionInfo": {
     "elapsed": 10,
     "status": "ok",
     "timestamp": 1656846554038,
     "user": {
      "displayName": "백선호",
      "userId": "11426685653262706714"
     },
     "user_tz": -540
    },
    "id": "hdzyJ87Rrgwr",
    "outputId": "f15feb23-bb3e-4554-92e1-8e3c258c43a8"
   },
   "outputs": [
    {
     "name": "stdout",
     "output_type": "stream",
     "text": [
      "예측값 : ['O', 'O', 'O', 'O', 'O', 'O', 'O', 'O', 'O', 'O', 'O', 'O', 'O', 'O', 'O', 'O', 'O', 'O', 'O', 'O', 'O', 'O', 'O', 'O', 'O', 'O', 'O', 'O', 'O', 'O', 'O', 'O', 'O', 'O', 'O', 'O', 'O', 'O', 'O']\n"
     ]
    }
   ],
   "source": [
    "labels = ['B-PER', 'I-PER', 'O', 'O', 'B-MISC', 'O','O','O','O','O','O','O','O','O','O','B-PER','I-PER','O','O','O','O','O','O','B-MISC','I-MISC','I-MISC','O','O','O','O','O','O','B-PER','I-PER','O','O','O','O','O']\n",
    "predicted = ['O'] * len(labels) \n",
    "print('예측값 :',predicted)"
   ]
  },
  {
   "cell_type": "code",
   "execution_count": 33,
   "metadata": {
    "colab": {
     "base_uri": "https://localhost:8080/"
    },
    "executionInfo": {
     "elapsed": 8,
     "status": "ok",
     "timestamp": 1656846554038,
     "user": {
      "displayName": "백선호",
      "userId": "11426685653262706714"
     },
     "user_tz": -540
    },
    "id": "3piPRhswrgwr",
    "outputId": "3863a784-1905-4154-bf16-a2399a2e74e3"
   },
   "outputs": [
    {
     "name": "stdout",
     "output_type": "stream",
     "text": [
      "정확도 : 74.4%\n"
     ]
    }
   ],
   "source": [
    "hit = 0\n",
    "for tag,pred in zip(labels,predicted):\n",
    "    if tag == pred:\n",
    "        hit +=1\n",
    "accuracy = hit/len(labels)\n",
    "print('정확도 : {:.1%}'.format(accuracy))"
   ]
  },
  {
   "cell_type": "code",
   "execution_count": 34,
   "metadata": {
    "colab": {
     "base_uri": "https://localhost:8080/"
    },
    "executionInfo": {
     "elapsed": 5633,
     "status": "ok",
     "timestamp": 1656846559665,
     "user": {
      "displayName": "백선호",
      "userId": "11426685653262706714"
     },
     "user_tz": -540
    },
    "id": "P8Ko3SYUsJLL",
    "outputId": "9b42712b-2b55-4624-bd35-279eed5c2c3e"
   },
   "outputs": [
    {
     "name": "stdout",
     "output_type": "stream",
     "text": [
      "Requirement already satisfied: seqeval in c:\\users\\sunho\\anaconda3\\lib\\site-packages (1.2.2)\n",
      "Requirement already satisfied: scikit-learn>=0.21.3 in c:\\users\\sunho\\anaconda3\\lib\\site-packages (from seqeval) (0.23.1)\n",
      "Requirement already satisfied: numpy>=1.14.0 in c:\\users\\sunho\\anaconda3\\lib\\site-packages (from seqeval) (1.19.5)\n",
      "Requirement already satisfied: joblib>=0.11 in c:\\users\\sunho\\anaconda3\\lib\\site-packages (from scikit-learn>=0.21.3->seqeval) (0.16.0)\n",
      "Requirement already satisfied: threadpoolctl>=2.0.0 in c:\\users\\sunho\\anaconda3\\lib\\site-packages (from scikit-learn>=0.21.3->seqeval) (2.1.0)\n",
      "Requirement already satisfied: scipy>=0.19.1 in c:\\users\\sunho\\anaconda3\\lib\\site-packages (from scikit-learn>=0.21.3->seqeval) (1.4.1)\n",
      "Note: you may need to restart the kernel to use updated packages.\n"
     ]
    }
   ],
   "source": [
    "pip install seqeval"
   ]
  },
  {
   "cell_type": "code",
   "execution_count": 35,
   "metadata": {
    "colab": {
     "base_uri": "https://localhost:8080/"
    },
    "executionInfo": {
     "elapsed": 11,
     "status": "ok",
     "timestamp": 1656846559666,
     "user": {
      "displayName": "백선호",
      "userId": "11426685653262706714"
     },
     "user_tz": -540
    },
    "id": "5kp_KsoRrgwr",
    "outputId": "b9fb8630-bd72-4128-9a5e-c3cd2c267128"
   },
   "outputs": [
    {
     "name": "stdout",
     "output_type": "stream",
     "text": [
      "              precision    recall  f1-score   support\n",
      "\n",
      "        MISC       0.00      0.00      0.00         2\n",
      "         PER       0.00      0.00      0.00         3\n",
      "\n",
      "   micro avg       0.00      0.00      0.00         5\n",
      "   macro avg       0.00      0.00      0.00         5\n",
      "weighted avg       0.00      0.00      0.00         5\n",
      "\n"
     ]
    },
    {
     "name": "stderr",
     "output_type": "stream",
     "text": [
      "C:\\Users\\sunho\\anaconda3\\lib\\site-packages\\seqeval\\metrics\\v1.py:57: UndefinedMetricWarning: Precision and F-score are ill-defined and being set to 0.0 in labels with no predicted samples. Use `zero_division` parameter to control this behavior.\n",
      "  _warn_prf(average, modifier, msg_start, len(result))\n",
      "C:\\Users\\sunho\\anaconda3\\lib\\site-packages\\seqeval\\metrics\\v1.py:57: UndefinedMetricWarning: Precision and F-score are ill-defined and being set to 0.0 due to no predicted samples. Use `zero_division` parameter to control this behavior.\n",
      "  _warn_prf(average, modifier, msg_start, len(result))\n"
     ]
    }
   ],
   "source": [
    "from seqeval.metrics import classification_report\n",
    "print(classification_report([labels],[predicted]))"
   ]
  },
  {
   "cell_type": "code",
   "execution_count": 36,
   "metadata": {
    "colab": {
     "base_uri": "https://localhost:8080/"
    },
    "executionInfo": {
     "elapsed": 7,
     "status": "ok",
     "timestamp": 1656846559666,
     "user": {
      "displayName": "백선호",
      "userId": "11426685653262706714"
     },
     "user_tz": -540
    },
    "id": "EddyNwCQrgwr",
    "outputId": "a314faee-af15-4ef7-9f3d-5c1aa1eec0df"
   },
   "outputs": [
    {
     "name": "stdout",
     "output_type": "stream",
     "text": [
      "              precision    recall  f1-score   support\n",
      "\n",
      "        MISC       1.00      0.50      0.67         2\n",
      "         PER       1.00      0.67      0.80         3\n",
      "\n",
      "   micro avg       1.00      0.60      0.75         5\n",
      "   macro avg       1.00      0.58      0.73         5\n",
      "weighted avg       1.00      0.60      0.75         5\n",
      "\n"
     ]
    }
   ],
   "source": [
    "labels = ['B-PER', 'I-PER', 'O', 'O', 'B-MISC', 'O','O','O','O','O','O','O','O','O','O','B-PER','I-PER','O','O','O','O','O','O','B-MISC','I-MISC','I-MISC','O','O','O','O','O','O','B-PER','I-PER','O','O','O','O','O']\n",
    "predicted = ['B-PER', 'I-PER', 'O', 'O', 'B-MISC', 'O','O','O','O','O','O','O','O','O','O','B-PER','I-PER','O','O','O','O','O','O','O','O','O','O','O','O','O','O','O','O','O','O','O','O','O','O']\n",
    "print(classification_report([labels], [predicted]))"
   ]
  },
  {
   "cell_type": "code",
   "execution_count": 37,
   "metadata": {
    "colab": {
     "base_uri": "https://localhost:8080/"
    },
    "executionInfo": {
     "elapsed": 32338,
     "status": "ok",
     "timestamp": 1656846591999,
     "user": {
      "displayName": "백선호",
      "userId": "11426685653262706714"
     },
     "user_tz": -540
    },
    "id": "WqmV2WtRrgws",
    "outputId": "c339d289-36bc-407e-d27e-a1175d12f349"
   },
   "outputs": [
    {
     "name": "stdout",
     "output_type": "stream",
     "text": [
      "F1 score: 79.0%\n",
      "              precision    recall  f1-score   support\n",
      "\n",
      "         art       0.22      0.03      0.06        63\n",
      "         eve       0.67      0.27      0.38        52\n",
      "         geo       0.82      0.85      0.84      7620\n",
      "         gpe       0.96      0.94      0.95      3145\n",
      "         nat       0.60      0.24      0.35        37\n",
      "         org       0.61      0.55      0.58      4033\n",
      "         per       0.72      0.71      0.72      3545\n",
      "         tim       0.87      0.84      0.85      4067\n",
      "\n",
      "   micro avg       0.80      0.78      0.79     22562\n",
      "   macro avg       0.68      0.56      0.59     22562\n",
      "weighted avg       0.79      0.78      0.79     22562\n",
      "\n"
     ]
    }
   ],
   "source": [
    "from seqeval.metrics import f1_score,classification_report\n",
    "\n",
    "def sequences_to_tag(sequences):\n",
    "    result = []\n",
    "    for sequence in sequences:\n",
    "        word_sequence = []\n",
    "        for pred in sequence:\n",
    "            pred_index = np.argmax(pred)\n",
    "            word_sequence.append(index_to_ner[pred_index].replace(\"PAD\",\"O\"))\n",
    "        result.append(word_sequence)\n",
    "    return result\n",
    "y_predicted = model.predict([X_test])\n",
    "pred_tags = sequences_to_tag(y_predicted)\n",
    "test_tags = sequences_to_tag(y_test)\n",
    "print(\"F1 score: {:.1%}\".format(f1_score(test_tags,pred_tags)))\n",
    "print(classification_report(test_tags,pred_tags))"
   ]
  },
  {
   "cell_type": "code",
   "execution_count": 38,
   "metadata": {
    "colab": {
     "base_uri": "https://localhost:8080/"
    },
    "executionInfo": {
     "elapsed": 4564,
     "status": "ok",
     "timestamp": 1656846596559,
     "user": {
      "displayName": "백선호",
      "userId": "11426685653262706714"
     },
     "user_tz": -540
    },
    "id": "dY3GQcG4rgws",
    "outputId": "f7037632-4d08-4561-bcd1-1de0f6bfc54b"
   },
   "outputs": [
    {
     "name": "stdout",
     "output_type": "stream",
     "text": [
      "Requirement already satisfied: keras-crf in c:\\users\\sunho\\anaconda3\\lib\\site-packages (0.3.0)\n",
      "Requirement already satisfied: tensorflow in c:\\users\\sunho\\anaconda3\\lib\\site-packages (from keras-crf) (2.7.0)\n",
      "Requirement already satisfied: tensorflow-addons in c:\\users\\sunho\\anaconda3\\lib\\site-packages (from keras-crf) (0.17.1)\n",
      "Requirement already satisfied: wrapt>=1.11.0 in c:\\users\\sunho\\anaconda3\\lib\\site-packages (from tensorflow->keras-crf) (1.12.1)\n",
      "Requirement already satisfied: numpy>=1.14.5 in c:\\users\\sunho\\anaconda3\\lib\\site-packages (from tensorflow->keras-crf) (1.19.5)\n",
      "Requirement already satisfied: google-pasta>=0.1.1 in c:\\users\\sunho\\anaconda3\\lib\\site-packages (from tensorflow->keras-crf) (0.2.0)\n",
      "Requirement already satisfied: tensorflow-io-gcs-filesystem>=0.21.0 in c:\\users\\sunho\\anaconda3\\lib\\site-packages (from tensorflow->keras-crf) (0.26.0)\n",
      "Requirement already satisfied: h5py>=2.9.0 in c:\\users\\sunho\\anaconda3\\lib\\site-packages (from tensorflow->keras-crf) (3.1.0)\n",
      "Requirement already satisfied: flatbuffers<3.0,>=1.12 in c:\\users\\sunho\\anaconda3\\lib\\site-packages (from tensorflow->keras-crf) (1.12)\n",
      "Requirement already satisfied: termcolor>=1.1.0 in c:\\users\\sunho\\anaconda3\\lib\\site-packages (from tensorflow->keras-crf) (1.1.0)\n",
      "Requirement already satisfied: typing-extensions>=3.6.6 in c:\\users\\sunho\\anaconda3\\lib\\site-packages (from tensorflow->keras-crf) (3.7.4.2)\n",
      "Requirement already satisfied: opt-einsum>=2.3.2 in c:\\users\\sunho\\anaconda3\\lib\\site-packages (from tensorflow->keras-crf) (3.3.0)\n",
      "Requirement already satisfied: astunparse>=1.6.0 in c:\\users\\sunho\\anaconda3\\lib\\site-packages (from tensorflow->keras-crf) (1.6.3)\n",
      "Requirement already satisfied: keras-preprocessing>=1.1.1 in c:\\users\\sunho\\anaconda3\\lib\\site-packages (from tensorflow->keras-crf) (1.1.2)\n",
      "Requirement already satisfied: protobuf>=3.9.2 in c:\\users\\sunho\\anaconda3\\lib\\site-packages (from tensorflow->keras-crf) (3.13.0)\n",
      "Requirement already satisfied: six>=1.12.0 in c:\\users\\sunho\\anaconda3\\lib\\site-packages (from tensorflow->keras-crf) (1.15.0)\n",
      "Requirement already satisfied: absl-py>=0.4.0 in c:\\users\\sunho\\anaconda3\\lib\\site-packages (from tensorflow->keras-crf) (0.10.0)\n",
      "Requirement already satisfied: libclang>=9.0.1 in c:\\users\\sunho\\anaconda3\\lib\\site-packages (from tensorflow->keras-crf) (14.0.1)\n",
      "Requirement already satisfied: tensorflow-estimator<2.8,~=2.7.0rc0 in c:\\users\\sunho\\anaconda3\\lib\\site-packages (from tensorflow->keras-crf) (2.7.0)\n",
      "Requirement already satisfied: wheel<1.0,>=0.32.0 in c:\\users\\sunho\\anaconda3\\lib\\site-packages (from tensorflow->keras-crf) (0.37.1)\n",
      "Requirement already satisfied: gast<0.5.0,>=0.2.1 in c:\\users\\sunho\\anaconda3\\lib\\site-packages (from tensorflow->keras-crf) (0.4.0)\n",
      "Requirement already satisfied: keras<2.8,>=2.7.0rc0 in c:\\users\\sunho\\anaconda3\\lib\\site-packages (from tensorflow->keras-crf) (2.7.0)\n",
      "Requirement already satisfied: grpcio<2.0,>=1.24.3 in c:\\users\\sunho\\anaconda3\\lib\\site-packages (from tensorflow->keras-crf) (1.46.3)\n",
      "Requirement already satisfied: tensorboard~=2.6 in c:\\users\\sunho\\anaconda3\\lib\\site-packages (from tensorflow->keras-crf) (2.6.0)\n",
      "Requirement already satisfied: packaging in c:\\users\\sunho\\anaconda3\\lib\\site-packages (from tensorflow-addons->keras-crf) (20.4)\n",
      "Requirement already satisfied: typeguard>=2.7 in c:\\users\\sunho\\anaconda3\\lib\\site-packages (from tensorflow-addons->keras-crf) (2.13.3)\n",
      "Requirement already satisfied: setuptools in c:\\users\\sunho\\anaconda3\\lib\\site-packages (from protobuf>=3.9.2->tensorflow->keras-crf) (49.2.0.post20200714)\n",
      "Requirement already satisfied: werkzeug>=0.11.15 in c:\\users\\sunho\\anaconda3\\lib\\site-packages (from tensorboard~=2.6->tensorflow->keras-crf) (1.0.1)\n",
      "Requirement already satisfied: google-auth-oauthlib<0.5,>=0.4.1 in c:\\users\\sunho\\anaconda3\\lib\\site-packages (from tensorboard~=2.6->tensorflow->keras-crf) (0.4.1)\n",
      "Requirement already satisfied: markdown>=2.6.8 in c:\\users\\sunho\\anaconda3\\lib\\site-packages (from tensorboard~=2.6->tensorflow->keras-crf) (3.2.2)\n",
      "Requirement already satisfied: tensorboard-data-server<0.7.0,>=0.6.0 in c:\\users\\sunho\\anaconda3\\lib\\site-packages (from tensorboard~=2.6->tensorflow->keras-crf) (0.6.1)\n",
      "Requirement already satisfied: tensorboard-plugin-wit>=1.6.0 in c:\\users\\sunho\\anaconda3\\lib\\site-packages (from tensorboard~=2.6->tensorflow->keras-crf) (1.7.0)\n",
      "Requirement already satisfied: google-auth<2,>=1.6.3 in c:\\users\\sunho\\anaconda3\\lib\\site-packages (from tensorboard~=2.6->tensorflow->keras-crf) (1.21.1)\n",
      "Requirement already satisfied: requests<3,>=2.21.0 in c:\\users\\sunho\\anaconda3\\lib\\site-packages (from tensorboard~=2.6->tensorflow->keras-crf) (2.24.0)\n",
      "Requirement already satisfied: pyparsing>=2.0.2 in c:\\users\\sunho\\anaconda3\\lib\\site-packages (from packaging->tensorflow-addons->keras-crf) (2.4.7)\n",
      "Requirement already satisfied: requests-oauthlib>=0.7.0 in c:\\users\\sunho\\anaconda3\\lib\\site-packages (from google-auth-oauthlib<0.5,>=0.4.1->tensorboard~=2.6->tensorflow->keras-crf) (1.3.0)\n",
      "Requirement already satisfied: cachetools<5.0,>=2.0.0 in c:\\users\\sunho\\anaconda3\\lib\\site-packages (from google-auth<2,>=1.6.3->tensorboard~=2.6->tensorflow->keras-crf) (4.1.1)\n",
      "Requirement already satisfied: rsa<5,>=3.1.4; python_version >= \"3.5\" in c:\\users\\sunho\\anaconda3\\lib\\site-packages (from google-auth<2,>=1.6.3->tensorboard~=2.6->tensorflow->keras-crf) (4.6)\n",
      "Requirement already satisfied: pyasn1-modules>=0.2.1 in c:\\users\\sunho\\anaconda3\\lib\\site-packages (from google-auth<2,>=1.6.3->tensorboard~=2.6->tensorflow->keras-crf) (0.2.8)\n",
      "Requirement already satisfied: chardet<4,>=3.0.2 in c:\\users\\sunho\\anaconda3\\lib\\site-packages (from requests<3,>=2.21.0->tensorboard~=2.6->tensorflow->keras-crf) (3.0.4)\n",
      "Requirement already satisfied: urllib3!=1.25.0,!=1.25.1,<1.26,>=1.21.1 in c:\\users\\sunho\\anaconda3\\lib\\site-packages (from requests<3,>=2.21.0->tensorboard~=2.6->tensorflow->keras-crf) (1.25.9)\n",
      "Requirement already satisfied: certifi>=2017.4.17 in c:\\users\\sunho\\anaconda3\\lib\\site-packages (from requests<3,>=2.21.0->tensorboard~=2.6->tensorflow->keras-crf) (2020.6.20)\n",
      "Requirement already satisfied: idna<3,>=2.5 in c:\\users\\sunho\\anaconda3\\lib\\site-packages (from requests<3,>=2.21.0->tensorboard~=2.6->tensorflow->keras-crf) (2.10)\n",
      "Requirement already satisfied: oauthlib>=3.0.0 in c:\\users\\sunho\\anaconda3\\lib\\site-packages (from requests-oauthlib>=0.7.0->google-auth-oauthlib<0.5,>=0.4.1->tensorboard~=2.6->tensorflow->keras-crf) (3.1.0)\n",
      "Requirement already satisfied: pyasn1>=0.1.3 in c:\\users\\sunho\\anaconda3\\lib\\site-packages (from rsa<5,>=3.1.4; python_version >= \"3.5\"->google-auth<2,>=1.6.3->tensorboard~=2.6->tensorflow->keras-crf) (0.4.8)\n",
      "Note: you may need to restart the kernel to use updated packages.\n"
     ]
    }
   ],
   "source": [
    "pip install keras-crf"
   ]
  },
  {
   "cell_type": "code",
   "execution_count": 39,
   "metadata": {
    "executionInfo": {
     "elapsed": 2330,
     "status": "ok",
     "timestamp": 1656846598884,
     "user": {
      "displayName": "백선호",
      "userId": "11426685653262706714"
     },
     "user_tz": -540
    },
    "id": "iyOfx0Omrgws"
   },
   "outputs": [],
   "source": [
    "import tensorflow as tf\n",
    "from tensorflow.keras import Model\n",
    "from tensorflow.keras.layers import Dense, LSTM, Input, Bidirectional, TimeDistributed, Embedding, Dropout\n",
    "from tensorflow.keras.callbacks import EarlyStopping, ModelCheckpoint\n",
    "from keras_crf import CRFModel\n",
    "from seqeval.metrics import f1_score, classification_report\n",
    "\n",
    "embedding_dim = 128\n",
    "hidden_units = 64\n",
    "dropout_ratio = 0.3\n",
    "\n",
    "sequence_input = Input(shape=(max_len,),dtype=tf.int32, name='sequence_input')\n",
    "\n",
    "model_embedding = Embedding(input_dim=vocab_size,\n",
    "                            output_dim=embedding_dim,\n",
    "                            input_length=max_len)(sequence_input)\n",
    "\n",
    "model_bilstm = Bidirectional(LSTM(units=hidden_units, return_sequences=True))(model_embedding)\n",
    "\n",
    "model_dropout = TimeDistributed(Dropout(dropout_ratio))(model_bilstm)\n",
    "\n",
    "model_dense = TimeDistributed(Dense(tag_size, activation='relu'))(model_dropout)\n",
    "\n",
    "base = Model(inputs=sequence_input, outputs=model_dense)\n",
    "model = CRFModel(base, tag_size)\n",
    "model.compile(optimizer=tf.keras.optimizers.Adam(0.001), metrics='accuracy')"
   ]
  },
  {
   "cell_type": "code",
   "execution_count": 40,
   "metadata": {
    "colab": {
     "base_uri": "https://localhost:8080/"
    },
    "executionInfo": {
     "elapsed": 755056,
     "status": "ok",
     "timestamp": 1656847353937,
     "user": {
      "displayName": "백선호",
      "userId": "11426685653262706714"
     },
     "user_tz": -540
    },
    "id": "qVi_IJJrrgws",
    "outputId": "57b6a487-aab2-4fed-a9f5-28f40b5dd278"
   },
   "outputs": [
    {
     "name": "stdout",
     "output_type": "stream",
     "text": [
      "Epoch 1/15\n",
      "270/270 [==============================] - ETA: 0s - decode_sequence_accuracy: 0.9222 - loss: 26.6423\n",
      "Epoch 00001: val_decode_sequence_accuracy improved from -inf to 0.95921, saving model to bilstm_crf\\cp.ckpt\n",
      "270/270 [==============================] - 68s 227ms/step - decode_sequence_accuracy: 0.9222 - loss: 26.5859 - val_decode_sequence_accuracy: 0.9592 - val_loss: 10.5842\n",
      "Epoch 2/15\n",
      "270/270 [==============================] - ETA: 0s - decode_sequence_accuracy: 0.9687 - loss: 7.0065\n",
      "Epoch 00002: val_decode_sequence_accuracy improved from 0.95921 to 0.97855, saving model to bilstm_crf\\cp.ckpt\n",
      "270/270 [==============================] - 61s 225ms/step - decode_sequence_accuracy: 0.9687 - loss: 6.9966 - val_decode_sequence_accuracy: 0.9786 - val_loss: 5.0467\n",
      "Epoch 3/15\n",
      "270/270 [==============================] - ETA: 0s - decode_sequence_accuracy: 0.9813 - loss: 3.7913\n",
      "Epoch 00003: val_decode_sequence_accuracy improved from 0.97855 to 0.98284, saving model to bilstm_crf\\cp.ckpt\n",
      "270/270 [==============================] - 60s 223ms/step - decode_sequence_accuracy: 0.9813 - loss: 3.7883 - val_decode_sequence_accuracy: 0.9828 - val_loss: 3.8080\n",
      "Epoch 4/15\n",
      "270/270 [==============================] - ETA: 0s - decode_sequence_accuracy: 0.9851 - loss: 2.7521\n",
      "Epoch 00004: val_decode_sequence_accuracy improved from 0.98284 to 0.98423, saving model to bilstm_crf\\cp.ckpt\n",
      "270/270 [==============================] - 60s 223ms/step - decode_sequence_accuracy: 0.9851 - loss: 2.7517 - val_decode_sequence_accuracy: 0.9842 - val_loss: 3.4070\n",
      "Epoch 5/15\n",
      "270/270 [==============================] - ETA: 0s - decode_sequence_accuracy: 0.9870 - loss: 2.2381\n",
      "Epoch 00005: val_decode_sequence_accuracy improved from 0.98423 to 0.98481, saving model to bilstm_crf\\cp.ckpt\n",
      "270/270 [==============================] - 60s 221ms/step - decode_sequence_accuracy: 0.9870 - loss: 2.2378 - val_decode_sequence_accuracy: 0.9848 - val_loss: 3.1765\n",
      "Epoch 6/15\n",
      "270/270 [==============================] - ETA: 0s - decode_sequence_accuracy: 0.9883 - loss: 1.9035\n",
      "Epoch 00006: val_decode_sequence_accuracy did not improve from 0.98481\n",
      "270/270 [==============================] - 60s 223ms/step - decode_sequence_accuracy: 0.9883 - loss: 1.9020 - val_decode_sequence_accuracy: 0.9845 - val_loss: 2.9769\n",
      "Epoch 7/15\n",
      "270/270 [==============================] - ETA: 0s - decode_sequence_accuracy: 0.9892 - loss: 1.6749\n",
      "Epoch 00007: val_decode_sequence_accuracy did not improve from 0.98481\n",
      "270/270 [==============================] - 60s 222ms/step - decode_sequence_accuracy: 0.9892 - loss: 1.6755 - val_decode_sequence_accuracy: 0.9847 - val_loss: 2.9717\n",
      "Epoch 8/15\n",
      "270/270 [==============================] - ETA: 0s - decode_sequence_accuracy: 0.9900 - loss: 1.4845\n",
      "Epoch 00008: val_decode_sequence_accuracy did not improve from 0.98481\n",
      "270/270 [==============================] - 61s 225ms/step - decode_sequence_accuracy: 0.9900 - loss: 1.4847 - val_decode_sequence_accuracy: 0.9847 - val_loss: 2.9687\n",
      "Epoch 9/15\n",
      "270/270 [==============================] - ETA: 0s - decode_sequence_accuracy: 0.9907 - loss: 1.3274\n",
      "Epoch 00009: val_decode_sequence_accuracy improved from 0.98481 to 0.98499, saving model to bilstm_crf\\cp.ckpt\n",
      "270/270 [==============================] - 63s 232ms/step - decode_sequence_accuracy: 0.9907 - loss: 1.3279 - val_decode_sequence_accuracy: 0.9850 - val_loss: 3.2032\n",
      "Epoch 10/15\n",
      "270/270 [==============================] - ETA: 0s - decode_sequence_accuracy: 0.9912 - loss: 1.1938\n",
      "Epoch 00010: val_decode_sequence_accuracy did not improve from 0.98499\n",
      "270/270 [==============================] - 60s 221ms/step - decode_sequence_accuracy: 0.9912 - loss: 1.1927 - val_decode_sequence_accuracy: 0.9849 - val_loss: 3.2767\n",
      "Epoch 11/15\n",
      "270/270 [==============================] - ETA: 0s - decode_sequence_accuracy: 0.9918 - loss: 1.0685\n",
      "Epoch 00011: val_decode_sequence_accuracy did not improve from 0.98499\n",
      "270/270 [==============================] - 60s 221ms/step - decode_sequence_accuracy: 0.9918 - loss: 1.0687 - val_decode_sequence_accuracy: 0.9844 - val_loss: 3.4106\n",
      "Epoch 12/15\n",
      "270/270 [==============================] - ETA: 0s - decode_sequence_accuracy: 0.9924 - loss: 0.9528\n",
      "Epoch 00012: val_decode_sequence_accuracy did not improve from 0.98499\n",
      "270/270 [==============================] - 60s 224ms/step - decode_sequence_accuracy: 0.9924 - loss: 0.9525 - val_decode_sequence_accuracy: 0.9845 - val_loss: 3.5918\n",
      "Epoch 00012: early stopping\n"
     ]
    }
   ],
   "source": [
    "es = EarlyStopping(monitor='val_loss', mode='min', verbose=1, patience=4)\n",
    "mc = ModelCheckpoint('bilstm_crf/cp.ckpt', monitor='val_decode_sequence_accuracy', mode='max', verbose=1, save_best_only=True, save_weights_only=True)\n",
    "\n",
    "history = model.fit(X_train, y_train_int, batch_size=128, epochs=15, validation_split=0.1, callbacks=[mc, es])"
   ]
  },
  {
   "cell_type": "code",
   "execution_count": 41,
   "metadata": {
    "colab": {
     "base_uri": "https://localhost:8080/"
    },
    "executionInfo": {
     "elapsed": 1186,
     "status": "ok",
     "timestamp": 1656847355114,
     "user": {
      "displayName": "백선호",
      "userId": "11426685653262706714"
     },
     "user_tz": -540
    },
    "id": "jjalVazurgws",
    "outputId": "fd207b43-53e0-4ca6-d411-1e44afdb4753"
   },
   "outputs": [
    {
     "name": "stdout",
     "output_type": "stream",
     "text": [
      "단어             |실제값  |예측값\n",
      "-----------------------------------\n",
      "the              : O       O\n",
      "statement        : O       O\n",
      "came             : O       O\n",
      "as               : O       O\n",
      "u.n.             : B-org   B-org\n",
      "secretary-general: I-org   I-org\n",
      "kofi             : B-per   B-per\n",
      "annan            : I-per   I-per\n",
      "met              : O       O\n",
      "with             : O       O\n",
      "officials        : O       O\n",
      "in               : O       O\n",
      "amman            : B-geo   B-geo\n",
      "to               : O       O\n",
      "discuss          : O       O\n",
      "wednesday        : B-tim   B-tim\n",
      "'s               : O       O\n",
      "attacks          : O       O\n",
      ".                : O       O\n"
     ]
    }
   ],
   "source": [
    "model.load_weights('bilstm_crf/cp.ckpt')\n",
    "i = 13\n",
    "y_predicted = model.predict(np.array([X_test[i]]))[0]\n",
    "labels = np.argmax(y_test[i],-1)\n",
    "print(\"{:15}|{:5}|{}\".format(\"단어\",\"실제값\",\"예측값\"))\n",
    "print(35 * \"-\")\n",
    "\n",
    "for word,tag,pred in zip(X_test[i],labels,y_predicted[0]):\n",
    "  if word != 0:\n",
    "    print(\"{:17}: {:7} {}\".format(index_to_word[word], index_to_ner[tag], index_to_ner[pred]))"
   ]
  },
  {
   "cell_type": "code",
   "execution_count": 42,
   "metadata": {
    "executionInfo": {
     "elapsed": 23740,
     "status": "ok",
     "timestamp": 1656847378851,
     "user": {
      "displayName": "백선호",
      "userId": "11426685653262706714"
     },
     "user_tz": -540
    },
    "id": "S1pucibUry2m"
   },
   "outputs": [],
   "source": [
    "y_predicted = model.predict(X_test)[0]"
   ]
  },
  {
   "cell_type": "code",
   "execution_count": 43,
   "metadata": {
    "colab": {
     "base_uri": "https://localhost:8080/"
    },
    "executionInfo": {
     "elapsed": 5,
     "status": "ok",
     "timestamp": 1656847378852,
     "user": {
      "displayName": "백선호",
      "userId": "11426685653262706714"
     },
     "user_tz": -540
    },
    "id": "-xUzP7N1tEeP",
    "outputId": "edcdadf9-cb85-40d4-d2ab-887281d4ab08"
   },
   "outputs": [
    {
     "name": "stdout",
     "output_type": "stream",
     "text": [
      "[[ 1  3 10  1  2  1  1  1  1  1  1  1  1  1  1  1  1  1  0  0  0  0  0  0\n",
      "   0  0  0  0  0  0  0  0  0  0  0  0  0  0  0  0  0  0  0  0  0  0  0  0\n",
      "   0  0  0  0  0  0  0  0  0  0  0  0  0  0  0  0  0  0  0  0  0  0]\n",
      " [ 1  1  1  1  1  1  3  1  1  1  1  1  1  1  2  2  9  1  0  0  0  0  0  0\n",
      "   0  0  0  0  0  0  0  0  0  0  0  0  0  0  0  0  0  0  0  0  0  0  0  0\n",
      "   0  0  0  0  0  0  0  0  0  0  0  0  0  0  0  0  0  0  0  0  0  0]]\n"
     ]
    }
   ],
   "source": [
    "print(y_predicted[:2])"
   ]
  },
  {
   "cell_type": "code",
   "execution_count": 44,
   "metadata": {
    "colab": {
     "base_uri": "https://localhost:8080/"
    },
    "executionInfo": {
     "elapsed": 20861,
     "status": "ok",
     "timestamp": 1656847399710,
     "user": {
      "displayName": "백선호",
      "userId": "11426685653262706714"
     },
     "user_tz": -540
    },
    "id": "IYd9eYp8tGqx",
    "outputId": "6849d51b-1865-4c80-ba81-cbb0ddfca514"
   },
   "outputs": [
    {
     "name": "stdout",
     "output_type": "stream",
     "text": [
      "F1-score: 79.7%\n",
      "              precision    recall  f1-score   support\n",
      "\n",
      "         art       0.00      0.00      0.00        63\n",
      "         eve       1.00      0.02      0.04        52\n",
      "         geo       0.82      0.85      0.84      7620\n",
      "         gpe       0.96      0.94      0.95      3145\n",
      "         nat       0.43      0.16      0.24        37\n",
      "         org       0.68      0.55      0.61      4033\n",
      "         per       0.75      0.70      0.72      3545\n",
      "         tim       0.88      0.83      0.85      4067\n",
      "\n",
      "   micro avg       0.82      0.78      0.80     22562\n",
      "   macro avg       0.69      0.51      0.53     22562\n",
      "weighted avg       0.81      0.78      0.79     22562\n",
      "\n"
     ]
    }
   ],
   "source": [
    "def sequences_to_tag_for_crf(sequences):\n",
    "  result = []\n",
    "  for sequence in sequences:\n",
    "    word_sequence = []\n",
    "    for pred_index in sequence:\n",
    "      word_sequence.append(index_to_ner[pred_index].replace(\"PAD\",\"O\"))\n",
    "    result.append(word_sequence)\n",
    "  return result\n",
    "\n",
    "pred_tags = sequences_to_tag_for_crf(y_predicted)\n",
    "test_tags = sequences_to_tag(y_test)\n",
    "\n",
    "print(\"F1-score: {:.1%}\".format(f1_score(test_tags, pred_tags)))\n",
    "print(classification_report(test_tags, pred_tags))"
   ]
  },
  {
   "cell_type": "code",
   "execution_count": 45,
   "metadata": {
    "colab": {
     "base_uri": "https://localhost:8080/"
    },
    "executionInfo": {
     "elapsed": 4,
     "status": "ok",
     "timestamp": 1656847412348,
     "user": {
      "displayName": "백선호",
      "userId": "11426685653262706714"
     },
     "user_tz": -540
    },
    "id": "Uz3rrePOtuDf",
    "outputId": "4775f10a-25ad-48f0-8a40-ed4523558bd5"
   },
   "outputs": [
    {
     "name": "stdout",
     "output_type": "stream",
     "text": [
      "문자 집합 : ['!', '\"', '#', '$', '%', '&', \"'\", '(', ')', '+', ',', '-', '.', '/', '0', '1', '2', '3', '4', '5', '6', '7', '8', '9', ':', ';', '?', '@', '[', ']', '_', '`', 'a', 'b', 'c', 'd', 'e', 'f', 'g', 'h', 'i', 'j', 'k', 'l', 'm', 'n', 'o', 'p', 'q', 'r', 's', 't', 'u', 'v', 'w', 'x', 'y', 'z', '~', '\\x85', '\\x91', '\\x92', '\\x93', '\\x94', '\\x96', '\\x97', '\\xa0', '°', 'é', 'ë', 'ö', 'ü']\n"
     ]
    }
   ],
   "source": [
    "words = list(set(data[\"Word\"].values))\n",
    "chars = set([w_i for w in words for w_i in w])\n",
    "chars = sorted(list(chars))\n",
    "print('문자 집합 :',chars)"
   ]
  },
  {
   "cell_type": "code",
   "execution_count": 46,
   "metadata": {
    "executionInfo": {
     "elapsed": 1,
     "status": "ok",
     "timestamp": 1656847413465,
     "user": {
      "displayName": "백선호",
      "userId": "11426685653262706714"
     },
     "user_tz": -540
    },
    "id": "ksk7xAkev7ee"
   },
   "outputs": [],
   "source": [
    "char_to_index = {c: i+2 for i,c in enumerate(chars)}\n",
    "char_to_index[\"OOV\"] = 1\n",
    "char_to_index[\"PAD\"] = 0\n",
    "index_to_char = {}\n",
    "for key, value in char_to_index.items():\n",
    "  index_to_char[value] = key"
   ]
  },
  {
   "cell_type": "code",
   "execution_count": 47,
   "metadata": {
    "executionInfo": {
     "elapsed": 4309,
     "status": "ok",
     "timestamp": 1656847425331,
     "user": {
      "displayName": "백선호",
      "userId": "11426685653262706714"
     },
     "user_tz": -540
    },
    "id": "CYQ15QP8wXhu"
   },
   "outputs": [],
   "source": [
    "max_len_char = 15\n",
    "def padding_char_indice(char_indice,max_len_char):\n",
    "  return pad_sequences(char_indice,maxlen=max_len_char, padding='post',value =0)\n",
    "def integer_coding(sentences):\n",
    "  char_data = []\n",
    "  for ts in sentences:\n",
    "    word_indice = [word_to_index[t] for t in ts]\n",
    "    char_indice = [[char_to_index[char] for char in t]\n",
    "                   for t in ts]\n",
    "    char_indice = padding_char_indice(char_indice,max_len_char)\n",
    "\n",
    "    for chars_of_token in char_indice:\n",
    "      if len(chars_of_token) > max_len_char:\n",
    "        continue\n",
    "    char_data.append(char_indice)\n",
    "  return char_data\n",
    "X_char_data = integer_coding(sentences)"
   ]
  },
  {
   "cell_type": "code",
   "execution_count": 48,
   "metadata": {
    "colab": {
     "base_uri": "https://localhost:8080/"
    },
    "executionInfo": {
     "elapsed": 1,
     "status": "ok",
     "timestamp": 1656847425706,
     "user": {
      "displayName": "백선호",
      "userId": "11426685653262706714"
     },
     "user_tz": -540
    },
    "id": "1s1aX_o9xadQ",
    "outputId": "095a3e3e-f3c1-4d14-9646-8e4568b5b667"
   },
   "outputs": [
    {
     "name": "stdout",
     "output_type": "stream",
     "text": [
      "기존 문장 : ['thousands', 'of', 'demonstrators', 'have', 'marched', 'through', 'london', 'to', 'protest', 'the', 'war', 'in', 'iraq', 'and', 'demand', 'the', 'withdrawal', 'of', 'british', 'troops', 'from', 'that', 'country', '.']\n"
     ]
    }
   ],
   "source": [
    "print(\"기존 문장 :\",sentences[0])"
   ]
  },
  {
   "cell_type": "code",
   "execution_count": 49,
   "metadata": {
    "colab": {
     "base_uri": "https://localhost:8080/"
    },
    "executionInfo": {
     "elapsed": 267,
     "status": "ok",
     "timestamp": 1656847429181,
     "user": {
      "displayName": "백선호",
      "userId": "11426685653262706714"
     },
     "user_tz": -540
    },
    "id": "g32OkELoxeeG",
    "outputId": "c14ff34e-a7f3-403a-ad27-fd737e30a5b9"
   },
   "outputs": [
    {
     "name": "stdout",
     "output_type": "stream",
     "text": [
      "문자 단위 정수 인코딩 :\n",
      "[[53 41 48 54 52 34 47 37 52  0  0  0  0  0  0]\n",
      " [48 39  0  0  0  0  0  0  0  0  0  0  0  0  0]\n",
      " [37 38 46 48 47 52 53 51 34 53 48 51 52  0  0]\n",
      " [41 34 55 38  0  0  0  0  0  0  0  0  0  0  0]\n",
      " [46 34 51 36 41 38 37  0  0  0  0  0  0  0  0]\n",
      " [53 41 51 48 54 40 41  0  0  0  0  0  0  0  0]\n",
      " [45 48 47 37 48 47  0  0  0  0  0  0  0  0  0]\n",
      " [53 48  0  0  0  0  0  0  0  0  0  0  0  0  0]\n",
      " [49 51 48 53 38 52 53  0  0  0  0  0  0  0  0]\n",
      " [53 41 38  0  0  0  0  0  0  0  0  0  0  0  0]\n",
      " [56 34 51  0  0  0  0  0  0  0  0  0  0  0  0]\n",
      " [42 47  0  0  0  0  0  0  0  0  0  0  0  0  0]\n",
      " [42 51 34 50  0  0  0  0  0  0  0  0  0  0  0]\n",
      " [34 47 37  0  0  0  0  0  0  0  0  0  0  0  0]\n",
      " [37 38 46 34 47 37  0  0  0  0  0  0  0  0  0]\n",
      " [53 41 38  0  0  0  0  0  0  0  0  0  0  0  0]\n",
      " [56 42 53 41 37 51 34 56 34 45  0  0  0  0  0]\n",
      " [48 39  0  0  0  0  0  0  0  0  0  0  0  0  0]\n",
      " [35 51 42 53 42 52 41  0  0  0  0  0  0  0  0]\n",
      " [53 51 48 48 49 52  0  0  0  0  0  0  0  0  0]\n",
      " [39 51 48 46  0  0  0  0  0  0  0  0  0  0  0]\n",
      " [53 41 34 53  0  0  0  0  0  0  0  0  0  0  0]\n",
      " [36 48 54 47 53 51 58  0  0  0  0  0  0  0  0]\n",
      " [14  0  0  0  0  0  0  0  0  0  0  0  0  0  0]]\n"
     ]
    }
   ],
   "source": [
    "print('문자 단위 정수 인코딩 :')\n",
    "print(X_char_data[0])"
   ]
  },
  {
   "cell_type": "code",
   "execution_count": 50,
   "metadata": {
    "executionInfo": {
     "elapsed": 255,
     "status": "ok",
     "timestamp": 1656847436117,
     "user": {
      "displayName": "백선호",
      "userId": "11426685653262706714"
     },
     "user_tz": -540
    },
    "id": "_-01erdYxmAv"
   },
   "outputs": [],
   "source": [
    "X_char_data = pad_sequences(X_char_data,maxlen=max_len,padding='post',value = 0)"
   ]
  },
  {
   "cell_type": "code",
   "execution_count": 51,
   "metadata": {
    "executionInfo": {
     "elapsed": 366,
     "status": "ok",
     "timestamp": 1656847436848,
     "user": {
      "displayName": "백선호",
      "userId": "11426685653262706714"
     },
     "user_tz": -540
    },
    "id": "7YthiLfBxvND"
   },
   "outputs": [],
   "source": [
    "X_char_train,X_char_test,_,_ = train_test_split(X_char_data,y_data,test_size=.2,random_state=777)\n",
    "X_char_train = np.array(X_char_train)\n",
    "X_char_test = np.array(X_char_test)"
   ]
  },
  {
   "cell_type": "code",
   "execution_count": 52,
   "metadata": {
    "colab": {
     "base_uri": "https://localhost:8080/"
    },
    "executionInfo": {
     "elapsed": 4,
     "status": "ok",
     "timestamp": 1656847437774,
     "user": {
      "displayName": "백선호",
      "userId": "11426685653262706714"
     },
     "user_tz": -540
    },
    "id": "aHR39QvKyKhH",
    "outputId": "d6cb9d6d-11e2-4bdf-da91-295ec4900c04"
   },
   "outputs": [
    {
     "name": "stdout",
     "output_type": "stream",
     "text": [
      "[ 150  928  361   17 2624    9 4131 3567    9    8 2893 1250  880  107\n",
      "    3    0    0    0    0    0    0    0    0    0    0    0    0    0\n",
      "    0    0    0    0    0    0    0    0    0    0    0    0    0    0\n",
      "    0    0    0    0    0    0    0    0    0    0    0    0    0    0\n",
      "    0    0    0    0    0    0    0    0    0    0    0    0    0    0]\n"
     ]
    }
   ],
   "source": [
    "print(X_train[0])"
   ]
  },
  {
   "cell_type": "code",
   "execution_count": 53,
   "metadata": {
    "colab": {
     "base_uri": "https://localhost:8080/"
    },
    "executionInfo": {
     "elapsed": 261,
     "status": "ok",
     "timestamp": 1656847444125,
     "user": {
      "displayName": "백선호",
      "userId": "11426685653262706714"
     },
     "user_tz": -540
    },
    "id": "1gzkOsObyP8q",
    "outputId": "4a575832-8e60-4656-f115-1d0dad172f2a"
   },
   "outputs": [
    {
     "name": "stdout",
     "output_type": "stream",
     "text": [
      "soldiers\n"
     ]
    }
   ],
   "source": [
    "print(index_to_word[150])"
   ]
  },
  {
   "cell_type": "code",
   "execution_count": 54,
   "metadata": {
    "colab": {
     "base_uri": "https://localhost:8080/"
    },
    "executionInfo": {
     "elapsed": 2,
     "status": "ok",
     "timestamp": 1656847445221,
     "user": {
      "displayName": "백선호",
      "userId": "11426685653262706714"
     },
     "user_tz": -540
    },
    "id": "GfBb_8JtyRu1",
    "outputId": "acc64a12-d2e0-469f-f8b8-70420707ef3c"
   },
   "outputs": [
    {
     "name": "stdout",
     "output_type": "stream",
     "text": [
      "s o l d i e r s PAD PAD PAD PAD PAD PAD PAD\n"
     ]
    }
   ],
   "source": [
    "print(' '.join([index_to_char[index] for index in X_char_train[0][0]]))"
   ]
  },
  {
   "cell_type": "code",
   "execution_count": 55,
   "metadata": {
    "colab": {
     "base_uri": "https://localhost:8080/"
    },
    "executionInfo": {
     "elapsed": 262,
     "status": "ok",
     "timestamp": 1656847452641,
     "user": {
      "displayName": "백선호",
      "userId": "11426685653262706714"
     },
     "user_tz": -540
    },
    "id": "Mhf5lWdZyacD",
    "outputId": "20146bad-0a8e-4be4-f947-d23b3c2e1079"
   },
   "outputs": [
    {
     "name": "stdout",
     "output_type": "stream",
     "text": [
      "훈련 샘플 문장의 크기 : (38367, 70)\n",
      "훈련 샘플 레이블의 크기 : (38367, 70, 18)\n",
      "훈련 샘플 char 데이터의 크기 : (38367, 70, 15)\n",
      "테스트 샘플 문장의 크기 : (9592, 70)\n",
      "테스트 샘플 레이블의 크기 : (9592, 70, 18)\n"
     ]
    }
   ],
   "source": [
    "print('훈련 샘플 문장의 크기 : {}'.format(X_train.shape))\n",
    "print('훈련 샘플 레이블의 크기 : {}'.format(y_train.shape))\n",
    "print('훈련 샘플 char 데이터의 크기 : {}'.format(X_char_train.shape))\n",
    "print('테스트 샘플 문장의 크기 : {}'.format(X_test.shape))\n",
    "print('테스트 샘플 레이블의 크기 : {}'.format(y_test.shape))"
   ]
  },
  {
   "cell_type": "code",
   "execution_count": 56,
   "metadata": {
    "executionInfo": {
     "elapsed": 662,
     "status": "ok",
     "timestamp": 1656847465373,
     "user": {
      "displayName": "백선호",
      "userId": "11426685653262706714"
     },
     "user_tz": -540
    },
    "id": "KZyNIWPxyfD8"
   },
   "outputs": [],
   "source": [
    "import tensorflow as tf\n",
    "from tensorflow.keras.layers import Embedding, Input, TimeDistributed, Dropout, concatenate, Bidirectional, LSTM, Conv1D, Dense, MaxPooling1D, Flatten\n",
    "from tensorflow.keras import Model\n",
    "from tensorflow.keras.initializers import RandomUniform\n",
    "from tensorflow.keras.callbacks import EarlyStopping, ModelCheckpoint\n",
    "from tensorflow.keras.models import load_model\n",
    "from seqeval.metrics import f1_score, classification_report\n",
    "from keras_crf import CRFModel\n",
    "\n",
    "embedding_dim = 128\n",
    "char_embedding_dim = 64\n",
    "dropout_ratio = 0.5\n",
    "hidden_units = 256\n",
    "num_filters  = 30\n",
    "kernel_size = 3\n",
    "\n",
    "word_ids = Input(shape=(None,),dtype='int32', name='words_input')\n",
    "word_embeddings = Embedding(input_dim=vocab_size, output_dim=embedding_dim)(word_ids)\n",
    "\n",
    "char_ids = Input(shape=(None, max_len_char,), name='char_input')\n",
    "embed_char_out = TimeDistributed(Embedding(len(char_to_index), char_embedding_dim, embeddings_initializer=RandomUniform(minval=-0.5, maxval=0.5)), name='char_embedding')(char_ids)\n",
    "dropout = Dropout(dropout_ratio)(embed_char_out)\n",
    "\n",
    "conv1d_out = TimeDistributed(Conv1D(kernel_size=kernel_size, filters=num_filters, padding='same', activation='tanh', strides=1))(dropout)\n",
    "maxpool_out = TimeDistributed(MaxPooling1D(max_len_char))(conv1d_out)\n",
    "char_embeddings = TimeDistributed(Flatten())(maxpool_out)\n",
    "char_embeddings = Dropout(dropout_ratio)(char_embeddings)\n",
    "\n",
    "output = concatenate([word_embeddings, char_embeddings])\n",
    "\n",
    "output = Bidirectional(LSTM(hidden_units, return_sequences=True, dropout=dropout_ratio))(output)\n",
    "\n",
    "output = TimeDistributed(Dense(tag_size, activation='softmax'))(output)\n",
    "\n",
    "model = Model(inputs=[word_ids, char_ids], outputs=[output])\n",
    "model.compile(loss='categorical_crossentropy', optimizer='nadam',  metrics=['acc'])"
   ]
  },
  {
   "cell_type": "code",
   "execution_count": 57,
   "metadata": {
    "colab": {
     "base_uri": "https://localhost:8080/"
    },
    "executionInfo": {
     "elapsed": 176912,
     "status": "ok",
     "timestamp": 1656847643912,
     "user": {
      "displayName": "백선호",
      "userId": "11426685653262706714"
     },
     "user_tz": -540
    },
    "id": "4z0zF8c3zAhp",
    "outputId": "04047c4d-201b-4015-c5e9-c3dae5e7ee3b"
   },
   "outputs": [
    {
     "name": "stdout",
     "output_type": "stream",
     "text": [
      "Epoch 1/15\n",
      "270/270 [==============================] - ETA: 0s - loss: 0.2023 - acc: 0.9498\n",
      "Epoch 00001: val_acc improved from -inf to 0.97531, saving model to bilstm_cnn.h5\n",
      "270/270 [==============================] - 25s 61ms/step - loss: 0.2023 - acc: 0.9498 - val_loss: 0.0875 - val_acc: 0.9753\n",
      "Epoch 2/15\n",
      "269/270 [============================>.] - ETA: 0s - loss: 0.0637 - acc: 0.9819\n",
      "Epoch 00002: val_acc improved from 0.97531 to 0.98474, saving model to bilstm_cnn.h5\n",
      "270/270 [==============================] - 15s 57ms/step - loss: 0.0636 - acc: 0.9819 - val_loss: 0.0518 - val_acc: 0.9847\n",
      "Epoch 3/15\n",
      "269/270 [============================>.] - ETA: 0s - loss: 0.0450 - acc: 0.9868\n",
      "Epoch 00003: val_acc improved from 0.98474 to 0.98619, saving model to bilstm_cnn.h5\n",
      "270/270 [==============================] - 15s 56ms/step - loss: 0.0450 - acc: 0.9868 - val_loss: 0.0449 - val_acc: 0.9862\n",
      "Epoch 4/15\n",
      "269/270 [============================>.] - ETA: 0s - loss: 0.0377 - acc: 0.9888\n",
      "Epoch 00004: val_acc improved from 0.98619 to 0.98663, saving model to bilstm_cnn.h5\n",
      "270/270 [==============================] - 15s 56ms/step - loss: 0.0377 - acc: 0.9888 - val_loss: 0.0434 - val_acc: 0.9866\n",
      "Epoch 5/15\n",
      "269/270 [============================>.] - ETA: 0s - loss: 0.0333 - acc: 0.9899\n",
      "Epoch 00005: val_acc improved from 0.98663 to 0.98747, saving model to bilstm_cnn.h5\n",
      "270/270 [==============================] - 15s 56ms/step - loss: 0.0333 - acc: 0.9899 - val_loss: 0.0407 - val_acc: 0.9875\n",
      "Epoch 6/15\n",
      "269/270 [============================>.] - ETA: 0s - loss: 0.0304 - acc: 0.9906\n",
      "Epoch 00006: val_acc improved from 0.98747 to 0.98762, saving model to bilstm_cnn.h5\n",
      "270/270 [==============================] - 15s 56ms/step - loss: 0.0304 - acc: 0.9906 - val_loss: 0.0403 - val_acc: 0.9876\n",
      "Epoch 7/15\n",
      "269/270 [============================>.] - ETA: 0s - loss: 0.0281 - acc: 0.9912\n",
      "Epoch 00007: val_acc improved from 0.98762 to 0.98775, saving model to bilstm_cnn.h5\n",
      "270/270 [==============================] - 15s 56ms/step - loss: 0.0281 - acc: 0.9912 - val_loss: 0.0411 - val_acc: 0.9878\n",
      "Epoch 8/15\n",
      "269/270 [============================>.] - ETA: 0s - loss: 0.0261 - acc: 0.9917\n",
      "Epoch 00008: val_acc did not improve from 0.98775\n",
      "270/270 [==============================] - 15s 56ms/step - loss: 0.0262 - acc: 0.9917 - val_loss: 0.0425 - val_acc: 0.9875\n",
      "Epoch 9/15\n",
      "269/270 [============================>.] - ETA: 0s - loss: 0.0245 - acc: 0.9922\n",
      "Epoch 00009: val_acc improved from 0.98775 to 0.98779, saving model to bilstm_cnn.h5\n",
      "270/270 [==============================] - 15s 56ms/step - loss: 0.0245 - acc: 0.9922 - val_loss: 0.0407 - val_acc: 0.9878\n",
      "Epoch 10/15\n",
      "269/270 [============================>.] - ETA: 0s - loss: 0.0231 - acc: 0.9926\n",
      "Epoch 00010: val_acc did not improve from 0.98779\n",
      "270/270 [==============================] - 15s 56ms/step - loss: 0.0231 - acc: 0.9926 - val_loss: 0.0427 - val_acc: 0.9874\n",
      "Epoch 00010: early stopping\n"
     ]
    }
   ],
   "source": [
    "es = EarlyStopping(monitor='val_loss', mode='min', verbose=1, patience=4)\n",
    "mc = ModelCheckpoint('bilstm_cnn.h5', monitor='val_acc', mode='max', verbose=1, save_best_only=True)\n",
    "\n",
    "history = model.fit([X_train, X_char_train], y_train, batch_size=128, epochs=15, validation_split=0.1, verbose=1, callbacks=[es, mc])"
   ]
  },
  {
   "cell_type": "code",
   "execution_count": 58,
   "metadata": {
    "colab": {
     "base_uri": "https://localhost:8080/",
     "height": 248
    },
    "executionInfo": {
     "elapsed": 988,
     "status": "error",
     "timestamp": 1656847659107,
     "user": {
      "displayName": "백선호",
      "userId": "11426685653262706714"
     },
     "user_tz": -540
    },
    "id": "-Jo0j7KmzDaN",
    "outputId": "8adb1712-bbb0-4582-9c47-6bfde6646e5e"
   },
   "outputs": [
    {
     "name": "stdout",
     "output_type": "stream",
     "text": [
      "단어             |실제값  |예측값\n",
      "-----------------------------------\n",
      "the              : O       O\n",
      "statement        : O       O\n",
      "came             : O       O\n",
      "as               : O       O\n",
      "u.n.             : B-org   B-org\n",
      "secretary-general: I-org   I-org\n",
      "kofi             : B-per   B-per\n",
      "annan            : I-per   I-per\n",
      "met              : O       O\n",
      "with             : O       O\n",
      "officials        : O       O\n",
      "in               : O       O\n",
      "amman            : B-geo   B-geo\n",
      "to               : O       O\n",
      "discuss          : O       O\n",
      "wednesday        : B-tim   B-tim\n",
      "'s               : O       O\n",
      "attacks          : O       O\n",
      ".                : O       O\n"
     ]
    }
   ],
   "source": [
    "model = load_model('bilstm_cnn.h5')\n",
    "y_predicted = model.predict([np.array([X_test[i]]), np.array([X_char_test[i]])])\n",
    "y_predicted = np.argmax(y_predicted, axis=-1)\n",
    "labels = np.argmax(y_test[i], -1)\n",
    "print(\"{:15}|{:5}|{}\".format(\"단어\", \"실제값\", \"예측값\"))\n",
    "print(35 * \"-\")\n",
    "for word, tag, pred in zip(X_test[i], labels, y_predicted[0]):\n",
    "    if word != 0:\n",
    "        print(\"{:17}: {:7} {}\".format(index_to_word[word], index_to_ner[tag], index_to_ner[pred]))"
   ]
  },
  {
   "cell_type": "code",
   "execution_count": 59,
   "metadata": {
    "colab": {
     "base_uri": "https://localhost:8080/",
     "height": 437
    },
    "executionInfo": {
     "elapsed": 283,
     "status": "error",
     "timestamp": 1656847713515,
     "user": {
      "displayName": "백선호",
      "userId": "11426685653262706714"
     },
     "user_tz": -540
    },
    "id": "IQDiIiZDzLRx",
    "outputId": "5c7e0cf7-6bf9-4534-d469-9d84604651f1"
   },
   "outputs": [
    {
     "name": "stdout",
     "output_type": "stream",
     "text": [
      "F1-score: 79.2%\n",
      "              precision    recall  f1-score   support\n",
      "\n",
      "         art       0.00      0.00      0.00        63\n",
      "         eve       0.46      0.25      0.33        52\n",
      "         geo       0.85      0.84      0.84      7620\n",
      "         gpe       0.94      0.95      0.95      3145\n",
      "         nat       0.60      0.08      0.14        37\n",
      "         org       0.59      0.60      0.59      4033\n",
      "         per       0.73      0.74      0.73      3545\n",
      "         tim       0.85      0.85      0.85      4067\n",
      "\n",
      "   micro avg       0.79      0.79      0.79     22562\n",
      "   macro avg       0.63      0.54      0.55     22562\n",
      "weighted avg       0.79      0.79      0.79     22562\n",
      "\n"
     ]
    }
   ],
   "source": [
    "y_predicted = model.predict([X_test, X_char_test])\n",
    "pred_tags = sequences_to_tag(y_predicted)\n",
    "test_tags = sequences_to_tag(y_test)\n",
    "\n",
    "print(\"F1-score: {:.1%}\".format(f1_score(test_tags, pred_tags)))\n",
    "print(classification_report(test_tags, pred_tags))"
   ]
  },
  {
   "cell_type": "code",
   "execution_count": 60,
   "metadata": {
    "executionInfo": {
     "elapsed": 1139,
     "status": "ok",
     "timestamp": 1656847718111,
     "user": {
      "displayName": "백선호",
      "userId": "11426685653262706714"
     },
     "user_tz": -540
    },
    "id": "OnT7yfqhzNdT"
   },
   "outputs": [],
   "source": [
    "embedding_dim = 128\n",
    "char_embedding_dim = 64\n",
    "dropout_ratio = 0.5\n",
    "hidden_units = 256\n",
    "num_filters = 30\n",
    "kernel_size = 3\n",
    "\n",
    "word_ids = Input(shape=(None,),dtype='int32', name='words_input')\n",
    "word_embeddings = Embedding(input_dim=vocab_size, output_dim=embedding_dim)(word_ids)\n",
    "\n",
    "char_ids = Input(shape=(None, max_len_char,), name='char_input')\n",
    "embed_char_out = TimeDistributed(Embedding(len(char_to_index), char_embedding_dim, embeddings_initializer=RandomUniform(minval=-0.5, maxval=0.5)), name='char_embedding')(char_ids)\n",
    "dropout = Dropout(dropout_ratio)(embed_char_out)\n",
    "\n",
    "conv1d_out = TimeDistributed(Conv1D(kernel_size=kernel_size, filters=num_filters, padding='same',activation='tanh', strides=1))(dropout)\n",
    "maxpool_out=TimeDistributed(MaxPooling1D(max_len_char))(conv1d_out)\n",
    "char_embeddings = TimeDistributed(Flatten())(maxpool_out)\n",
    "char_embeddings = Dropout(dropout_ratio)(char_embeddings)\n",
    "\n",
    "output = concatenate([word_embeddings, char_embeddings])\n",
    "output = Bidirectional(LSTM(hidden_units, return_sequences=True, dropout=dropout_ratio))(output)\n",
    "output = TimeDistributed(Dense(tag_size, activation='relu'))(output)\n",
    "\n",
    "base = Model(inputs=[word_ids, char_ids], outputs=[output])\n",
    "model = CRFModel(base, tag_size)\n",
    "model.compile(optimizer=tf.keras.optimizers.Adam(0.001), metrics='accuracy')\n",
    "\n",
    "es = EarlyStopping(monitor='val_loss', mode='min', verbose=1, patience=4)\n",
    "mc = ModelCheckpoint('bilstm_cnn_crf/cp.ckpt', monitor='val_decode_sequence_accuracy', mode='max', verbose=1, save_best_only=True, save_weights_only=True)"
   ]
  },
  {
   "cell_type": "code",
   "execution_count": 61,
   "metadata": {
    "colab": {
     "base_uri": "https://localhost:8080/"
    },
    "executionInfo": {
     "elapsed": 485434,
     "status": "ok",
     "timestamp": 1656848205231,
     "user": {
      "displayName": "백선호",
      "userId": "11426685653262706714"
     },
     "user_tz": -540
    },
    "id": "yeK9DfcIzt7D",
    "outputId": "e554e0df-3851-430f-87a0-335c8453e1c3"
   },
   "outputs": [
    {
     "name": "stdout",
     "output_type": "stream",
     "text": [
      "Epoch 1/15\n",
      "270/270 [==============================] - ETA: 0s - decode_sequence_accuracy: 0.9355 - loss: 20.0894\n",
      "Epoch 00001: val_decode_sequence_accuracy improved from -inf to 0.96928, saving model to bilstm_cnn_crf\\cp.ckpt\n",
      "270/270 [==============================] - 78s 265ms/step - decode_sequence_accuracy: 0.9355 - loss: 20.0476 - val_decode_sequence_accuracy: 0.9693 - val_loss: 7.6367\n",
      "Epoch 2/15\n",
      "270/270 [==============================] - ETA: 0s - decode_sequence_accuracy: 0.9790 - loss: 4.8111\n",
      "Epoch 00002: val_decode_sequence_accuracy improved from 0.96928 to 0.98223, saving model to bilstm_cnn_crf\\cp.ckpt\n",
      "270/270 [==============================] - 70s 260ms/step - decode_sequence_accuracy: 0.9790 - loss: 4.8040 - val_decode_sequence_accuracy: 0.9822 - val_loss: 4.0373\n",
      "Epoch 3/15\n",
      "270/270 [==============================] - ETA: 0s - decode_sequence_accuracy: 0.9861 - loss: 2.9234\n",
      "Epoch 00003: val_decode_sequence_accuracy improved from 0.98223 to 0.98557, saving model to bilstm_cnn_crf\\cp.ckpt\n",
      "270/270 [==============================] - 70s 260ms/step - decode_sequence_accuracy: 0.9861 - loss: 2.9225 - val_decode_sequence_accuracy: 0.9856 - val_loss: 2.8776\n",
      "Epoch 4/15\n",
      "270/270 [==============================] - ETA: 0s - decode_sequence_accuracy: 0.9884 - loss: 2.2926\n",
      "Epoch 00004: val_decode_sequence_accuracy improved from 0.98557 to 0.98595, saving model to bilstm_cnn_crf\\cp.ckpt\n",
      "270/270 [==============================] - 70s 260ms/step - decode_sequence_accuracy: 0.9884 - loss: 2.2918 - val_decode_sequence_accuracy: 0.9859 - val_loss: 2.7702\n",
      "Epoch 5/15\n",
      "270/270 [==============================] - ETA: 0s - decode_sequence_accuracy: 0.9895 - loss: 1.9711\n",
      "Epoch 00005: val_decode_sequence_accuracy improved from 0.98595 to 0.98649, saving model to bilstm_cnn_crf\\cp.ckpt\n",
      "270/270 [==============================] - 70s 259ms/step - decode_sequence_accuracy: 0.9895 - loss: 1.9716 - val_decode_sequence_accuracy: 0.9865 - val_loss: 2.5568\n",
      "Epoch 6/15\n",
      "270/270 [==============================] - ETA: 0s - decode_sequence_accuracy: 0.9901 - loss: 1.7449\n",
      "Epoch 00006: val_decode_sequence_accuracy did not improve from 0.98649\n",
      "270/270 [==============================] - 69s 257ms/step - decode_sequence_accuracy: 0.9901 - loss: 1.7439 - val_decode_sequence_accuracy: 0.9863 - val_loss: 2.4998\n",
      "Epoch 7/15\n",
      "270/270 [==============================] - ETA: 0s - decode_sequence_accuracy: 0.9905 - loss: 1.5934\n",
      "Epoch 00007: val_decode_sequence_accuracy improved from 0.98649 to 0.98670, saving model to bilstm_cnn_crf\\cp.ckpt\n",
      "270/270 [==============================] - 70s 259ms/step - decode_sequence_accuracy: 0.9905 - loss: 1.5923 - val_decode_sequence_accuracy: 0.9867 - val_loss: 2.4519\n",
      "Epoch 8/15\n",
      "270/270 [==============================] - ETA: 0s - decode_sequence_accuracy: 0.9909 - loss: 1.4623\n",
      "Epoch 00008: val_decode_sequence_accuracy did not improve from 0.98670\n",
      "270/270 [==============================] - 70s 259ms/step - decode_sequence_accuracy: 0.9909 - loss: 1.4617 - val_decode_sequence_accuracy: 0.9865 - val_loss: 2.5468\n",
      "Epoch 9/15\n",
      "270/270 [==============================] - ETA: 0s - decode_sequence_accuracy: 0.9913 - loss: 1.3443\n",
      "Epoch 00009: val_decode_sequence_accuracy did not improve from 0.98670\n",
      "270/270 [==============================] - 69s 257ms/step - decode_sequence_accuracy: 0.9913 - loss: 1.3451 - val_decode_sequence_accuracy: 0.9866 - val_loss: 2.5340\n",
      "Epoch 10/15\n",
      "270/270 [==============================] - ETA: 0s - decode_sequence_accuracy: 0.9915 - loss: 1.2482\n",
      "Epoch 00010: val_decode_sequence_accuracy did not improve from 0.98670\n",
      "270/270 [==============================] - 70s 258ms/step - decode_sequence_accuracy: 0.9915 - loss: 1.2483 - val_decode_sequence_accuracy: 0.9866 - val_loss: 2.6737\n",
      "Epoch 11/15\n",
      "270/270 [==============================] - ETA: 0s - decode_sequence_accuracy: 0.9916 - loss: 1.1722\n",
      "Epoch 00011: val_decode_sequence_accuracy did not improve from 0.98670\n",
      "270/270 [==============================] - 70s 258ms/step - decode_sequence_accuracy: 0.9916 - loss: 1.1721 - val_decode_sequence_accuracy: 0.9864 - val_loss: 2.6583\n",
      "Epoch 00011: early stopping\n"
     ]
    }
   ],
   "source": [
    "history = model.fit([X_train, X_char_train], y_train_int, batch_size=128, epochs=15, validation_split=0.1, callbacks=[mc, es])"
   ]
  },
  {
   "cell_type": "code",
   "execution_count": 62,
   "metadata": {
    "colab": {
     "base_uri": "https://localhost:8080/",
     "height": 248
    },
    "executionInfo": {
     "elapsed": 21699,
     "status": "error",
     "timestamp": 1656848226920,
     "user": {
      "displayName": "백선호",
      "userId": "11426685653262706714"
     },
     "user_tz": -540
    },
    "id": "Upa90P0Qzv9j",
    "outputId": "f98ecf05-4159-4113-b5dd-017825c7c8f7"
   },
   "outputs": [
    {
     "name": "stdout",
     "output_type": "stream",
     "text": [
      "단어             |실제값  |예측값\n",
      "-----------------------------------\n",
      "the              : O       O\n",
      "statement        : O       O\n",
      "came             : O       O\n",
      "as               : O       O\n",
      "u.n.             : B-org   B-org\n",
      "secretary-general: I-org   I-org\n",
      "kofi             : B-per   B-per\n",
      "annan            : I-per   I-per\n",
      "met              : O       O\n",
      "with             : O       O\n",
      "officials        : O       O\n",
      "in               : O       O\n",
      "amman            : B-geo   B-geo\n",
      "to               : O       O\n",
      "discuss          : O       O\n",
      "wednesday        : B-tim   B-tim\n",
      "'s               : O       O\n",
      "attacks          : O       O\n",
      ".                : O       O\n"
     ]
    }
   ],
   "source": [
    "model.load_weights('bilstm_cnn_crf/cp.ckpt')\n",
    "\n",
    "i = 13\n",
    "y_predicted = model.predict([np.array([X_test[i]]), np.array([X_char_test[i]])])[0] \n",
    "labels = np.argmax(y_test[i], -1)\n",
    "\n",
    "print(\"{:15}|{:5}|{}\".format(\"단어\", \"실제값\", \"예측값\"))\n",
    "print(35 * \"-\")\n",
    "\n",
    "for word, tag, pred in zip(X_test[i], labels, y_predicted[0]):\n",
    "    if word != 0: \n",
    "        print(\"{:17}: {:7} {}\".format(index_to_word[word], index_to_ner[tag], index_to_ner[pred]))"
   ]
  },
  {
   "cell_type": "code",
   "execution_count": 63,
   "metadata": {
    "colab": {
     "base_uri": "https://localhost:8080/",
     "height": 437
    },
    "executionInfo": {
     "elapsed": 261,
     "status": "error",
     "timestamp": 1656848240585,
     "user": {
      "displayName": "백선호",
      "userId": "11426685653262706714"
     },
     "user_tz": -540
    },
    "id": "lOyXFJjyz1yX",
    "outputId": "e551cb0c-8107-4fc0-bcb6-41b6814596ec"
   },
   "outputs": [
    {
     "name": "stdout",
     "output_type": "stream",
     "text": [
      "F1-score: 80.7%\n",
      "              precision    recall  f1-score   support\n",
      "\n",
      "         art       0.00      0.00      0.00        63\n",
      "         eve       0.70      0.27      0.39        52\n",
      "         geo       0.84      0.85      0.84      7620\n",
      "         gpe       0.94      0.94      0.94      3145\n",
      "         nat       1.00      0.03      0.05        37\n",
      "         org       0.66      0.58      0.62      4033\n",
      "         per       0.78      0.75      0.76      3545\n",
      "         tim       0.85      0.86      0.86      4067\n",
      "\n",
      "   micro avg       0.82      0.79      0.81     22562\n",
      "   macro avg       0.72      0.53      0.56     22562\n",
      "weighted avg       0.81      0.79      0.80     22562\n",
      "\n"
     ]
    }
   ],
   "source": [
    "y_predicted = model.predict([X_test, X_char_test])[0]\n",
    "pred_tags = sequences_to_tag_for_crf(y_predicted)\n",
    "test_tags = sequences_to_tag(y_test)\n",
    "\n",
    "print(\"F1-score: {:.1%}\".format(f1_score(test_tags, pred_tags)))\n",
    "print(classification_report(test_tags, pred_tags))"
   ]
  },
  {
   "cell_type": "code",
   "execution_count": 64,
   "metadata": {
    "colab": {
     "background_save": true,
     "base_uri": "https://localhost:8080/"
    },
    "id": "bmUPbf-bz3Hx"
   },
   "outputs": [
    {
     "name": "stdout",
     "output_type": "stream",
     "text": [
      "Epoch 1/15\n",
      "270/270 [==============================] - ETA: 0s - decode_sequence_accuracy: 0.9268 - loss: 25.6905\n",
      "Epoch 00001: val_decode_sequence_accuracy improved from -inf to 0.96746, saving model to bilstm_bilstm_crf\\cp.ckpt\n",
      "270/270 [==============================] - 85s 277ms/step - decode_sequence_accuracy: 0.9268 - loss: 25.6263 - val_decode_sequence_accuracy: 0.9675 - val_loss: 8.0370\n",
      "Epoch 2/15\n",
      "270/270 [==============================] - ETA: 0s - decode_sequence_accuracy: 0.9787 - loss: 5.1713\n",
      "Epoch 00002: val_decode_sequence_accuracy improved from 0.96746 to 0.98309, saving model to bilstm_bilstm_crf\\cp.ckpt\n",
      "270/270 [==============================] - 72s 268ms/step - decode_sequence_accuracy: 0.9787 - loss: 5.1683 - val_decode_sequence_accuracy: 0.9831 - val_loss: 3.7821\n",
      "Epoch 3/15\n",
      "270/270 [==============================] - ETA: 0s - decode_sequence_accuracy: 0.9863 - loss: 2.9636\n",
      "Epoch 00003: val_decode_sequence_accuracy improved from 0.98309 to 0.98557, saving model to bilstm_bilstm_crf\\cp.ckpt\n",
      "270/270 [==============================] - 73s 270ms/step - decode_sequence_accuracy: 0.9863 - loss: 2.9645 - val_decode_sequence_accuracy: 0.9856 - val_loss: 2.9242\n",
      "Epoch 4/15\n",
      "270/270 [==============================] - ETA: 0s - decode_sequence_accuracy: 0.9885 - loss: 2.2900\n",
      "Epoch 00004: val_decode_sequence_accuracy improved from 0.98557 to 0.98647, saving model to bilstm_bilstm_crf\\cp.ckpt\n",
      "270/270 [==============================] - 72s 268ms/step - decode_sequence_accuracy: 0.9885 - loss: 2.2912 - val_decode_sequence_accuracy: 0.9865 - val_loss: 2.6387\n",
      "Epoch 5/15\n",
      "270/270 [==============================] - ETA: 0s - decode_sequence_accuracy: 0.9898 - loss: 1.9272\n",
      "Epoch 00005: val_decode_sequence_accuracy improved from 0.98647 to 0.98669, saving model to bilstm_bilstm_crf\\cp.ckpt\n",
      "270/270 [==============================] - 73s 269ms/step - decode_sequence_accuracy: 0.9898 - loss: 1.9272 - val_decode_sequence_accuracy: 0.9867 - val_loss: 2.5792\n",
      "Epoch 6/15\n",
      "270/270 [==============================] - ETA: 0s - decode_sequence_accuracy: 0.9906 - loss: 1.6886\n",
      "Epoch 00006: val_decode_sequence_accuracy improved from 0.98669 to 0.98694, saving model to bilstm_bilstm_crf\\cp.ckpt\n",
      "270/270 [==============================] - 72s 268ms/step - decode_sequence_accuracy: 0.9906 - loss: 1.6888 - val_decode_sequence_accuracy: 0.9869 - val_loss: 2.5458\n",
      "Epoch 7/15\n",
      "270/270 [==============================] - ETA: 0s - decode_sequence_accuracy: 0.9912 - loss: 1.5099\n",
      "Epoch 00007: val_decode_sequence_accuracy did not improve from 0.98694\n",
      "270/270 [==============================] - 72s 268ms/step - decode_sequence_accuracy: 0.9912 - loss: 1.5099 - val_decode_sequence_accuracy: 0.9866 - val_loss: 2.6013\n",
      "Epoch 8/15\n",
      "270/270 [==============================] - ETA: 0s - decode_sequence_accuracy: 0.9918 - loss: 1.3616\n",
      "Epoch 00008: val_decode_sequence_accuracy did not improve from 0.98694\n",
      "270/270 [==============================] - 72s 267ms/step - decode_sequence_accuracy: 0.9918 - loss: 1.3608 - val_decode_sequence_accuracy: 0.9867 - val_loss: 2.7218\n",
      "Epoch 9/15\n",
      "270/270 [==============================] - ETA: 0s - decode_sequence_accuracy: 0.9922 - loss: 1.2436\n",
      "Epoch 00009: val_decode_sequence_accuracy did not improve from 0.98694\n",
      "270/270 [==============================] - 72s 267ms/step - decode_sequence_accuracy: 0.9922 - loss: 1.2424 - val_decode_sequence_accuracy: 0.9865 - val_loss: 2.8609\n",
      "Epoch 10/15\n",
      "270/270 [==============================] - ETA: 0s - decode_sequence_accuracy: 0.9926 - loss: 1.1356\n",
      "Epoch 00010: val_decode_sequence_accuracy did not improve from 0.98694\n",
      "270/270 [==============================] - 72s 266ms/step - decode_sequence_accuracy: 0.9926 - loss: 1.1359 - val_decode_sequence_accuracy: 0.9862 - val_loss: 2.8907\n",
      "Epoch 00010: early stopping\n"
     ]
    }
   ],
   "source": [
    "embedding_dim = 128\n",
    "char_embedding_dim = 64\n",
    "dropout_ratio = 0.3\n",
    "hidden_units = 64\n",
    "\n",
    "word_ids = Input(batch_shape=(None, None), dtype='int32', name='word_input')\n",
    "word_embeddings = Embedding(input_dim=vocab_size,\n",
    "                                        output_dim=embedding_dim,\n",
    "                                        name='word_embedding')(word_ids)\n",
    "char_ids = Input(batch_shape=(None, None, None), dtype='int32', name='char_input')\n",
    "char_embeddings = Embedding(input_dim=(len(char_to_index)),\n",
    "                                        output_dim=char_embedding_dim,\n",
    "                                        embeddings_initializer=RandomUniform(minval=-0.5, maxval=0.5),\n",
    "                                        name='char_embedding')(char_ids)\n",
    "char_embeddings = TimeDistributed(Bidirectional(LSTM(hidden_units)))(char_embeddings)\n",
    "output = concatenate([word_embeddings, char_embeddings])\n",
    "output = Dropout(dropout_ratio)(output)\n",
    "output = Bidirectional(LSTM(units=hidden_units, return_sequences=True))(output)\n",
    "\n",
    "output = TimeDistributed(Dense(tag_size, activation='relu'))(output)\n",
    "\n",
    "base = Model(inputs=[word_ids, char_ids], outputs=[output])\n",
    "model = CRFModel(base, tag_size)\n",
    "model.compile(optimizer=tf.keras.optimizers.Adam(0.001), metrics='accuracy')\n",
    "\n",
    "es = EarlyStopping(monitor='val_loss', mode='min', verbose=1, patience=4)\n",
    "mc = ModelCheckpoint('bilstm_bilstm_crf/cp.ckpt', monitor='val_decode_sequence_accuracy', mode='max', verbose=1, save_best_only=True, save_weights_only=True)\n",
    "\n",
    "history = model.fit([X_train, X_char_train], y_train_int, batch_size=128, epochs=15, validation_split=0.1, callbacks=[mc, es])"
   ]
  },
  {
   "cell_type": "code",
   "execution_count": 65,
   "metadata": {
    "colab": {
     "background_save": true
    },
    "id": "4zHa04KX0AmV",
    "scrolled": true
   },
   "outputs": [
    {
     "name": "stdout",
     "output_type": "stream",
     "text": [
      "단어             |실제값  |예측값\n",
      "-----------------------------------\n",
      "the              : O       O\n",
      "statement        : O       O\n",
      "came             : O       O\n",
      "as               : O       O\n",
      "u.n.             : B-org   B-org\n",
      "secretary-general: I-org   I-org\n",
      "kofi             : B-per   B-per\n",
      "annan            : I-per   I-per\n",
      "met              : O       O\n",
      "with             : O       O\n",
      "officials        : O       O\n",
      "in               : O       O\n",
      "amman            : B-geo   B-geo\n",
      "to               : O       O\n",
      "discuss          : O       O\n",
      "wednesday        : B-tim   B-tim\n",
      "'s               : O       O\n",
      "attacks          : O       O\n",
      ".                : O       O\n"
     ]
    }
   ],
   "source": [
    "model.load_weights('bilstm_bilstm_crf/cp.ckpt')\n",
    "\n",
    "i = 13\n",
    "y_predicted = model.predict([np.array([X_test[i]]), np.array([X_char_test[i]])])[0]\n",
    "labels = np.argmax(y_test[i], -1)\n",
    "\n",
    "print(\"{:15}|{:5}|{}\".format(\"단어\", \"실제값\", \"예측값\"))\n",
    "print(35 * \"-\")\n",
    "\n",
    "for word, tag, pred in zip(X_test[i], labels, y_predicted[0]):\n",
    "    if word != 0:\n",
    "        print(\"{:17}: {:7} {}\".format(index_to_word[word], index_to_ner[tag], index_to_ner[pred]))"
   ]
  },
  {
   "cell_type": "code",
   "execution_count": 66,
   "metadata": {
    "colab": {
     "background_save": true
    },
    "id": "-4dF5Dgb0EDY"
   },
   "outputs": [
    {
     "name": "stdout",
     "output_type": "stream",
     "text": [
      "F1-score: 80.7%\n",
      "              precision    recall  f1-score   support\n",
      "\n",
      "         art       0.00      0.00      0.00        63\n",
      "         eve       0.87      0.25      0.39        52\n",
      "         geo       0.81      0.88      0.84      7620\n",
      "         gpe       0.95      0.94      0.95      3145\n",
      "         nat       0.00      0.00      0.00        37\n",
      "         org       0.70      0.55      0.61      4033\n",
      "         per       0.77      0.75      0.76      3545\n",
      "         tim       0.84      0.85      0.85      4067\n",
      "\n",
      "   micro avg       0.81      0.80      0.81     22562\n",
      "   macro avg       0.62      0.53      0.55     22562\n",
      "weighted avg       0.81      0.80      0.80     22562\n",
      "\n"
     ]
    }
   ],
   "source": [
    "y_predicted = model.predict([X_test, X_char_test])[0]\n",
    "pred_tags = sequences_to_tag_for_crf(y_predicted)\n",
    "test_tags = sequences_to_tag(y_test)\n",
    "\n",
    "print(\"F1-score: {:.1%}\".format(f1_score(test_tags, pred_tags)))\n",
    "print(classification_report(test_tags, pred_tags))"
   ]
  },
  {
   "cell_type": "code",
   "execution_count": null,
   "metadata": {
    "id": "Qx4LdYfm0e9W"
   },
   "outputs": [],
   "source": []
  }
 ],
 "metadata": {
  "accelerator": "GPU",
  "colab": {
   "collapsed_sections": [],
   "name": "Untitled2.ipynb",
   "version": ""
  },
  "gpuClass": "standard",
  "kernelspec": {
   "display_name": "Python 3",
   "language": "python",
   "name": "python3"
  },
  "language_info": {
   "codemirror_mode": {
    "name": "ipython",
    "version": 3
   },
   "file_extension": ".py",
   "mimetype": "text/x-python",
   "name": "python",
   "nbconvert_exporter": "python",
   "pygments_lexer": "ipython3",
   "version": "3.8.3"
  }
 },
 "nbformat": 4,
 "nbformat_minor": 1
}

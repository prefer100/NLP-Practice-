{
 "cells": [
  {
   "cell_type": "code",
   "execution_count": 6,
   "metadata": {},
   "outputs": [
    {
     "ename": "NameError",
     "evalue": "name 'hidden_units' is not defined",
     "output_type": "error",
     "traceback": [
      "\u001b[1;31m---------------------------------------------------------------------------\u001b[0m",
      "\u001b[1;31mNameError\u001b[0m                                 Traceback (most recent call last)",
      "\u001b[1;32m<ipython-input-6-25f7644c44d0>\u001b[0m in \u001b[0;36m<module>\u001b[1;34m\u001b[0m\n\u001b[0;32m      2\u001b[0m \u001b[1;32mfrom\u001b[0m \u001b[0mtensorflow\u001b[0m\u001b[1;33m.\u001b[0m\u001b[0mkeras\u001b[0m\u001b[1;33m.\u001b[0m\u001b[0mmodels\u001b[0m \u001b[1;32mimport\u001b[0m \u001b[0mSequential\u001b[0m\u001b[1;33m\u001b[0m\u001b[1;33m\u001b[0m\u001b[0m\n\u001b[0;32m      3\u001b[0m \u001b[0mmodel\u001b[0m \u001b[1;33m=\u001b[0m \u001b[0mSequential\u001b[0m\u001b[1;33m(\u001b[0m\u001b[1;33m)\u001b[0m\u001b[1;33m\u001b[0m\u001b[1;33m\u001b[0m\u001b[0m\n\u001b[1;32m----> 4\u001b[1;33m \u001b[0mmodel\u001b[0m\u001b[1;33m.\u001b[0m\u001b[0madd\u001b[0m\u001b[1;33m(\u001b[0m\u001b[0mSimpleRNN\u001b[0m\u001b[1;33m(\u001b[0m\u001b[0mhidden_units\u001b[0m\u001b[1;33m)\u001b[0m\u001b[1;33m)\u001b[0m\u001b[1;33m\u001b[0m\u001b[1;33m\u001b[0m\u001b[0m\n\u001b[0m",
      "\u001b[1;31mNameError\u001b[0m: name 'hidden_units' is not defined"
     ]
    }
   ],
   "source": [
    "from tensorflow.keras.layers import SimpleRNN\n",
    "from tensorflow.keras.models import Sequential\n",
    "model = Sequential()\n",
    "model.add(SimpleRNN(hidden_units))"
   ]
  },
  {
   "cell_type": "code",
   "execution_count": 7,
   "metadata": {},
   "outputs": [
    {
     "ename": "NameError",
     "evalue": "name 'hidden_units' is not defined",
     "output_type": "error",
     "traceback": [
      "\u001b[1;31m---------------------------------------------------------------------------\u001b[0m",
      "\u001b[1;31mNameError\u001b[0m                                 Traceback (most recent call last)",
      "\u001b[1;32m<ipython-input-7-dc065c9fee6e>\u001b[0m in \u001b[0;36m<module>\u001b[1;34m\u001b[0m\n\u001b[1;32m----> 1\u001b[1;33m \u001b[0mmodel\u001b[0m\u001b[1;33m.\u001b[0m\u001b[0madd\u001b[0m\u001b[1;33m(\u001b[0m\u001b[0mSimpleRNN\u001b[0m\u001b[1;33m(\u001b[0m\u001b[0mhidden_units\u001b[0m\u001b[1;33m,\u001b[0m\u001b[0minput_shape\u001b[0m\u001b[1;33m=\u001b[0m\u001b[1;33m(\u001b[0m\u001b[0mtimesteps\u001b[0m\u001b[1;33m,\u001b[0m\u001b[0minput_dim\u001b[0m\u001b[1;33m)\u001b[0m\u001b[1;33m)\u001b[0m\u001b[1;33m)\u001b[0m\u001b[1;33m\u001b[0m\u001b[1;33m\u001b[0m\u001b[0m\n\u001b[0m\u001b[0;32m      2\u001b[0m \u001b[1;33m\u001b[0m\u001b[0m\n\u001b[0;32m      3\u001b[0m \u001b[0mmodel\u001b[0m\u001b[1;33m.\u001b[0m\u001b[0madd\u001b[0m\u001b[1;33m(\u001b[0m\u001b[0mSimpleRNN\u001b[0m\u001b[1;33m(\u001b[0m\u001b[0mhidden_units\u001b[0m\u001b[1;33m,\u001b[0m\u001b[0minput_length\u001b[0m\u001b[1;33m=\u001b[0m\u001b[0mM\u001b[0m\u001b[1;33m,\u001b[0m\u001b[0minput_dim\u001b[0m\u001b[1;33m=\u001b[0m\u001b[0mN\u001b[0m\u001b[1;33m)\u001b[0m\u001b[1;33m)\u001b[0m\u001b[1;33m\u001b[0m\u001b[1;33m\u001b[0m\u001b[0m\n",
      "\u001b[1;31mNameError\u001b[0m: name 'hidden_units' is not defined"
     ]
    }
   ],
   "source": [
    "model.add(SimpleRNN(hidden_units,input_shape=(timesteps,input_dim)))\n",
    "\n",
    "model.add(SimpleRNN(hidden_units,input_length=M,input_dim=N))"
   ]
  },
  {
   "cell_type": "code",
   "execution_count": 8,
   "metadata": {},
   "outputs": [
    {
     "name": "stdout",
     "output_type": "stream",
     "text": [
      "Model: \"sequential_1\"\n",
      "_________________________________________________________________\n",
      "Layer (type)                 Output Shape              Param #   \n",
      "=================================================================\n",
      "simple_rnn (SimpleRNN)       (None, 3)                 42        \n",
      "=================================================================\n",
      "Total params: 42\n",
      "Trainable params: 42\n",
      "Non-trainable params: 0\n",
      "_________________________________________________________________\n"
     ]
    }
   ],
   "source": [
    "from tensorflow.keras.models import Sequential\n",
    "from tensorflow.keras.layers import SimpleRNN\n",
    "\n",
    "model = Sequential()\n",
    "model.add(SimpleRNN(3,input_shape=(2,10)))\n",
    "# model.add(SimpleRNN(3, input_length=2, input_dim=10))와 동일함.\n",
    "model.summary()"
   ]
  },
  {
   "cell_type": "code",
   "execution_count": 9,
   "metadata": {},
   "outputs": [
    {
     "name": "stdout",
     "output_type": "stream",
     "text": [
      "Model: \"sequential_2\"\n",
      "_________________________________________________________________\n",
      "Layer (type)                 Output Shape              Param #   \n",
      "=================================================================\n",
      "simple_rnn_1 (SimpleRNN)     (8, 3)                    42        \n",
      "=================================================================\n",
      "Total params: 42\n",
      "Trainable params: 42\n",
      "Non-trainable params: 0\n",
      "_________________________________________________________________\n"
     ]
    }
   ],
   "source": [
    "model = Sequential()\n",
    "model.add(SimpleRNN(3,batch_input_shape=(8,2,10)))\n",
    "model.summary()"
   ]
  },
  {
   "cell_type": "code",
   "execution_count": 10,
   "metadata": {},
   "outputs": [
    {
     "name": "stdout",
     "output_type": "stream",
     "text": [
      "Model: \"sequential_3\"\n",
      "_________________________________________________________________\n",
      "Layer (type)                 Output Shape              Param #   \n",
      "=================================================================\n",
      "simple_rnn_2 (SimpleRNN)     (8, 2, 3)                 42        \n",
      "=================================================================\n",
      "Total params: 42\n",
      "Trainable params: 42\n",
      "Non-trainable params: 0\n",
      "_________________________________________________________________\n"
     ]
    }
   ],
   "source": [
    "model = Sequential()\n",
    "model.add(SimpleRNN(3,batch_input_shape=(8,2,10),return_sequences=True))\n",
    "model.summary()"
   ]
  },
  {
   "cell_type": "code",
   "execution_count": 11,
   "metadata": {},
   "outputs": [
    {
     "ename": "NameError",
     "evalue": "name 'input_length' is not defined",
     "output_type": "error",
     "traceback": [
      "\u001b[1;31m---------------------------------------------------------------------------\u001b[0m",
      "\u001b[1;31mNameError\u001b[0m                                 Traceback (most recent call last)",
      "\u001b[1;32m<ipython-input-11-e3d32eb948d5>\u001b[0m in \u001b[0;36m<module>\u001b[1;34m\u001b[0m\n\u001b[0;32m      1\u001b[0m \u001b[0mhidden_state_t\u001b[0m \u001b[1;33m=\u001b[0m \u001b[1;36m0\u001b[0m\u001b[1;33m\u001b[0m\u001b[1;33m\u001b[0m\u001b[0m\n\u001b[1;32m----> 2\u001b[1;33m \u001b[1;32mfor\u001b[0m \u001b[0minput_t\u001b[0m \u001b[1;32min\u001b[0m \u001b[0minput_length\u001b[0m\u001b[1;33m:\u001b[0m\u001b[1;33m\u001b[0m\u001b[1;33m\u001b[0m\u001b[0m\n\u001b[0m\u001b[0;32m      3\u001b[0m     \u001b[0moutput_t\u001b[0m \u001b[1;33m=\u001b[0m \u001b[0mtanh\u001b[0m\u001b[1;33m(\u001b[0m\u001b[0minput_t\u001b[0m\u001b[1;33m,\u001b[0m\u001b[0mhidden_state_t\u001b[0m\u001b[1;33m)\u001b[0m\u001b[1;33m\u001b[0m\u001b[1;33m\u001b[0m\u001b[0m\n\u001b[0;32m      4\u001b[0m     \u001b[0mhidden_state_t\u001b[0m \u001b[1;33m=\u001b[0m \u001b[0moutput_t\u001b[0m\u001b[1;33m\u001b[0m\u001b[1;33m\u001b[0m\u001b[0m\n",
      "\u001b[1;31mNameError\u001b[0m: name 'input_length' is not defined"
     ]
    }
   ],
   "source": [
    "hidden_state_t = 0\n",
    "for input_t in input_length:\n",
    "    output_t = tanh(input_t,hidden_state_t)\n",
    "    hidden_state_t = output_t"
   ]
  },
  {
   "cell_type": "code",
   "execution_count": 12,
   "metadata": {},
   "outputs": [
    {
     "name": "stdout",
     "output_type": "stream",
     "text": [
      "초기 은닉 상태 : [0. 0. 0. 0. 0. 0. 0. 0.]\n"
     ]
    }
   ],
   "source": [
    "import numpy as np\n",
    "timesteps = 10\n",
    "input_dim = 4\n",
    "hidden_units = 8\n",
    "\n",
    "inputs = np.random.random((timesteps,input_dim))\n",
    "\n",
    "hidden_state_t = np.zeros((hidden_units,))\n",
    "print('초기 은닉 상태 :',hidden_state_t)"
   ]
  },
  {
   "cell_type": "code",
   "execution_count": 13,
   "metadata": {},
   "outputs": [
    {
     "name": "stdout",
     "output_type": "stream",
     "text": [
      "가중치 Wx의 크기(shape) : (8, 4)\n",
      "가중치 Wh의 크기(shape) : (8, 8)\n",
      "편향의 크기(shape) : (8,)\n"
     ]
    }
   ],
   "source": [
    "Wx = np.random.random((hidden_units,input_dim))\n",
    "Wh = np.random.random((hidden_units,hidden_units))\n",
    "b= np.random.random((hidden_units,))\n",
    "print('가중치 Wx의 크기(shape) :',np.shape(Wx))\n",
    "print('가중치 Wh의 크기(shape) :',np.shape(Wh))\n",
    "print('편향의 크기(shape) :',np.shape(b))"
   ]
  },
  {
   "cell_type": "code",
   "execution_count": 14,
   "metadata": {},
   "outputs": [
    {
     "name": "stdout",
     "output_type": "stream",
     "text": [
      "모든 시점의 은닉 상태 :\n",
      "[[0.50571797 0.90725626 0.60538131 0.87836761 0.79348502 0.88907921\n",
      "  0.96058751 0.93614495]\n",
      " [0.99996879 0.99992357 0.99969908 0.99997738 0.99965856 0.99986497\n",
      "  0.999986   0.99996433]\n",
      " [0.99997795 0.99996435 0.99987832 0.99999089 0.99980272 0.99993216\n",
      "  0.99999793 0.99998641]\n",
      " [0.99999292 0.99997885 0.99991374 0.99999281 0.99988446 0.99995283\n",
      "  0.99999822 0.99998914]\n",
      " [0.999995   0.99999325 0.99994254 0.99999682 0.99996062 0.99998436\n",
      "  0.99999933 0.99999485]\n",
      " [0.99998903 0.99997969 0.99990816 0.99999658 0.99991577 0.99995229\n",
      "  0.99999829 0.99999495]\n",
      " [0.99997279 0.99987137 0.99982426 0.99997886 0.99953179 0.99985009\n",
      "  0.99999352 0.99996692]\n",
      " [0.99998215 0.99996161 0.9998835  0.99999199 0.99983897 0.99994067\n",
      "  0.99999756 0.99998737]\n",
      " [0.99999261 0.99999531 0.99994133 0.99999788 0.99996145 0.9999818\n",
      "  0.99999956 0.99999697]\n",
      " [0.99999566 0.99999175 0.9999387  0.99999551 0.99994161 0.99997624\n",
      "  0.99999917 0.99999321]]\n"
     ]
    }
   ],
   "source": [
    "total_hidden_states = []\n",
    "for input_t in inputs:\n",
    "    output_t = np.tanh(np.dot(Wx,input_t) + np.dot(Wh,hidden_state_t)+ b)\n",
    "    \n",
    "    total_hidden_states.append(list(output_t))\n",
    "    hidden_state_t = output_t\n",
    "total_hidden_states = np.stack(total_hidden_states,axis=0)\n",
    "print('모든 시점의 은닉 상태 :')\n",
    "print(total_hidden_states)"
   ]
  },
  {
   "cell_type": "code",
   "execution_count": 16,
   "metadata": {},
   "outputs": [
    {
     "name": "stdout",
     "output_type": "stream",
     "text": [
      "Model: \"sequential_5\"\n",
      "_________________________________________________________________\n",
      "Layer (type)                 Output Shape              Param #   \n",
      "=================================================================\n",
      "simple_rnn_4 (SimpleRNN)     (None, 10, 8)             112       \n",
      "_________________________________________________________________\n",
      "simple_rnn_5 (SimpleRNN)     (None, 10, 8)             136       \n",
      "=================================================================\n",
      "Total params: 248\n",
      "Trainable params: 248\n",
      "Non-trainable params: 0\n",
      "_________________________________________________________________\n"
     ]
    }
   ],
   "source": [
    "model = Sequential()\n",
    "model.add(SimpleRNN(hidden_units,input_length=10,input_dim=5,return_sequences=True))\n",
    "model.add(SimpleRNN(hidden_units,return_sequences=True))\n",
    "model.summary()"
   ]
  },
  {
   "cell_type": "code",
   "execution_count": 18,
   "metadata": {},
   "outputs": [],
   "source": [
    "from tensorflow.keras.layers import Bidirectional\n",
    "timesteps = 10\n",
    "input_dim = 5\n",
    "model = Sequential()\n",
    "model.add(Bidirectional(SimpleRNN(hidden_units,return_sequences=True),input_shape=(timesteps,input_dim)))"
   ]
  },
  {
   "cell_type": "code",
   "execution_count": 20,
   "metadata": {},
   "outputs": [
    {
     "name": "stdout",
     "output_type": "stream",
     "text": [
      "Model: \"sequential_9\"\n",
      "_________________________________________________________________\n",
      "Layer (type)                 Output Shape              Param #   \n",
      "=================================================================\n",
      "bidirectional_5 (Bidirection (None, 10, 16)            224       \n",
      "_________________________________________________________________\n",
      "bidirectional_6 (Bidirection (None, 10, 16)            400       \n",
      "_________________________________________________________________\n",
      "bidirectional_7 (Bidirection (None, 10, 16)            400       \n",
      "_________________________________________________________________\n",
      "bidirectional_8 (Bidirection (None, 10, 16)            400       \n",
      "=================================================================\n",
      "Total params: 1,424\n",
      "Trainable params: 1,424\n",
      "Non-trainable params: 0\n",
      "_________________________________________________________________\n"
     ]
    }
   ],
   "source": [
    "model = Sequential()\n",
    "model.add(Bidirectional(SimpleRNN(hidden_units,return_sequences=True),input_shape=(timesteps,input_dim)))\n",
    "model.add(Bidirectional(SimpleRNN(hidden_units,return_sequences=True)))\n",
    "model.add(Bidirectional(SimpleRNN(hidden_units,return_sequences=True)))\n",
    "model.add(Bidirectional(SimpleRNN(hidden_units,return_sequences=True)))\n",
    "model.summary()"
   ]
  },
  {
   "cell_type": "code",
   "execution_count": 1,
   "metadata": {},
   "outputs": [
    {
     "ename": "NameError",
     "evalue": "name 'model' is not defined",
     "output_type": "error",
     "traceback": [
      "\u001b[1;31m---------------------------------------------------------------------------\u001b[0m",
      "\u001b[1;31mNameError\u001b[0m                                 Traceback (most recent call last)",
      "\u001b[1;32m<ipython-input-1-3075909e777c>\u001b[0m in \u001b[0;36m<module>\u001b[1;34m\u001b[0m\n\u001b[0;32m      1\u001b[0m \u001b[1;31m# KERAS GRU\u001b[0m\u001b[1;33m\u001b[0m\u001b[1;33m\u001b[0m\u001b[1;33m\u001b[0m\u001b[0m\n\u001b[1;32m----> 2\u001b[1;33m \u001b[0mmodel\u001b[0m\u001b[1;33m.\u001b[0m\u001b[0madd\u001b[0m\u001b[1;33m(\u001b[0m\u001b[0mGRU\u001b[0m\u001b[1;33m(\u001b[0m\u001b[0mhidden_size\u001b[0m\u001b[1;33m,\u001b[0m\u001b[0minput_shape\u001b[0m\u001b[1;33m=\u001b[0m\u001b[1;33m(\u001b[0m\u001b[0mtimesteps\u001b[0m\u001b[1;33m,\u001b[0m\u001b[0minput_dim\u001b[0m\u001b[1;33m)\u001b[0m\u001b[1;33m)\u001b[0m\u001b[1;33m)\u001b[0m\u001b[1;33m\u001b[0m\u001b[1;33m\u001b[0m\u001b[0m\n\u001b[0m",
      "\u001b[1;31mNameError\u001b[0m: name 'model' is not defined"
     ]
    }
   ],
   "source": [
    "# KERAS GRU\n",
    "model.add(GRU(hidden_size,input_shape=(timesteps,input_dim)))"
   ]
  },
  {
   "cell_type": "code",
   "execution_count": 2,
   "metadata": {},
   "outputs": [],
   "source": [
    "import numpy as np\n",
    "import tensorflow as tf\n",
    "from tensorflow.keras.layers import SimpleRNN,LSTM,Bidirectional"
   ]
  },
  {
   "cell_type": "code",
   "execution_count": 3,
   "metadata": {},
   "outputs": [
    {
     "name": "stdout",
     "output_type": "stream",
     "text": [
      "(4, 5)\n"
     ]
    }
   ],
   "source": [
    "train_X= [[0.1,4.2,1.5,1.1,2.8],[1.0,3.1,2.5,0.7,1.1],[0.3,2.1,1.5,2.1,0.1],[2.2,1.4,0.5,0.9,1.1]]\n",
    "print(np.shape(train_X))"
   ]
  },
  {
   "cell_type": "code",
   "execution_count": 4,
   "metadata": {},
   "outputs": [
    {
     "name": "stdout",
     "output_type": "stream",
     "text": [
      "(1, 4, 5)\n"
     ]
    }
   ],
   "source": [
    "train_X = [[[0.1, 4.2, 1.5, 1.1, 2.8], [1.0, 3.1, 2.5, 0.7, 1.1], [0.3, 2.1, 1.5, 2.1, 0.1], [2.2, 1.4, 0.5, 0.9, 1.1]]]\n",
    "train_X = np.array(train_X,dtype=np.float32)\n",
    "print(train_X.shape)"
   ]
  },
  {
   "cell_type": "code",
   "execution_count": 5,
   "metadata": {},
   "outputs": [
    {
     "name": "stdout",
     "output_type": "stream",
     "text": [
      "hidden state : [[-0.9716032 -0.5257024 -0.9866782]], shape: (1, 3)\n"
     ]
    }
   ],
   "source": [
    "rnn = SimpleRNN(3)\n",
    "# rnn = SimpleRNN(3,return_sequences=False, return_state=False)\n",
    "hidden_state = rnn(train_X)\n",
    "\n",
    "print('hidden state : {}, shape: {}'.format(hidden_state,hidden_state.shape))"
   ]
  },
  {
   "cell_type": "code",
   "execution_count": 6,
   "metadata": {},
   "outputs": [
    {
     "name": "stdout",
     "output_type": "stream",
     "text": [
      "hidden states : [[[-0.59935856  0.9501925  -0.9967708 ]\n",
      "  [ 0.11284617  0.9931246  -0.9262317 ]\n",
      "  [ 0.8435606   0.9569659  -0.9552238 ]\n",
      "  [ 0.93895537  0.9929197  -0.9337937 ]]], shape: (1, 4, 3)\n"
     ]
    }
   ],
   "source": [
    "rnn = SimpleRNN(3,return_sequences=True)\n",
    "hidden_states = rnn(train_X)\n",
    "print('hidden states : {}, shape: {}'.format(hidden_states,hidden_states.shape))"
   ]
  },
  {
   "cell_type": "code",
   "execution_count": 8,
   "metadata": {},
   "outputs": [
    {
     "name": "stdout",
     "output_type": "stream",
     "text": [
      "hidden states : [[[-0.88198197  0.9999322  -0.99997133]\n",
      "  [-0.9993907   0.99933    -0.9999045 ]\n",
      "  [-0.9935954   0.85836935 -0.99845207]\n",
      "  [-0.9982384   0.60425067 -0.9840131 ]]], shape: (1, 4, 3)\n",
      "last hidden state : [[-0.9982384   0.60425067 -0.9840131 ]], shape: (1, 3)\n"
     ]
    }
   ],
   "source": [
    "rnn = SimpleRNN(3,return_sequences=True,return_state=True)\n",
    "hidden_states, last_state = rnn(train_X)\n",
    "\n",
    "print('hidden states : {}, shape: {}'.format(hidden_states,hidden_states.shape))\n",
    "print('last hidden state : {}, shape: {}'.format(last_state,last_state.shape))"
   ]
  },
  {
   "cell_type": "code",
   "execution_count": 11,
   "metadata": {},
   "outputs": [
    {
     "name": "stdout",
     "output_type": "stream",
     "text": [
      "hidden states : [[-0.8669409  0.9178482 -0.9846595]], shape: (1, 3)\n",
      "last hidden state : [[-0.8669409  0.9178482 -0.9846595]], shape: (1, 3)\n"
     ]
    }
   ],
   "source": [
    "rnn = SimpleRNN(3,return_sequences=False,return_state=True)\n",
    "hidden_state, last_state = rnn(train_X)\n",
    "\n",
    "print('hidden states : {}, shape: {}'.format(hidden_state,hidden_state.shape))\n",
    "print('last hidden state : {}, shape: {}'.format(last_state,last_state.shape))"
   ]
  },
  {
   "cell_type": "code",
   "execution_count": 13,
   "metadata": {},
   "outputs": [
    {
     "name": "stdout",
     "output_type": "stream",
     "text": [
      "hidden state : [[ 0.16715123  0.02350286 -0.28459555]], shape: (1, 3)\n",
      "last state : [[ 0.16715123  0.02350286 -0.28459555]], shape: (1, 3)\n",
      "last cell state : [[ 0.47846556  0.03586906 -0.81367755]], shape: (1, 3)\n"
     ]
    }
   ],
   "source": [
    "lstm = LSTM(3,return_sequences=False, return_state=True)\n",
    "hidden_state , last_state,last_cell_state = lstm(train_X)\n",
    "print('hidden state : {}, shape: {}'.format(hidden_state,hidden_state.shape))\n",
    "print('last state : {}, shape: {}'.format(last_state,last_state.shape))\n",
    "print('last cell state : {}, shape: {}'.format(last_cell_state,last_cell_state.shape))"
   ]
  },
  {
   "cell_type": "code",
   "execution_count": 14,
   "metadata": {},
   "outputs": [
    {
     "name": "stdout",
     "output_type": "stream",
     "text": [
      "hidden states : [[[ 0.00045257  0.20976567 -0.01780145]\n",
      "  [ 0.05810369 -0.13566414 -0.17132653]\n",
      "  [ 0.10796597 -0.14652531 -0.36971757]\n",
      "  [-0.06538382 -0.22209194 -0.45135295]]], shape: (1, 4, 3)\n",
      "last hidden state : [[-0.06538382 -0.22209194 -0.45135295]], shape: (1, 3)\n",
      "last cell state : [[-0.13397744 -0.52863    -1.2235613 ]], shape: (1, 3)\n"
     ]
    }
   ],
   "source": [
    "lstm = LSTM(3, return_sequences=True, return_state=True)\n",
    "hidden_states, last_hidden_state, last_cell_state = lstm(train_X)\n",
    "\n",
    "print('hidden states : {}, shape: {}'.format(hidden_states, hidden_states.shape))\n",
    "print('last hidden state : {}, shape: {}'.format(last_hidden_state, last_hidden_state.shape))\n",
    "print('last cell state : {}, shape: {}'.format(last_cell_state, last_cell_state.shape))"
   ]
  },
  {
   "cell_type": "code",
   "execution_count": 15,
   "metadata": {},
   "outputs": [],
   "source": [
    "k_init = tf.keras.initializers.Constant(value=0.1)\n",
    "b_init = tf.keras.initializers.Constant(value = 0)\n",
    "r_init = tf.keras.initializers.Constant(value=0.1)"
   ]
  },
  {
   "cell_type": "code",
   "execution_count": 20,
   "metadata": {},
   "outputs": [
    {
     "name": "stdout",
     "output_type": "stream",
     "text": [
      "hidden states : [[0.6303138 0.6303138 0.6303138 0.7038734 0.7038734 0.7038734]], shape : (1, 6)\n",
      "forward states : [[0.6303138 0.6303138 0.6303138]], shape :  (1, 3)\n",
      "backward states : [[0.7038734 0.7038734 0.7038734]], shape :  (1, 3)\n"
     ]
    }
   ],
   "source": [
    "bilstm = Bidirectional(LSTM(3,return_sequences=False, return_state=True, \\\n",
    "                           kernel_initializer=k_init, bias_initializer=b_init,recurrent_initializer=r_init))\n",
    "hidden_state,forward_h,forward_c,backward_h,backward_c = bilstm(train_X)\n",
    "print('hidden states : {}, shape : {}'.format(hidden_states,hidden_states.shape))\n",
    "print('forward states : {}, shape :  {}'.format(forward_h,forward_h.shape))\n",
    "print('backward states : {}, shape :  {}'.format(backward_h,backward_h.shape))"
   ]
  },
  {
   "cell_type": "code",
   "execution_count": 21,
   "metadata": {},
   "outputs": [],
   "source": [
    "bilstm = Bidirectional(LSTM(3,return_sequences=True,return_state=True,\\\n",
    "                           kernel_initializer=k_init,bias_initializer=b_init,recurrent_initializer=r_init))\n",
    "hidden_states,forward_h,forward_c,backward_h,backward_c = bilstm(train_X)"
   ]
  },
  {
   "cell_type": "code",
   "execution_count": 22,
   "metadata": {},
   "outputs": [
    {
     "name": "stdout",
     "output_type": "stream",
     "text": [
      "hidden states : [[[0.35906473 0.35906473 0.35906473 0.7038734  0.7038734  0.7038734 ]\n",
      "  [0.55111325 0.55111325 0.55111325 0.58863586 0.58863586 0.58863586]\n",
      "  [0.59115744 0.59115744 0.59115744 0.3951699  0.3951699  0.3951699 ]\n",
      "  [0.6303138  0.6303138  0.6303138  0.21942244 0.21942244 0.21942244]]], shape: (1, 4, 6)\n",
      "forward state : [[0.6303138 0.6303138 0.6303138]], shape: (1, 3)\n",
      "backward state : [[0.7038734 0.7038734 0.7038734]], shape: (1, 3)\n"
     ]
    }
   ],
   "source": [
    "print('hidden states : {}, shape: {}'.format(hidden_states, hidden_states.shape))\n",
    "print('forward state : {}, shape: {}'.format(forward_h, forward_h.shape))\n",
    "print('backward state : {}, shape: {}'.format(backward_h, backward_h.shape))"
   ]
  },
  {
   "cell_type": "code",
   "execution_count": 5,
   "metadata": {},
   "outputs": [],
   "source": [
    "import numpy as np\n",
    "from tensorflow.keras.preprocessing.text import Tokenizer\n",
    "from tensorflow.keras.preprocessing.sequence import pad_sequences\n",
    "from tensorflow.keras.utils import to_categorical"
   ]
  },
  {
   "cell_type": "code",
   "execution_count": 6,
   "metadata": {},
   "outputs": [],
   "source": [
    "text = \"\"\"경마장에 있는 말이 뛰고 있다\\n\n",
    "그의 말이 법이다 \\n\n",
    "가는 말이 고와야 오는 말이 곱다\\n\"\"\""
   ]
  },
  {
   "cell_type": "code",
   "execution_count": 7,
   "metadata": {},
   "outputs": [
    {
     "name": "stdout",
     "output_type": "stream",
     "text": [
      "단어 집합의 크기 : 12\n"
     ]
    }
   ],
   "source": [
    "tokenizer = Tokenizer()\n",
    "tokenizer.fit_on_texts([text])\n",
    "vocab_size = len(tokenizer.word_index) + 1\n",
    "print('단어 집합의 크기 : %d' % vocab_size)"
   ]
  },
  {
   "cell_type": "code",
   "execution_count": 8,
   "metadata": {},
   "outputs": [
    {
     "name": "stdout",
     "output_type": "stream",
     "text": [
      "{'말이': 1, '경마장에': 2, '있는': 3, '뛰고': 4, '있다': 5, '그의': 6, '법이다': 7, '가는': 8, '고와야': 9, '오는': 10, '곱다': 11}\n"
     ]
    }
   ],
   "source": [
    "print(tokenizer.word_index)"
   ]
  },
  {
   "cell_type": "code",
   "execution_count": 9,
   "metadata": {},
   "outputs": [
    {
     "name": "stdout",
     "output_type": "stream",
     "text": [
      "학습에 사용한 샘플의 개수 : 11\n"
     ]
    }
   ],
   "source": [
    "sequences = list()\n",
    "for line in text.split('\\n'):\n",
    "    encoded = tokenizer.texts_to_sequences([line])[0]\n",
    "    for i in range(1,len(encoded)):\n",
    "        sequence = encoded[:i+1]\n",
    "        sequences.append(sequence)\n",
    "print('학습에 사용한 샘플의 개수 : %d'% len(sequences))"
   ]
  },
  {
   "cell_type": "code",
   "execution_count": 10,
   "metadata": {},
   "outputs": [
    {
     "name": "stdout",
     "output_type": "stream",
     "text": [
      "[[2, 3], [2, 3, 1], [2, 3, 1, 4], [2, 3, 1, 4, 5], [6, 1], [6, 1, 7], [8, 1], [8, 1, 9], [8, 1, 9, 10], [8, 1, 9, 10, 1], [8, 1, 9, 10, 1, 11]]\n"
     ]
    }
   ],
   "source": [
    "print(sequences)"
   ]
  },
  {
   "cell_type": "code",
   "execution_count": 11,
   "metadata": {},
   "outputs": [
    {
     "name": "stdout",
     "output_type": "stream",
     "text": [
      "샘플의 최대 길이 : 6\n"
     ]
    }
   ],
   "source": [
    "max_len = max(len(l) for l in sequences)\n",
    "print('샘플의 최대 길이 : {}'.format(max_len))"
   ]
  },
  {
   "cell_type": "code",
   "execution_count": 12,
   "metadata": {},
   "outputs": [],
   "source": [
    "sequences = pad_sequences(sequences,maxlen=max_len, padding='pre')"
   ]
  },
  {
   "cell_type": "code",
   "execution_count": 13,
   "metadata": {},
   "outputs": [
    {
     "name": "stdout",
     "output_type": "stream",
     "text": [
      "[[ 0  0  0  0  2  3]\n",
      " [ 0  0  0  2  3  1]\n",
      " [ 0  0  2  3  1  4]\n",
      " [ 0  2  3  1  4  5]\n",
      " [ 0  0  0  0  6  1]\n",
      " [ 0  0  0  6  1  7]\n",
      " [ 0  0  0  0  8  1]\n",
      " [ 0  0  0  8  1  9]\n",
      " [ 0  0  8  1  9 10]\n",
      " [ 0  8  1  9 10  1]\n",
      " [ 8  1  9 10  1 11]]\n"
     ]
    }
   ],
   "source": [
    "print(sequences)"
   ]
  },
  {
   "cell_type": "code",
   "execution_count": 14,
   "metadata": {},
   "outputs": [
    {
     "name": "stdout",
     "output_type": "stream",
     "text": [
      "[[ 0  0  0  0  2]\n",
      " [ 0  0  0  2  3]\n",
      " [ 0  0  2  3  1]\n",
      " [ 0  2  3  1  4]\n",
      " [ 0  0  0  0  6]\n",
      " [ 0  0  0  6  1]\n",
      " [ 0  0  0  0  8]\n",
      " [ 0  0  0  8  1]\n",
      " [ 0  0  8  1  9]\n",
      " [ 0  8  1  9 10]\n",
      " [ 8  1  9 10  1]]\n"
     ]
    }
   ],
   "source": [
    "sequences = np.array(sequences)\n",
    "X = sequences[:,:-1]\n",
    "y = sequences[:,-1]\n",
    "print(X)"
   ]
  },
  {
   "cell_type": "code",
   "execution_count": 15,
   "metadata": {},
   "outputs": [
    {
     "name": "stdout",
     "output_type": "stream",
     "text": [
      "[ 3  1  4  5  1  7  1  9 10  1 11]\n"
     ]
    }
   ],
   "source": [
    "print(y)"
   ]
  },
  {
   "cell_type": "code",
   "execution_count": 16,
   "metadata": {},
   "outputs": [],
   "source": [
    "y = to_categorical(y,num_classes=vocab_size)"
   ]
  },
  {
   "cell_type": "code",
   "execution_count": 17,
   "metadata": {},
   "outputs": [
    {
     "name": "stdout",
     "output_type": "stream",
     "text": [
      "[[0. 0. 0. 1. 0. 0. 0. 0. 0. 0. 0. 0.]\n",
      " [0. 1. 0. 0. 0. 0. 0. 0. 0. 0. 0. 0.]\n",
      " [0. 0. 0. 0. 1. 0. 0. 0. 0. 0. 0. 0.]\n",
      " [0. 0. 0. 0. 0. 1. 0. 0. 0. 0. 0. 0.]\n",
      " [0. 1. 0. 0. 0. 0. 0. 0. 0. 0. 0. 0.]\n",
      " [0. 0. 0. 0. 0. 0. 0. 1. 0. 0. 0. 0.]\n",
      " [0. 1. 0. 0. 0. 0. 0. 0. 0. 0. 0. 0.]\n",
      " [0. 0. 0. 0. 0. 0. 0. 0. 0. 1. 0. 0.]\n",
      " [0. 0. 0. 0. 0. 0. 0. 0. 0. 0. 1. 0.]\n",
      " [0. 1. 0. 0. 0. 0. 0. 0. 0. 0. 0. 0.]\n",
      " [0. 0. 0. 0. 0. 0. 0. 0. 0. 0. 0. 1.]]\n"
     ]
    }
   ],
   "source": [
    "print(y)"
   ]
  },
  {
   "cell_type": "code",
   "execution_count": 18,
   "metadata": {},
   "outputs": [],
   "source": [
    "from tensorflow.keras.models import Sequential\n",
    "from tensorflow.keras.layers import Embedding, Dense,SimpleRNN"
   ]
  },
  {
   "cell_type": "code",
   "execution_count": 19,
   "metadata": {},
   "outputs": [
    {
     "name": "stdout",
     "output_type": "stream",
     "text": [
      "Epoch 1/200\n",
      "1/1 - 1s - loss: 2.4821 - accuracy: 0.0909\n",
      "Epoch 2/200\n",
      "1/1 - 0s - loss: 2.4676 - accuracy: 0.0909\n",
      "Epoch 3/200\n",
      "1/1 - 0s - loss: 2.4535 - accuracy: 0.1818\n",
      "Epoch 4/200\n",
      "1/1 - 0s - loss: 2.4397 - accuracy: 0.1818\n",
      "Epoch 5/200\n",
      "1/1 - 0s - loss: 2.4259 - accuracy: 0.2727\n",
      "Epoch 6/200\n",
      "1/1 - 0s - loss: 2.4121 - accuracy: 0.2727\n",
      "Epoch 7/200\n",
      "1/1 - 0s - loss: 2.3982 - accuracy: 0.3636\n",
      "Epoch 8/200\n",
      "1/1 - 0s - loss: 2.3841 - accuracy: 0.4545\n",
      "Epoch 9/200\n",
      "1/1 - 0s - loss: 2.3695 - accuracy: 0.4545\n",
      "Epoch 10/200\n",
      "1/1 - 0s - loss: 2.3545 - accuracy: 0.4545\n",
      "Epoch 11/200\n",
      "1/1 - 0s - loss: 2.3389 - accuracy: 0.4545\n",
      "Epoch 12/200\n",
      "1/1 - 0s - loss: 2.3226 - accuracy: 0.4545\n",
      "Epoch 13/200\n",
      "1/1 - 0s - loss: 2.3054 - accuracy: 0.4545\n",
      "Epoch 14/200\n",
      "1/1 - 0s - loss: 2.2875 - accuracy: 0.5455\n",
      "Epoch 15/200\n",
      "1/1 - 0s - loss: 2.2686 - accuracy: 0.5455\n",
      "Epoch 16/200\n",
      "1/1 - 0s - loss: 2.2487 - accuracy: 0.5455\n",
      "Epoch 17/200\n",
      "1/1 - 0s - loss: 2.2278 - accuracy: 0.4545\n",
      "Epoch 18/200\n",
      "1/1 - 0s - loss: 2.2058 - accuracy: 0.3636\n",
      "Epoch 19/200\n",
      "1/1 - 0s - loss: 2.1828 - accuracy: 0.3636\n",
      "Epoch 20/200\n",
      "1/1 - 0s - loss: 2.1587 - accuracy: 0.3636\n",
      "Epoch 21/200\n",
      "1/1 - 0s - loss: 2.1337 - accuracy: 0.3636\n",
      "Epoch 22/200\n",
      "1/1 - 0s - loss: 2.1079 - accuracy: 0.3636\n",
      "Epoch 23/200\n",
      "1/1 - 0s - loss: 2.0814 - accuracy: 0.3636\n",
      "Epoch 24/200\n",
      "1/1 - 0s - loss: 2.0544 - accuracy: 0.3636\n",
      "Epoch 25/200\n",
      "1/1 - 0s - loss: 2.0273 - accuracy: 0.3636\n",
      "Epoch 26/200\n",
      "1/1 - 0s - loss: 2.0003 - accuracy: 0.3636\n",
      "Epoch 27/200\n",
      "1/1 - 0s - loss: 1.9739 - accuracy: 0.3636\n",
      "Epoch 28/200\n",
      "1/1 - 0s - loss: 1.9484 - accuracy: 0.3636\n",
      "Epoch 29/200\n",
      "1/1 - 0s - loss: 1.9243 - accuracy: 0.3636\n",
      "Epoch 30/200\n",
      "1/1 - 0s - loss: 1.9019 - accuracy: 0.3636\n",
      "Epoch 31/200\n",
      "1/1 - 0s - loss: 1.8814 - accuracy: 0.3636\n",
      "Epoch 32/200\n",
      "1/1 - 0s - loss: 1.8628 - accuracy: 0.3636\n",
      "Epoch 33/200\n",
      "1/1 - 0s - loss: 1.8459 - accuracy: 0.3636\n",
      "Epoch 34/200\n",
      "1/1 - 0s - loss: 1.8304 - accuracy: 0.3636\n",
      "Epoch 35/200\n",
      "1/1 - 0s - loss: 1.8156 - accuracy: 0.3636\n",
      "Epoch 36/200\n",
      "1/1 - 0s - loss: 1.8010 - accuracy: 0.3636\n",
      "Epoch 37/200\n",
      "1/1 - 0s - loss: 1.7863 - accuracy: 0.3636\n",
      "Epoch 38/200\n",
      "1/1 - 0s - loss: 1.7711 - accuracy: 0.3636\n",
      "Epoch 39/200\n",
      "1/1 - 0s - loss: 1.7552 - accuracy: 0.3636\n",
      "Epoch 40/200\n",
      "1/1 - 0s - loss: 1.7387 - accuracy: 0.3636\n",
      "Epoch 41/200\n",
      "1/1 - 0s - loss: 1.7219 - accuracy: 0.3636\n",
      "Epoch 42/200\n",
      "1/1 - 0s - loss: 1.7047 - accuracy: 0.3636\n",
      "Epoch 43/200\n",
      "1/1 - 0s - loss: 1.6876 - accuracy: 0.3636\n",
      "Epoch 44/200\n",
      "1/1 - 0s - loss: 1.6705 - accuracy: 0.3636\n",
      "Epoch 45/200\n",
      "1/1 - 0s - loss: 1.6535 - accuracy: 0.4545\n",
      "Epoch 46/200\n",
      "1/1 - 0s - loss: 1.6366 - accuracy: 0.4545\n",
      "Epoch 47/200\n",
      "1/1 - 0s - loss: 1.6197 - accuracy: 0.4545\n",
      "Epoch 48/200\n",
      "1/1 - 0s - loss: 1.6025 - accuracy: 0.4545\n",
      "Epoch 49/200\n",
      "1/1 - 0s - loss: 1.5849 - accuracy: 0.4545\n",
      "Epoch 50/200\n",
      "1/1 - 0s - loss: 1.5668 - accuracy: 0.4545\n",
      "Epoch 51/200\n",
      "1/1 - 0s - loss: 1.5480 - accuracy: 0.4545\n",
      "Epoch 52/200\n",
      "1/1 - 0s - loss: 1.5286 - accuracy: 0.4545\n",
      "Epoch 53/200\n",
      "1/1 - 0s - loss: 1.5085 - accuracy: 0.4545\n",
      "Epoch 54/200\n",
      "1/1 - 0s - loss: 1.4880 - accuracy: 0.4545\n",
      "Epoch 55/200\n",
      "1/1 - 0s - loss: 1.4670 - accuracy: 0.4545\n",
      "Epoch 56/200\n",
      "1/1 - 0s - loss: 1.4456 - accuracy: 0.5455\n",
      "Epoch 57/200\n",
      "1/1 - 0s - loss: 1.4240 - accuracy: 0.5455\n",
      "Epoch 58/200\n",
      "1/1 - 0s - loss: 1.4022 - accuracy: 0.5455\n",
      "Epoch 59/200\n",
      "1/1 - 0s - loss: 1.3802 - accuracy: 0.5455\n",
      "Epoch 60/200\n",
      "1/1 - 0s - loss: 1.3582 - accuracy: 0.5455\n",
      "Epoch 61/200\n",
      "1/1 - 0s - loss: 1.3362 - accuracy: 0.5455\n",
      "Epoch 62/200\n",
      "1/1 - 0s - loss: 1.3141 - accuracy: 0.6364\n",
      "Epoch 63/200\n",
      "1/1 - 0s - loss: 1.2921 - accuracy: 0.6364\n",
      "Epoch 64/200\n",
      "1/1 - 0s - loss: 1.2702 - accuracy: 0.6364\n",
      "Epoch 65/200\n",
      "1/1 - 0s - loss: 1.2485 - accuracy: 0.6364\n",
      "Epoch 66/200\n",
      "1/1 - 0s - loss: 1.2270 - accuracy: 0.7273\n",
      "Epoch 67/200\n",
      "1/1 - 0s - loss: 1.2058 - accuracy: 0.7273\n",
      "Epoch 68/200\n",
      "1/1 - 0s - loss: 1.1849 - accuracy: 0.7273\n",
      "Epoch 69/200\n",
      "1/1 - 0s - loss: 1.1644 - accuracy: 0.7273\n",
      "Epoch 70/200\n",
      "1/1 - 0s - loss: 1.1443 - accuracy: 0.7273\n",
      "Epoch 71/200\n",
      "1/1 - 0s - loss: 1.1246 - accuracy: 0.7273\n",
      "Epoch 72/200\n",
      "1/1 - 0s - loss: 1.1054 - accuracy: 0.7273\n",
      "Epoch 73/200\n",
      "1/1 - 0s - loss: 1.0867 - accuracy: 0.7273\n",
      "Epoch 74/200\n",
      "1/1 - 0s - loss: 1.0683 - accuracy: 0.7273\n",
      "Epoch 75/200\n",
      "1/1 - 0s - loss: 1.0504 - accuracy: 0.7273\n",
      "Epoch 76/200\n",
      "1/1 - 0s - loss: 1.0329 - accuracy: 0.7273\n",
      "Epoch 77/200\n",
      "1/1 - 0s - loss: 1.0157 - accuracy: 0.7273\n",
      "Epoch 78/200\n",
      "1/1 - 0s - loss: 0.9989 - accuracy: 0.7273\n",
      "Epoch 79/200\n",
      "1/1 - 0s - loss: 0.9824 - accuracy: 0.7273\n",
      "Epoch 80/200\n",
      "1/1 - 0s - loss: 0.9662 - accuracy: 0.7273\n",
      "Epoch 81/200\n",
      "1/1 - 0s - loss: 0.9503 - accuracy: 0.7273\n",
      "Epoch 82/200\n",
      "1/1 - 0s - loss: 0.9347 - accuracy: 0.8182\n",
      "Epoch 83/200\n",
      "1/1 - 0s - loss: 0.9194 - accuracy: 0.8182\n",
      "Epoch 84/200\n",
      "1/1 - 0s - loss: 0.9043 - accuracy: 0.8182\n",
      "Epoch 85/200\n",
      "1/1 - 0s - loss: 0.8894 - accuracy: 0.8182\n",
      "Epoch 86/200\n",
      "1/1 - 0s - loss: 0.8748 - accuracy: 0.8182\n",
      "Epoch 87/200\n",
      "1/1 - 0s - loss: 0.8605 - accuracy: 0.8182\n",
      "Epoch 88/200\n",
      "1/1 - 0s - loss: 0.8464 - accuracy: 0.8182\n",
      "Epoch 89/200\n",
      "1/1 - 0s - loss: 0.8325 - accuracy: 0.8182\n",
      "Epoch 90/200\n",
      "1/1 - 0s - loss: 0.8188 - accuracy: 0.8182\n",
      "Epoch 91/200\n",
      "1/1 - 0s - loss: 0.8053 - accuracy: 0.8182\n",
      "Epoch 92/200\n",
      "1/1 - 0s - loss: 0.7921 - accuracy: 0.8182\n",
      "Epoch 93/200\n",
      "1/1 - 0s - loss: 0.7790 - accuracy: 0.8182\n",
      "Epoch 94/200\n",
      "1/1 - 0s - loss: 0.7662 - accuracy: 0.8182\n",
      "Epoch 95/200\n",
      "1/1 - 0s - loss: 0.7535 - accuracy: 0.8182\n",
      "Epoch 96/200\n",
      "1/1 - 0s - loss: 0.7411 - accuracy: 0.8182\n",
      "Epoch 97/200\n",
      "1/1 - 0s - loss: 0.7289 - accuracy: 0.8182\n",
      "Epoch 98/200\n",
      "1/1 - 0s - loss: 0.7168 - accuracy: 0.8182\n",
      "Epoch 99/200\n",
      "1/1 - 0s - loss: 0.7050 - accuracy: 0.8182\n",
      "Epoch 100/200\n",
      "1/1 - 0s - loss: 0.6934 - accuracy: 0.8182\n",
      "Epoch 101/200\n",
      "1/1 - 0s - loss: 0.6820 - accuracy: 0.8182\n",
      "Epoch 102/200\n",
      "1/1 - 0s - loss: 0.6708 - accuracy: 0.8182\n",
      "Epoch 103/200\n",
      "1/1 - 0s - loss: 0.6599 - accuracy: 0.8182\n",
      "Epoch 104/200\n",
      "1/1 - 0s - loss: 0.6491 - accuracy: 0.8182\n",
      "Epoch 105/200\n",
      "1/1 - 0s - loss: 0.6385 - accuracy: 0.8182\n",
      "Epoch 106/200\n",
      "1/1 - 0s - loss: 0.6282 - accuracy: 0.8182\n",
      "Epoch 107/200\n",
      "1/1 - 0s - loss: 0.6180 - accuracy: 0.8182\n",
      "Epoch 108/200\n",
      "1/1 - 0s - loss: 0.6081 - accuracy: 0.8182\n",
      "Epoch 109/200\n",
      "1/1 - 0s - loss: 0.5984 - accuracy: 0.8182\n",
      "Epoch 110/200\n",
      "1/1 - 0s - loss: 0.5888 - accuracy: 0.8182\n",
      "Epoch 111/200\n",
      "1/1 - 0s - loss: 0.5795 - accuracy: 0.8182\n",
      "Epoch 112/200\n",
      "1/1 - 0s - loss: 0.5704 - accuracy: 0.8182\n",
      "Epoch 113/200\n",
      "1/1 - 0s - loss: 0.5615 - accuracy: 0.8182\n",
      "Epoch 114/200\n",
      "1/1 - 0s - loss: 0.5528 - accuracy: 0.8182\n",
      "Epoch 115/200\n",
      "1/1 - 0s - loss: 0.5442 - accuracy: 0.8182\n",
      "Epoch 116/200\n",
      "1/1 - 0s - loss: 0.5359 - accuracy: 0.8182\n",
      "Epoch 117/200\n",
      "1/1 - 0s - loss: 0.5277 - accuracy: 0.8182\n",
      "Epoch 118/200\n",
      "1/1 - 0s - loss: 0.5197 - accuracy: 0.8182\n",
      "Epoch 119/200\n",
      "1/1 - 0s - loss: 0.5119 - accuracy: 0.8182\n",
      "Epoch 120/200\n",
      "1/1 - 0s - loss: 0.5043 - accuracy: 0.8182\n",
      "Epoch 121/200\n",
      "1/1 - 0s - loss: 0.4969 - accuracy: 0.8182\n",
      "Epoch 122/200\n",
      "1/1 - 0s - loss: 0.4896 - accuracy: 0.8182\n",
      "Epoch 123/200\n",
      "1/1 - 0s - loss: 0.4824 - accuracy: 0.8182\n",
      "Epoch 124/200\n",
      "1/1 - 0s - loss: 0.4755 - accuracy: 0.8182\n",
      "Epoch 125/200\n",
      "1/1 - 0s - loss: 0.4686 - accuracy: 0.8182\n",
      "Epoch 126/200\n",
      "1/1 - 0s - loss: 0.4620 - accuracy: 0.8182\n",
      "Epoch 127/200\n",
      "1/1 - 0s - loss: 0.4555 - accuracy: 0.8182\n",
      "Epoch 128/200\n",
      "1/1 - 0s - loss: 0.4491 - accuracy: 0.8182\n",
      "Epoch 129/200\n",
      "1/1 - 0s - loss: 0.4428 - accuracy: 0.8182\n",
      "Epoch 130/200\n",
      "1/1 - 0s - loss: 0.4367 - accuracy: 0.9091\n",
      "Epoch 131/200\n",
      "1/1 - 0s - loss: 0.4307 - accuracy: 0.9091\n",
      "Epoch 132/200\n",
      "1/1 - 0s - loss: 0.4248 - accuracy: 0.9091\n",
      "Epoch 133/200\n",
      "1/1 - 0s - loss: 0.4191 - accuracy: 0.9091\n",
      "Epoch 134/200\n",
      "1/1 - 0s - loss: 0.4134 - accuracy: 0.9091\n",
      "Epoch 135/200\n",
      "1/1 - 0s - loss: 0.4079 - accuracy: 0.9091\n",
      "Epoch 136/200\n",
      "1/1 - 0s - loss: 0.4025 - accuracy: 0.9091\n",
      "Epoch 137/200\n",
      "1/1 - 0s - loss: 0.3971 - accuracy: 0.9091\n",
      "Epoch 138/200\n",
      "1/1 - 0s - loss: 0.3919 - accuracy: 0.9091\n",
      "Epoch 139/200\n",
      "1/1 - 0s - loss: 0.3868 - accuracy: 0.9091\n",
      "Epoch 140/200\n",
      "1/1 - 0s - loss: 0.3817 - accuracy: 0.9091\n",
      "Epoch 141/200\n",
      "1/1 - 0s - loss: 0.3768 - accuracy: 0.9091\n",
      "Epoch 142/200\n",
      "1/1 - 0s - loss: 0.3719 - accuracy: 0.9091\n",
      "Epoch 143/200\n",
      "1/1 - 0s - loss: 0.3671 - accuracy: 0.9091\n",
      "Epoch 144/200\n",
      "1/1 - 0s - loss: 0.3624 - accuracy: 0.9091\n",
      "Epoch 145/200\n",
      "1/1 - 0s - loss: 0.3578 - accuracy: 0.9091\n",
      "Epoch 146/200\n",
      "1/1 - 0s - loss: 0.3532 - accuracy: 0.9091\n"
     ]
    },
    {
     "name": "stdout",
     "output_type": "stream",
     "text": [
      "Epoch 147/200\n",
      "1/1 - 0s - loss: 0.3487 - accuracy: 0.9091\n",
      "Epoch 148/200\n",
      "1/1 - 0s - loss: 0.3443 - accuracy: 0.9091\n",
      "Epoch 149/200\n",
      "1/1 - 0s - loss: 0.3399 - accuracy: 0.9091\n",
      "Epoch 150/200\n",
      "1/1 - 0s - loss: 0.3356 - accuracy: 0.9091\n",
      "Epoch 151/200\n",
      "1/1 - 0s - loss: 0.3313 - accuracy: 0.9091\n",
      "Epoch 152/200\n",
      "1/1 - 0s - loss: 0.3271 - accuracy: 0.9091\n",
      "Epoch 153/200\n",
      "1/1 - 0s - loss: 0.3230 - accuracy: 0.9091\n",
      "Epoch 154/200\n",
      "1/1 - 0s - loss: 0.3189 - accuracy: 0.9091\n",
      "Epoch 155/200\n",
      "1/1 - 0s - loss: 0.3148 - accuracy: 0.9091\n",
      "Epoch 156/200\n",
      "1/1 - 0s - loss: 0.3108 - accuracy: 0.9091\n",
      "Epoch 157/200\n",
      "1/1 - 0s - loss: 0.3069 - accuracy: 0.9091\n",
      "Epoch 158/200\n",
      "1/1 - 0s - loss: 0.3030 - accuracy: 0.9091\n",
      "Epoch 159/200\n",
      "1/1 - 0s - loss: 0.2991 - accuracy: 0.9091\n",
      "Epoch 160/200\n",
      "1/1 - 0s - loss: 0.2953 - accuracy: 0.9091\n",
      "Epoch 161/200\n",
      "1/1 - 0s - loss: 0.2915 - accuracy: 0.9091\n",
      "Epoch 162/200\n",
      "1/1 - 0s - loss: 0.2877 - accuracy: 0.9091\n",
      "Epoch 163/200\n",
      "1/1 - 0s - loss: 0.2840 - accuracy: 0.9091\n",
      "Epoch 164/200\n",
      "1/1 - 0s - loss: 0.2803 - accuracy: 0.9091\n",
      "Epoch 165/200\n",
      "1/1 - 0s - loss: 0.2766 - accuracy: 0.9091\n",
      "Epoch 166/200\n",
      "1/1 - 0s - loss: 0.2730 - accuracy: 0.9091\n",
      "Epoch 167/200\n",
      "1/1 - 0s - loss: 0.2694 - accuracy: 0.9091\n",
      "Epoch 168/200\n",
      "1/1 - 0s - loss: 0.2659 - accuracy: 0.9091\n",
      "Epoch 169/200\n",
      "1/1 - 0s - loss: 0.2623 - accuracy: 0.9091\n",
      "Epoch 170/200\n",
      "1/1 - 0s - loss: 0.2588 - accuracy: 0.9091\n",
      "Epoch 171/200\n",
      "1/1 - 0s - loss: 0.2554 - accuracy: 0.9091\n",
      "Epoch 172/200\n",
      "1/1 - 0s - loss: 0.2519 - accuracy: 0.9091\n",
      "Epoch 173/200\n",
      "1/1 - 0s - loss: 0.2485 - accuracy: 0.9091\n",
      "Epoch 174/200\n",
      "1/1 - 0s - loss: 0.2451 - accuracy: 0.9091\n",
      "Epoch 175/200\n",
      "1/1 - 0s - loss: 0.2417 - accuracy: 1.0000\n",
      "Epoch 176/200\n",
      "1/1 - 0s - loss: 0.2384 - accuracy: 1.0000\n",
      "Epoch 177/200\n",
      "1/1 - 0s - loss: 0.2351 - accuracy: 1.0000\n",
      "Epoch 178/200\n",
      "1/1 - 0s - loss: 0.2318 - accuracy: 1.0000\n",
      "Epoch 179/200\n",
      "1/1 - 0s - loss: 0.2285 - accuracy: 1.0000\n",
      "Epoch 180/200\n",
      "1/1 - 0s - loss: 0.2253 - accuracy: 1.0000\n",
      "Epoch 181/200\n",
      "1/1 - 0s - loss: 0.2221 - accuracy: 1.0000\n",
      "Epoch 182/200\n",
      "1/1 - 0s - loss: 0.2189 - accuracy: 1.0000\n",
      "Epoch 183/200\n",
      "1/1 - 0s - loss: 0.2158 - accuracy: 1.0000\n",
      "Epoch 184/200\n",
      "1/1 - 0s - loss: 0.2126 - accuracy: 1.0000\n",
      "Epoch 185/200\n",
      "1/1 - 0s - loss: 0.2095 - accuracy: 1.0000\n",
      "Epoch 186/200\n",
      "1/1 - 0s - loss: 0.2065 - accuracy: 1.0000\n",
      "Epoch 187/200\n",
      "1/1 - 0s - loss: 0.2034 - accuracy: 1.0000\n",
      "Epoch 188/200\n",
      "1/1 - 0s - loss: 0.2004 - accuracy: 1.0000\n",
      "Epoch 189/200\n",
      "1/1 - 0s - loss: 0.1974 - accuracy: 1.0000\n",
      "Epoch 190/200\n",
      "1/1 - 0s - loss: 0.1945 - accuracy: 1.0000\n",
      "Epoch 191/200\n",
      "1/1 - 0s - loss: 0.1915 - accuracy: 1.0000\n",
      "Epoch 192/200\n",
      "1/1 - 0s - loss: 0.1886 - accuracy: 1.0000\n",
      "Epoch 193/200\n",
      "1/1 - 0s - loss: 0.1858 - accuracy: 1.0000\n",
      "Epoch 194/200\n",
      "1/1 - 0s - loss: 0.1829 - accuracy: 1.0000\n",
      "Epoch 195/200\n",
      "1/1 - 0s - loss: 0.1801 - accuracy: 1.0000\n",
      "Epoch 196/200\n",
      "1/1 - 0s - loss: 0.1774 - accuracy: 1.0000\n",
      "Epoch 197/200\n",
      "1/1 - 0s - loss: 0.1746 - accuracy: 1.0000\n",
      "Epoch 198/200\n",
      "1/1 - 0s - loss: 0.1719 - accuracy: 1.0000\n",
      "Epoch 199/200\n",
      "1/1 - 0s - loss: 0.1692 - accuracy: 1.0000\n",
      "Epoch 200/200\n",
      "1/1 - 0s - loss: 0.1666 - accuracy: 1.0000\n"
     ]
    },
    {
     "data": {
      "text/plain": [
       "<keras.callbacks.History at 0x1ca0d502af0>"
      ]
     },
     "execution_count": 19,
     "metadata": {},
     "output_type": "execute_result"
    }
   ],
   "source": [
    "embedding_dim = 10\n",
    "hidden_units = 32\n",
    "model = Sequential()\n",
    "model.add(Embedding(vocab_size,embedding_dim))\n",
    "model.add(SimpleRNN(hidden_units))\n",
    "model.add(Dense(vocab_size,activation='softmax'))\n",
    "model.compile(loss='categorical_crossentropy',optimizer='adam',metrics=['accuracy'])\n",
    "model.fit(X,y,epochs=200,verbose=2)"
   ]
  },
  {
   "cell_type": "code",
   "execution_count": 20,
   "metadata": {},
   "outputs": [],
   "source": [
    "def sentence_generation(model,tokenizer,current_word,n):\n",
    "    init_word = current_word\n",
    "    sentence = ''\n",
    "    \n",
    "    for _ in range(n):\n",
    "        encoded = tokenizer.texts_to_sequences([current_word])[0]\n",
    "        encoded = pad_sequences([encoded],maxlen=5,padding='pre')\n",
    "        result = model.predict(encoded, verbose=0)\n",
    "        result = np.argmax(result, axis=1)\n",
    "        \n",
    "        for word, index in tokenizer.word_index.items():\n",
    "            if index == result:\n",
    "                break\n",
    "        current_word = current_word + ' ' + word\n",
    "        sentence = sentence + ' ' + word\n",
    "    sentence = init_word + sentence\n",
    "    return sentence"
   ]
  },
  {
   "cell_type": "code",
   "execution_count": 21,
   "metadata": {},
   "outputs": [
    {
     "name": "stdout",
     "output_type": "stream",
     "text": [
      "경마장에 있는 말이 뛰고 있다\n"
     ]
    }
   ],
   "source": [
    "print(sentence_generation(model,tokenizer,'경마장에',4))"
   ]
  },
  {
   "cell_type": "code",
   "execution_count": 22,
   "metadata": {},
   "outputs": [
    {
     "name": "stdout",
     "output_type": "stream",
     "text": [
      "그의 말이 법이다\n"
     ]
    }
   ],
   "source": [
    "print(sentence_generation(model,tokenizer,'그의', 2))"
   ]
  },
  {
   "cell_type": "code",
   "execution_count": 23,
   "metadata": {},
   "outputs": [
    {
     "name": "stdout",
     "output_type": "stream",
     "text": [
      "가는 말이 고와야 오는 말이 곱다\n"
     ]
    }
   ],
   "source": [
    "print(sentence_generation(model,tokenizer,'가는',5))"
   ]
  },
  {
   "cell_type": "code",
   "execution_count": 24,
   "metadata": {},
   "outputs": [],
   "source": [
    "import pandas as pd\n",
    "import numpy as np\n",
    "from string import punctuation\n",
    "\n",
    "from tensorflow.keras.preprocessing.text import Tokenizer\n",
    "from tensorflow.keras.preprocessing.sequence import pad_sequences\n",
    "from tensorflow.keras.utils import to_categorical"
   ]
  },
  {
   "cell_type": "code",
   "execution_count": 27,
   "metadata": {},
   "outputs": [
    {
     "data": {
      "text/html": [
       "<div>\n",
       "<style scoped>\n",
       "    .dataframe tbody tr th:only-of-type {\n",
       "        vertical-align: middle;\n",
       "    }\n",
       "\n",
       "    .dataframe tbody tr th {\n",
       "        vertical-align: top;\n",
       "    }\n",
       "\n",
       "    .dataframe thead th {\n",
       "        text-align: right;\n",
       "    }\n",
       "</style>\n",
       "<table border=\"1\" class=\"dataframe\">\n",
       "  <thead>\n",
       "    <tr style=\"text-align: right;\">\n",
       "      <th></th>\n",
       "      <th>articleID</th>\n",
       "      <th>articleWordCount</th>\n",
       "      <th>byline</th>\n",
       "      <th>documentType</th>\n",
       "      <th>headline</th>\n",
       "      <th>keywords</th>\n",
       "      <th>multimedia</th>\n",
       "      <th>newDesk</th>\n",
       "      <th>printPage</th>\n",
       "      <th>pubDate</th>\n",
       "      <th>sectionName</th>\n",
       "      <th>snippet</th>\n",
       "      <th>source</th>\n",
       "      <th>typeOfMaterial</th>\n",
       "      <th>webURL</th>\n",
       "    </tr>\n",
       "  </thead>\n",
       "  <tbody>\n",
       "    <tr>\n",
       "      <th>0</th>\n",
       "      <td>5adf6684068401528a2aa69b</td>\n",
       "      <td>781</td>\n",
       "      <td>By JOHN BRANCH</td>\n",
       "      <td>article</td>\n",
       "      <td>Former N.F.L. Cheerleaders’ Settlement Offer: ...</td>\n",
       "      <td>['Workplace Hazards and Violations', 'Football...</td>\n",
       "      <td>68</td>\n",
       "      <td>Sports</td>\n",
       "      <td>0</td>\n",
       "      <td>2018-04-24 17:16:49</td>\n",
       "      <td>Pro Football</td>\n",
       "      <td>“I understand that they could meet with us, pa...</td>\n",
       "      <td>The New York Times</td>\n",
       "      <td>News</td>\n",
       "      <td>https://www.nytimes.com/2018/04/24/sports/foot...</td>\n",
       "    </tr>\n",
       "    <tr>\n",
       "      <th>1</th>\n",
       "      <td>5adf653f068401528a2aa697</td>\n",
       "      <td>656</td>\n",
       "      <td>By LISA FRIEDMAN</td>\n",
       "      <td>article</td>\n",
       "      <td>E.P.A. to Unveil a New Rule. Its Effect: Less ...</td>\n",
       "      <td>['Environmental Protection Agency', 'Pruitt, S...</td>\n",
       "      <td>68</td>\n",
       "      <td>Climate</td>\n",
       "      <td>0</td>\n",
       "      <td>2018-04-24 17:11:21</td>\n",
       "      <td>Unknown</td>\n",
       "      <td>The agency plans to publish a new regulation T...</td>\n",
       "      <td>The New York Times</td>\n",
       "      <td>News</td>\n",
       "      <td>https://www.nytimes.com/2018/04/24/climate/epa...</td>\n",
       "    </tr>\n",
       "    <tr>\n",
       "      <th>2</th>\n",
       "      <td>5adf4626068401528a2aa628</td>\n",
       "      <td>2427</td>\n",
       "      <td>By PETE WELLS</td>\n",
       "      <td>article</td>\n",
       "      <td>The New Noma, Explained</td>\n",
       "      <td>['Restaurants', 'Noma (Copenhagen, Restaurant)...</td>\n",
       "      <td>66</td>\n",
       "      <td>Dining</td>\n",
       "      <td>0</td>\n",
       "      <td>2018-04-24 14:58:44</td>\n",
       "      <td>Unknown</td>\n",
       "      <td>What’s it like to eat at the second incarnatio...</td>\n",
       "      <td>The New York Times</td>\n",
       "      <td>News</td>\n",
       "      <td>https://www.nytimes.com/2018/04/24/dining/noma...</td>\n",
       "    </tr>\n",
       "    <tr>\n",
       "      <th>3</th>\n",
       "      <td>5adf40d2068401528a2aa619</td>\n",
       "      <td>626</td>\n",
       "      <td>By JULIE HIRSCHFELD DAVIS and PETER BAKER</td>\n",
       "      <td>article</td>\n",
       "      <td>Unknown</td>\n",
       "      <td>['Macron, Emmanuel (1977- )', 'Trump, Donald J...</td>\n",
       "      <td>68</td>\n",
       "      <td>Washington</td>\n",
       "      <td>0</td>\n",
       "      <td>2018-04-24 14:35:57</td>\n",
       "      <td>Europe</td>\n",
       "      <td>President Trump welcomed President Emmanuel Ma...</td>\n",
       "      <td>The New York Times</td>\n",
       "      <td>News</td>\n",
       "      <td>https://www.nytimes.com/2018/04/24/world/europ...</td>\n",
       "    </tr>\n",
       "    <tr>\n",
       "      <th>4</th>\n",
       "      <td>5adf3d64068401528a2aa60f</td>\n",
       "      <td>815</td>\n",
       "      <td>By IAN AUSTEN and DAN BILEFSKY</td>\n",
       "      <td>article</td>\n",
       "      <td>Unknown</td>\n",
       "      <td>['Toronto, Ontario, Attack (April, 2018)', 'Mu...</td>\n",
       "      <td>68</td>\n",
       "      <td>Foreign</td>\n",
       "      <td>0</td>\n",
       "      <td>2018-04-24 14:21:21</td>\n",
       "      <td>Canada</td>\n",
       "      <td>Alek Minassian, 25, a resident of Toronto’s Ri...</td>\n",
       "      <td>The New York Times</td>\n",
       "      <td>News</td>\n",
       "      <td>https://www.nytimes.com/2018/04/24/world/canad...</td>\n",
       "    </tr>\n",
       "  </tbody>\n",
       "</table>\n",
       "</div>"
      ],
      "text/plain": [
       "                  articleID  articleWordCount  \\\n",
       "0  5adf6684068401528a2aa69b               781   \n",
       "1  5adf653f068401528a2aa697               656   \n",
       "2  5adf4626068401528a2aa628              2427   \n",
       "3  5adf40d2068401528a2aa619               626   \n",
       "4  5adf3d64068401528a2aa60f               815   \n",
       "\n",
       "                                      byline documentType  \\\n",
       "0                             By JOHN BRANCH      article   \n",
       "1                           By LISA FRIEDMAN      article   \n",
       "2                              By PETE WELLS      article   \n",
       "3  By JULIE HIRSCHFELD DAVIS and PETER BAKER      article   \n",
       "4             By IAN AUSTEN and DAN BILEFSKY      article   \n",
       "\n",
       "                                            headline  \\\n",
       "0  Former N.F.L. Cheerleaders’ Settlement Offer: ...   \n",
       "1  E.P.A. to Unveil a New Rule. Its Effect: Less ...   \n",
       "2                            The New Noma, Explained   \n",
       "3                                            Unknown   \n",
       "4                                            Unknown   \n",
       "\n",
       "                                            keywords  multimedia     newDesk  \\\n",
       "0  ['Workplace Hazards and Violations', 'Football...          68      Sports   \n",
       "1  ['Environmental Protection Agency', 'Pruitt, S...          68     Climate   \n",
       "2  ['Restaurants', 'Noma (Copenhagen, Restaurant)...          66      Dining   \n",
       "3  ['Macron, Emmanuel (1977- )', 'Trump, Donald J...          68  Washington   \n",
       "4  ['Toronto, Ontario, Attack (April, 2018)', 'Mu...          68     Foreign   \n",
       "\n",
       "   printPage              pubDate   sectionName  \\\n",
       "0          0  2018-04-24 17:16:49  Pro Football   \n",
       "1          0  2018-04-24 17:11:21       Unknown   \n",
       "2          0  2018-04-24 14:58:44       Unknown   \n",
       "3          0  2018-04-24 14:35:57        Europe   \n",
       "4          0  2018-04-24 14:21:21        Canada   \n",
       "\n",
       "                                             snippet              source  \\\n",
       "0  “I understand that they could meet with us, pa...  The New York Times   \n",
       "1  The agency plans to publish a new regulation T...  The New York Times   \n",
       "2  What’s it like to eat at the second incarnatio...  The New York Times   \n",
       "3  President Trump welcomed President Emmanuel Ma...  The New York Times   \n",
       "4  Alek Minassian, 25, a resident of Toronto’s Ri...  The New York Times   \n",
       "\n",
       "  typeOfMaterial                                             webURL  \n",
       "0           News  https://www.nytimes.com/2018/04/24/sports/foot...  \n",
       "1           News  https://www.nytimes.com/2018/04/24/climate/epa...  \n",
       "2           News  https://www.nytimes.com/2018/04/24/dining/noma...  \n",
       "3           News  https://www.nytimes.com/2018/04/24/world/europ...  \n",
       "4           News  https://www.nytimes.com/2018/04/24/world/canad...  "
      ]
     },
     "execution_count": 27,
     "metadata": {},
     "output_type": "execute_result"
    }
   ],
   "source": [
    "df = pd.read_csv('archive (1)/ArticlesApril2018.csv')\n",
    "df.head()"
   ]
  },
  {
   "cell_type": "code",
   "execution_count": 28,
   "metadata": {},
   "outputs": [
    {
     "name": "stdout",
     "output_type": "stream",
     "text": [
      "열의 개수 : 15\n",
      "Index(['articleID', 'articleWordCount', 'byline', 'documentType', 'headline',\n",
      "       'keywords', 'multimedia', 'newDesk', 'printPage', 'pubDate',\n",
      "       'sectionName', 'snippet', 'source', 'typeOfMaterial', 'webURL'],\n",
      "      dtype='object')\n"
     ]
    }
   ],
   "source": [
    "print('열의 개수 :',len(df.columns))\n",
    "print(df.columns)"
   ]
  },
  {
   "cell_type": "code",
   "execution_count": 29,
   "metadata": {},
   "outputs": [
    {
     "name": "stdout",
     "output_type": "stream",
     "text": [
      "False\n"
     ]
    }
   ],
   "source": [
    "print(df['headline'].isnull().values.any())"
   ]
  },
  {
   "cell_type": "code",
   "execution_count": 30,
   "metadata": {},
   "outputs": [
    {
     "data": {
      "text/plain": [
       "['Former N.F.L. Cheerleaders’ Settlement Offer: $1 and a Meeting With Goodell',\n",
       " 'E.P.A. to Unveil a New Rule. Its Effect: Less Science in Policymaking.',\n",
       " 'The New Noma, Explained',\n",
       " 'Unknown',\n",
       " 'Unknown']"
      ]
     },
     "execution_count": 30,
     "metadata": {},
     "output_type": "execute_result"
    }
   ],
   "source": [
    "headline = []\n",
    "headline.extend(list(df.headline.values))\n",
    "headline[:5]"
   ]
  },
  {
   "cell_type": "code",
   "execution_count": 31,
   "metadata": {},
   "outputs": [
    {
     "name": "stdout",
     "output_type": "stream",
     "text": [
      "총 샘플의 개수 : 1324\n"
     ]
    }
   ],
   "source": [
    "print('총 샘플의 개수 : {}'.format(len(headline)))"
   ]
  },
  {
   "cell_type": "code",
   "execution_count": 32,
   "metadata": {},
   "outputs": [
    {
     "name": "stdout",
     "output_type": "stream",
     "text": [
      "노이즈값 제거 후 샘플의 개수 : 1214\n"
     ]
    }
   ],
   "source": [
    "headline = [word for word in headline if word != 'Unknown']\n",
    "print('노이즈값 제거 후 샘플의 개수 : {}'.format(len(headline)))"
   ]
  },
  {
   "cell_type": "code",
   "execution_count": 34,
   "metadata": {},
   "outputs": [
    {
     "data": {
      "text/plain": [
       "['Former N.F.L. Cheerleaders’ Settlement Offer: $1 and a Meeting With Goodell',\n",
       " 'E.P.A. to Unveil a New Rule. Its Effect: Less Science in Policymaking.',\n",
       " 'The New Noma, Explained',\n",
       " 'How a Bag of Texas Dirt  Became a Times Tradition',\n",
       " 'Is School a Place for Self-Expression?']"
      ]
     },
     "execution_count": 34,
     "metadata": {},
     "output_type": "execute_result"
    }
   ],
   "source": [
    "headline[:5]"
   ]
  },
  {
   "cell_type": "code",
   "execution_count": 40,
   "metadata": {},
   "outputs": [
    {
     "data": {
      "text/plain": [
       "['former nfl cheerleaders settlement offer 1 and a meeting with goodell',\n",
       " 'epa to unveil a new rule its effect less science in policymaking',\n",
       " 'the new noma explained',\n",
       " 'how a bag of texas dirt  became a times tradition',\n",
       " 'is school a place for selfexpression']"
      ]
     },
     "execution_count": 40,
     "metadata": {},
     "output_type": "execute_result"
    }
   ],
   "source": [
    "def repreprocessing(raw_sentence):\n",
    "    preprocessed_sentence = raw_sentence.encode('utf8').decode('ascii','ignore')\n",
    "    return ''.join(word for word in preprocessed_sentence if word not in punctuation).lower()\n",
    "preprocessed_headline = [repreprocessing(x) for x in headline]\n",
    "preprocessed_headline[:5]"
   ]
  },
  {
   "cell_type": "code",
   "execution_count": 41,
   "metadata": {},
   "outputs": [
    {
     "name": "stdout",
     "output_type": "stream",
     "text": [
      "단어 집합의 크기 : 3494\n"
     ]
    }
   ],
   "source": [
    "tokenizer = Tokenizer()\n",
    "tokenizer.fit_on_texts(preprocessed_headline)\n",
    "vocab_size = len(tokenizer.word_index) + 1\n",
    "print('단어 집합의 크기 : %d' % vocab_size)"
   ]
  },
  {
   "cell_type": "code",
   "execution_count": 42,
   "metadata": {},
   "outputs": [
    {
     "data": {
      "text/plain": [
       "[[99, 269],\n",
       " [99, 269, 371],\n",
       " [99, 269, 371, 1115],\n",
       " [99, 269, 371, 1115, 582],\n",
       " [99, 269, 371, 1115, 582, 52],\n",
       " [99, 269, 371, 1115, 582, 52, 7],\n",
       " [99, 269, 371, 1115, 582, 52, 7, 2],\n",
       " [99, 269, 371, 1115, 582, 52, 7, 2, 372],\n",
       " [99, 269, 371, 1115, 582, 52, 7, 2, 372, 10],\n",
       " [99, 269, 371, 1115, 582, 52, 7, 2, 372, 10, 1116],\n",
       " [100, 3]]"
      ]
     },
     "execution_count": 42,
     "metadata": {},
     "output_type": "execute_result"
    }
   ],
   "source": [
    "sequences = list()\n",
    "for sentence in preprocessed_headline:\n",
    "    encoded = tokenizer.texts_to_sequences([sentence])[0]\n",
    "    for i in range(1,len(encoded)):\n",
    "        sequence = encoded[:i+1]\n",
    "        sequences.append(sequence)\n",
    "\n",
    "sequences[:11]"
   ]
  },
  {
   "cell_type": "code",
   "execution_count": 46,
   "metadata": {},
   "outputs": [
    {
     "name": "stdout",
     "output_type": "stream",
     "text": [
      "빈도수 상위 582번 단어 : offer\n"
     ]
    }
   ],
   "source": [
    "index_to_word = {}\n",
    "for key, value in tokenizer.word_index.items():\n",
    "    index_to_word[value] = key\n",
    "print('빈도수 상위 582번 단어 : {}'.format(index_to_word[582]))"
   ]
  },
  {
   "cell_type": "code",
   "execution_count": 47,
   "metadata": {},
   "outputs": [
    {
     "name": "stdout",
     "output_type": "stream",
     "text": [
      "샘플의 최대 길이 : 24\n"
     ]
    }
   ],
   "source": [
    "max_len = max(len(l) for l in sequences)\n",
    "print('샘플의 최대 길이 : {}'.format(max_len))"
   ]
  },
  {
   "cell_type": "code",
   "execution_count": 48,
   "metadata": {},
   "outputs": [
    {
     "name": "stdout",
     "output_type": "stream",
     "text": [
      "[[   0    0    0    0    0    0    0    0    0    0    0    0    0    0\n",
      "     0    0    0    0    0    0    0    0   99  269]\n",
      " [   0    0    0    0    0    0    0    0    0    0    0    0    0    0\n",
      "     0    0    0    0    0    0    0   99  269  371]\n",
      " [   0    0    0    0    0    0    0    0    0    0    0    0    0    0\n",
      "     0    0    0    0    0    0   99  269  371 1115]]\n"
     ]
    }
   ],
   "source": [
    "sequences = pad_sequences(sequences, maxlen=max_len, padding='pre')\n",
    "print(sequences[:3])"
   ]
  },
  {
   "cell_type": "code",
   "execution_count": 50,
   "metadata": {},
   "outputs": [],
   "source": [
    "sequences = np.array(sequences)\n",
    "X = sequences[:,:-1]\n",
    "y = sequences[:,-1]"
   ]
  },
  {
   "cell_type": "code",
   "execution_count": 51,
   "metadata": {},
   "outputs": [
    {
     "name": "stdout",
     "output_type": "stream",
     "text": [
      "[[  0   0   0   0   0   0   0   0   0   0   0   0   0   0   0   0   0   0\n",
      "    0   0   0   0  99]\n",
      " [  0   0   0   0   0   0   0   0   0   0   0   0   0   0   0   0   0   0\n",
      "    0   0   0  99 269]\n",
      " [  0   0   0   0   0   0   0   0   0   0   0   0   0   0   0   0   0   0\n",
      "    0   0  99 269 371]]\n"
     ]
    }
   ],
   "source": [
    "print(X[:3])"
   ]
  },
  {
   "cell_type": "code",
   "execution_count": 52,
   "metadata": {},
   "outputs": [
    {
     "name": "stdout",
     "output_type": "stream",
     "text": [
      "[ 269  371 1115]\n"
     ]
    }
   ],
   "source": [
    "print(y[:3])"
   ]
  },
  {
   "cell_type": "code",
   "execution_count": 53,
   "metadata": {},
   "outputs": [],
   "source": [
    "y = to_categorical(y, num_classes=vocab_size)"
   ]
  },
  {
   "cell_type": "code",
   "execution_count": 54,
   "metadata": {},
   "outputs": [],
   "source": [
    "from tensorflow.keras.models import Sequential\n",
    "from tensorflow.keras.layers import Embedding, Dense, LSTM"
   ]
  },
  {
   "cell_type": "code",
   "execution_count": 55,
   "metadata": {},
   "outputs": [
    {
     "name": "stdout",
     "output_type": "stream",
     "text": [
      "Epoch 1/200\n",
      "244/244 - 6s - loss: 7.6540 - accuracy: 0.0296\n",
      "Epoch 2/200\n",
      "244/244 - 4s - loss: 7.1152 - accuracy: 0.0290\n",
      "Epoch 3/200\n",
      "244/244 - 4s - loss: 6.9828 - accuracy: 0.0328\n",
      "Epoch 4/200\n",
      "244/244 - 3s - loss: 6.8657 - accuracy: 0.0406\n",
      "Epoch 5/200\n",
      "244/244 - 4s - loss: 6.7289 - accuracy: 0.0443\n",
      "Epoch 6/200\n",
      "244/244 - 4s - loss: 6.5671 - accuracy: 0.0482\n",
      "Epoch 7/200\n",
      "244/244 - 4s - loss: 6.3898 - accuracy: 0.0511\n",
      "Epoch 8/200\n",
      "244/244 - 4s - loss: 6.2082 - accuracy: 0.0557\n",
      "Epoch 9/200\n",
      "244/244 - 4s - loss: 6.0235 - accuracy: 0.0604\n",
      "Epoch 10/200\n",
      "244/244 - 3s - loss: 5.8458 - accuracy: 0.0645\n",
      "Epoch 11/200\n",
      "244/244 - 4s - loss: 5.6718 - accuracy: 0.0713\n",
      "Epoch 12/200\n",
      "244/244 - 4s - loss: 5.5102 - accuracy: 0.0724\n",
      "Epoch 13/200\n",
      "244/244 - 4s - loss: 5.3559 - accuracy: 0.0773\n",
      "Epoch 14/200\n",
      "244/244 - 4s - loss: 5.2037 - accuracy: 0.0836\n",
      "Epoch 15/200\n",
      "244/244 - 4s - loss: 5.0593 - accuracy: 0.0879\n",
      "Epoch 16/200\n",
      "244/244 - 3s - loss: 4.9199 - accuracy: 0.1019\n",
      "Epoch 17/200\n",
      "244/244 - 3s - loss: 4.7919 - accuracy: 0.1097\n",
      "Epoch 18/200\n",
      "244/244 - 3s - loss: 4.6615 - accuracy: 0.1170\n",
      "Epoch 19/200\n",
      "244/244 - 3s - loss: 4.5400 - accuracy: 0.1334\n",
      "Epoch 20/200\n",
      "244/244 - 3s - loss: 4.4178 - accuracy: 0.1499\n",
      "Epoch 21/200\n",
      "244/244 - 3s - loss: 4.3028 - accuracy: 0.1631\n",
      "Epoch 22/200\n",
      "244/244 - 3s - loss: 4.1864 - accuracy: 0.1816\n",
      "Epoch 23/200\n",
      "244/244 - 3s - loss: 4.0759 - accuracy: 0.1961\n",
      "Epoch 24/200\n",
      "244/244 - 3s - loss: 3.9686 - accuracy: 0.2163\n",
      "Epoch 25/200\n",
      "244/244 - 3s - loss: 3.8629 - accuracy: 0.2364\n",
      "Epoch 26/200\n",
      "244/244 - 4s - loss: 3.7621 - accuracy: 0.2514\n",
      "Epoch 27/200\n",
      "244/244 - 4s - loss: 3.6623 - accuracy: 0.2667\n",
      "Epoch 28/200\n",
      "244/244 - 4s - loss: 3.5670 - accuracy: 0.2862\n",
      "Epoch 29/200\n",
      "244/244 - 3s - loss: 3.4742 - accuracy: 0.3041\n",
      "Epoch 30/200\n",
      "244/244 - 3s - loss: 3.3821 - accuracy: 0.3200\n",
      "Epoch 31/200\n",
      "244/244 - 3s - loss: 3.2974 - accuracy: 0.3382\n",
      "Epoch 32/200\n",
      "244/244 - 3s - loss: 3.2102 - accuracy: 0.3518\n",
      "Epoch 33/200\n",
      "244/244 - 3s - loss: 3.1293 - accuracy: 0.3660\n",
      "Epoch 34/200\n",
      "244/244 - 3s - loss: 3.0521 - accuracy: 0.3755\n",
      "Epoch 35/200\n",
      "244/244 - 3s - loss: 2.9755 - accuracy: 0.3947\n",
      "Epoch 36/200\n",
      "244/244 - 4s - loss: 2.9001 - accuracy: 0.4092\n",
      "Epoch 37/200\n",
      "244/244 - 3s - loss: 2.8266 - accuracy: 0.4201\n",
      "Epoch 38/200\n",
      "244/244 - 3s - loss: 2.7612 - accuracy: 0.4338\n",
      "Epoch 39/200\n",
      "244/244 - 3s - loss: 2.6940 - accuracy: 0.4473\n",
      "Epoch 40/200\n",
      "244/244 - 4s - loss: 2.6273 - accuracy: 0.4612\n",
      "Epoch 41/200\n",
      "244/244 - 3s - loss: 2.5641 - accuracy: 0.4753\n",
      "Epoch 42/200\n",
      "244/244 - 3s - loss: 2.5020 - accuracy: 0.4821\n",
      "Epoch 43/200\n",
      "244/244 - 3s - loss: 2.4421 - accuracy: 0.5001\n",
      "Epoch 44/200\n",
      "244/244 - 3s - loss: 2.3842 - accuracy: 0.5093\n",
      "Epoch 45/200\n",
      "244/244 - 3s - loss: 2.3290 - accuracy: 0.5180\n",
      "Epoch 46/200\n",
      "244/244 - 3s - loss: 2.2731 - accuracy: 0.5333\n",
      "Epoch 47/200\n",
      "244/244 - 3s - loss: 2.2193 - accuracy: 0.5470\n",
      "Epoch 48/200\n",
      "244/244 - 3s - loss: 2.1699 - accuracy: 0.5553\n",
      "Epoch 49/200\n",
      "244/244 - 4s - loss: 2.1150 - accuracy: 0.5656\n",
      "Epoch 50/200\n",
      "244/244 - 4s - loss: 2.0665 - accuracy: 0.5730\n",
      "Epoch 51/200\n",
      "244/244 - 4s - loss: 2.0180 - accuracy: 0.5870\n",
      "Epoch 52/200\n",
      "244/244 - 4s - loss: 1.9684 - accuracy: 0.5982\n",
      "Epoch 53/200\n",
      "244/244 - 4s - loss: 1.9234 - accuracy: 0.6108\n",
      "Epoch 54/200\n",
      "244/244 - 4s - loss: 1.8795 - accuracy: 0.6143\n",
      "Epoch 55/200\n",
      "244/244 - 4s - loss: 1.8363 - accuracy: 0.6290\n",
      "Epoch 56/200\n",
      "244/244 - 4s - loss: 1.7920 - accuracy: 0.6349\n",
      "Epoch 57/200\n",
      "244/244 - 3s - loss: 1.7513 - accuracy: 0.6459\n",
      "Epoch 58/200\n",
      "244/244 - 3s - loss: 1.7081 - accuracy: 0.6559\n",
      "Epoch 59/200\n",
      "244/244 - 3s - loss: 1.6680 - accuracy: 0.6596\n",
      "Epoch 60/200\n",
      "244/244 - 3s - loss: 1.6284 - accuracy: 0.6723\n",
      "Epoch 61/200\n",
      "244/244 - 3s - loss: 1.5907 - accuracy: 0.6796\n",
      "Epoch 62/200\n",
      "244/244 - 3s - loss: 1.5549 - accuracy: 0.6852\n",
      "Epoch 63/200\n",
      "244/244 - 3s - loss: 1.5158 - accuracy: 0.6986\n",
      "Epoch 64/200\n",
      "244/244 - 3s - loss: 1.4833 - accuracy: 0.7034\n",
      "Epoch 65/200\n",
      "244/244 - 3s - loss: 1.4454 - accuracy: 0.7087\n",
      "Epoch 66/200\n",
      "244/244 - 3s - loss: 1.4105 - accuracy: 0.7196\n",
      "Epoch 67/200\n",
      "244/244 - 3s - loss: 1.3781 - accuracy: 0.7259\n",
      "Epoch 68/200\n",
      "244/244 - 3s - loss: 1.3444 - accuracy: 0.7319\n",
      "Epoch 69/200\n",
      "244/244 - 4s - loss: 1.3134 - accuracy: 0.7380\n",
      "Epoch 70/200\n",
      "244/244 - 4s - loss: 1.2860 - accuracy: 0.7427\n",
      "Epoch 71/200\n",
      "244/244 - 4s - loss: 1.2529 - accuracy: 0.7502\n",
      "Epoch 72/200\n",
      "244/244 - 3s - loss: 1.2227 - accuracy: 0.7579\n",
      "Epoch 73/200\n",
      "244/244 - 4s - loss: 1.1935 - accuracy: 0.7636\n",
      "Epoch 74/200\n",
      "244/244 - 4s - loss: 1.1664 - accuracy: 0.7709\n",
      "Epoch 75/200\n",
      "244/244 - 3s - loss: 1.1384 - accuracy: 0.7766\n",
      "Epoch 76/200\n",
      "244/244 - 3s - loss: 1.1131 - accuracy: 0.7820\n",
      "Epoch 77/200\n",
      "244/244 - 3s - loss: 1.0849 - accuracy: 0.7859\n",
      "Epoch 78/200\n",
      "244/244 - 3s - loss: 1.0619 - accuracy: 0.7883\n",
      "Epoch 79/200\n",
      "244/244 - 3s - loss: 1.0356 - accuracy: 0.7975\n",
      "Epoch 80/200\n",
      "244/244 - 3s - loss: 1.0133 - accuracy: 0.8025\n",
      "Epoch 81/200\n",
      "244/244 - 3s - loss: 0.9897 - accuracy: 0.8030\n",
      "Epoch 82/200\n",
      "244/244 - 3s - loss: 0.9668 - accuracy: 0.8096\n",
      "Epoch 83/200\n",
      "244/244 - 3s - loss: 0.9435 - accuracy: 0.8128\n",
      "Epoch 84/200\n",
      "244/244 - 3s - loss: 0.9215 - accuracy: 0.8192\n",
      "Epoch 85/200\n",
      "244/244 - 3s - loss: 0.9006 - accuracy: 0.8228\n",
      "Epoch 86/200\n",
      "244/244 - 3s - loss: 0.8809 - accuracy: 0.8272\n",
      "Epoch 87/200\n",
      "244/244 - 3s - loss: 0.8608 - accuracy: 0.8294\n",
      "Epoch 88/200\n",
      "244/244 - 3s - loss: 0.8397 - accuracy: 0.8360\n",
      "Epoch 89/200\n",
      "244/244 - 3s - loss: 0.8233 - accuracy: 0.8384\n",
      "Epoch 90/200\n",
      "244/244 - 3s - loss: 0.8057 - accuracy: 0.8415\n",
      "Epoch 91/200\n",
      "244/244 - 3s - loss: 0.7849 - accuracy: 0.8439\n",
      "Epoch 92/200\n",
      "244/244 - 3s - loss: 0.7673 - accuracy: 0.8471\n",
      "Epoch 93/200\n",
      "244/244 - 3s - loss: 0.7508 - accuracy: 0.8513\n",
      "Epoch 94/200\n",
      "244/244 - 3s - loss: 0.7377 - accuracy: 0.8544\n",
      "Epoch 95/200\n",
      "244/244 - 3s - loss: 0.7180 - accuracy: 0.8575\n",
      "Epoch 96/200\n",
      "244/244 - 3s - loss: 0.7051 - accuracy: 0.8574\n",
      "Epoch 97/200\n",
      "244/244 - 3s - loss: 0.6883 - accuracy: 0.8658\n",
      "Epoch 98/200\n",
      "244/244 - 3s - loss: 0.6741 - accuracy: 0.8654\n",
      "Epoch 99/200\n",
      "244/244 - 3s - loss: 0.6588 - accuracy: 0.8708\n",
      "Epoch 100/200\n",
      "244/244 - 3s - loss: 0.6495 - accuracy: 0.8703\n",
      "Epoch 101/200\n",
      "244/244 - 3s - loss: 0.6297 - accuracy: 0.8725\n",
      "Epoch 102/200\n",
      "244/244 - 3s - loss: 0.6179 - accuracy: 0.8757\n",
      "Epoch 103/200\n",
      "244/244 - 3s - loss: 0.6047 - accuracy: 0.8788\n",
      "Epoch 104/200\n",
      "244/244 - 3s - loss: 0.5915 - accuracy: 0.8826\n",
      "Epoch 105/200\n",
      "244/244 - 3s - loss: 0.5804 - accuracy: 0.8824\n",
      "Epoch 106/200\n",
      "244/244 - 4s - loss: 0.5692 - accuracy: 0.8870\n",
      "Epoch 107/200\n",
      "244/244 - 4s - loss: 0.5586 - accuracy: 0.8866\n",
      "Epoch 108/200\n",
      "244/244 - 4s - loss: 0.5483 - accuracy: 0.8893\n",
      "Epoch 109/200\n",
      "244/244 - 4s - loss: 0.5360 - accuracy: 0.8912\n",
      "Epoch 110/200\n",
      "244/244 - 3s - loss: 0.5272 - accuracy: 0.8926\n",
      "Epoch 111/200\n",
      "244/244 - 4s - loss: 0.5186 - accuracy: 0.8956\n",
      "Epoch 112/200\n",
      "244/244 - 4s - loss: 0.5070 - accuracy: 0.8984\n",
      "Epoch 113/200\n",
      "244/244 - 4s - loss: 0.4992 - accuracy: 0.8973\n",
      "Epoch 114/200\n",
      "244/244 - 4s - loss: 0.4878 - accuracy: 0.9003\n",
      "Epoch 115/200\n",
      "244/244 - 4s - loss: 0.4772 - accuracy: 0.9013\n",
      "Epoch 116/200\n",
      "244/244 - 3s - loss: 0.4691 - accuracy: 0.9018\n",
      "Epoch 117/200\n",
      "244/244 - 3s - loss: 0.4608 - accuracy: 0.9047\n",
      "Epoch 118/200\n",
      "244/244 - 3s - loss: 0.4641 - accuracy: 0.9021\n",
      "Epoch 119/200\n",
      "244/244 - 4s - loss: 0.4541 - accuracy: 0.9052\n",
      "Epoch 120/200\n",
      "244/244 - 3s - loss: 0.4362 - accuracy: 0.9067\n",
      "Epoch 121/200\n",
      "244/244 - 3s - loss: 0.4257 - accuracy: 0.9085\n",
      "Epoch 122/200\n",
      "244/244 - 3s - loss: 0.4190 - accuracy: 0.9084\n",
      "Epoch 123/200\n",
      "244/244 - 3s - loss: 0.4128 - accuracy: 0.9094\n",
      "Epoch 124/200\n",
      "244/244 - 3s - loss: 0.4095 - accuracy: 0.9109\n",
      "Epoch 125/200\n",
      "244/244 - 3s - loss: 0.4015 - accuracy: 0.9089\n",
      "Epoch 126/200\n",
      "244/244 - 4s - loss: 0.3939 - accuracy: 0.9134\n",
      "Epoch 127/200\n",
      "244/244 - 3s - loss: 0.3883 - accuracy: 0.9118\n",
      "Epoch 128/200\n",
      "244/244 - 4s - loss: 0.3844 - accuracy: 0.9117\n",
      "Epoch 129/200\n",
      "244/244 - 4s - loss: 0.3931 - accuracy: 0.9118\n",
      "Epoch 130/200\n",
      "244/244 - 4s - loss: 0.3869 - accuracy: 0.9127\n",
      "Epoch 131/200\n",
      "244/244 - 4s - loss: 0.3698 - accuracy: 0.9150\n",
      "Epoch 132/200\n",
      "244/244 - 4s - loss: 0.3616 - accuracy: 0.9134\n",
      "Epoch 133/200\n",
      "244/244 - 4s - loss: 0.3571 - accuracy: 0.9129\n",
      "Epoch 134/200\n",
      "244/244 - 4s - loss: 0.3517 - accuracy: 0.9154\n",
      "Epoch 135/200\n",
      "244/244 - 4s - loss: 0.3476 - accuracy: 0.9155\n",
      "Epoch 136/200\n",
      "244/244 - 4s - loss: 0.3439 - accuracy: 0.9144\n",
      "Epoch 137/200\n"
     ]
    },
    {
     "name": "stdout",
     "output_type": "stream",
     "text": [
      "244/244 - 4s - loss: 0.3395 - accuracy: 0.9155\n",
      "Epoch 138/200\n",
      "244/244 - 4s - loss: 0.3388 - accuracy: 0.9171\n",
      "Epoch 139/200\n",
      "244/244 - 4s - loss: 0.3392 - accuracy: 0.9145\n",
      "Epoch 140/200\n",
      "244/244 - 4s - loss: 0.3328 - accuracy: 0.9162\n",
      "Epoch 141/200\n",
      "244/244 - 3s - loss: 0.3269 - accuracy: 0.9153\n",
      "Epoch 142/200\n",
      "244/244 - 4s - loss: 0.3209 - accuracy: 0.9167\n",
      "Epoch 143/200\n",
      "244/244 - 3s - loss: 0.3195 - accuracy: 0.9166\n",
      "Epoch 144/200\n",
      "244/244 - 4s - loss: 0.3163 - accuracy: 0.9166\n",
      "Epoch 145/200\n",
      "244/244 - 4s - loss: 0.3129 - accuracy: 0.9180\n",
      "Epoch 146/200\n",
      "244/244 - 4s - loss: 0.3102 - accuracy: 0.9167\n",
      "Epoch 147/200\n",
      "244/244 - 4s - loss: 0.3084 - accuracy: 0.9164\n",
      "Epoch 148/200\n",
      "244/244 - 4s - loss: 0.3168 - accuracy: 0.9146\n",
      "Epoch 149/200\n",
      "244/244 - 4s - loss: 0.3239 - accuracy: 0.9140\n",
      "Epoch 150/200\n",
      "244/244 - 4s - loss: 0.3221 - accuracy: 0.9150\n",
      "Epoch 151/200\n",
      "244/244 - 4s - loss: 0.3020 - accuracy: 0.9179\n",
      "Epoch 152/200\n",
      "244/244 - 4s - loss: 0.2974 - accuracy: 0.9175\n",
      "Epoch 153/200\n",
      "244/244 - 4s - loss: 0.2954 - accuracy: 0.9181\n",
      "Epoch 154/200\n",
      "244/244 - 3s - loss: 0.2928 - accuracy: 0.9173\n",
      "Epoch 155/200\n",
      "244/244 - 3s - loss: 0.2916 - accuracy: 0.9182\n",
      "Epoch 156/200\n",
      "244/244 - 4s - loss: 0.2902 - accuracy: 0.9168\n",
      "Epoch 157/200\n",
      "244/244 - 4s - loss: 0.2895 - accuracy: 0.9177\n",
      "Epoch 158/200\n",
      "244/244 - 4s - loss: 0.2875 - accuracy: 0.9180\n",
      "Epoch 159/200\n",
      "244/244 - 3s - loss: 0.2856 - accuracy: 0.9175\n",
      "Epoch 160/200\n",
      "244/244 - 3s - loss: 0.2860 - accuracy: 0.9166\n",
      "Epoch 161/200\n",
      "244/244 - 3s - loss: 0.2883 - accuracy: 0.9145\n",
      "Epoch 162/200\n",
      "244/244 - 3s - loss: 0.2863 - accuracy: 0.9175\n",
      "Epoch 163/200\n",
      "244/244 - 3s - loss: 0.2837 - accuracy: 0.9168\n",
      "Epoch 164/200\n",
      "244/244 - 3s - loss: 0.2827 - accuracy: 0.9179\n",
      "Epoch 165/200\n",
      "244/244 - 3s - loss: 0.2828 - accuracy: 0.9148\n",
      "Epoch 166/200\n",
      "244/244 - 3s - loss: 0.2816 - accuracy: 0.9180\n",
      "Epoch 167/200\n",
      "244/244 - 3s - loss: 0.2862 - accuracy: 0.9149\n",
      "Epoch 168/200\n",
      "244/244 - 3s - loss: 0.2896 - accuracy: 0.9150\n",
      "Epoch 169/200\n",
      "244/244 - 3s - loss: 0.2840 - accuracy: 0.9155\n",
      "Epoch 170/200\n",
      "244/244 - 3s - loss: 0.2755 - accuracy: 0.9164\n",
      "Epoch 171/200\n",
      "244/244 - 3s - loss: 0.2733 - accuracy: 0.9163\n",
      "Epoch 172/200\n",
      "244/244 - 3s - loss: 0.2720 - accuracy: 0.9163\n",
      "Epoch 173/200\n",
      "244/244 - 3s - loss: 0.2709 - accuracy: 0.9161\n",
      "Epoch 174/200\n",
      "244/244 - 3s - loss: 0.2716 - accuracy: 0.9155\n",
      "Epoch 175/200\n",
      "244/244 - 3s - loss: 0.2711 - accuracy: 0.9181\n",
      "Epoch 176/200\n",
      "244/244 - 3s - loss: 0.2695 - accuracy: 0.9182\n",
      "Epoch 177/200\n",
      "244/244 - 3s - loss: 0.2704 - accuracy: 0.9172\n",
      "Epoch 178/200\n",
      "244/244 - 4s - loss: 0.2697 - accuracy: 0.9181\n",
      "Epoch 179/200\n",
      "244/244 - 3s - loss: 0.2686 - accuracy: 0.9164\n",
      "Epoch 180/200\n",
      "244/244 - 3s - loss: 0.2675 - accuracy: 0.9163\n",
      "Epoch 181/200\n",
      "244/244 - 3s - loss: 0.2680 - accuracy: 0.9175\n",
      "Epoch 182/200\n",
      "244/244 - 3s - loss: 0.2658 - accuracy: 0.9180\n",
      "Epoch 183/200\n",
      "244/244 - 3s - loss: 0.2658 - accuracy: 0.9177\n",
      "Epoch 184/200\n",
      "244/244 - 3s - loss: 0.2661 - accuracy: 0.9168\n",
      "Epoch 185/200\n",
      "244/244 - 3s - loss: 0.2670 - accuracy: 0.9181\n",
      "Epoch 186/200\n",
      "244/244 - 3s - loss: 0.2650 - accuracy: 0.9163\n",
      "Epoch 187/200\n",
      "244/244 - 3s - loss: 0.2666 - accuracy: 0.9163\n",
      "Epoch 188/200\n",
      "244/244 - 3s - loss: 0.2953 - accuracy: 0.9104\n",
      "Epoch 189/200\n",
      "244/244 - 3s - loss: 0.2943 - accuracy: 0.9129\n",
      "Epoch 190/200\n",
      "244/244 - 3s - loss: 0.2675 - accuracy: 0.9162\n",
      "Epoch 191/200\n",
      "244/244 - 3s - loss: 0.2629 - accuracy: 0.9181\n",
      "Epoch 192/200\n",
      "244/244 - 3s - loss: 0.2618 - accuracy: 0.9163\n",
      "Epoch 193/200\n",
      "244/244 - 4s - loss: 0.2617 - accuracy: 0.9166\n",
      "Epoch 194/200\n",
      "244/244 - 4s - loss: 0.2603 - accuracy: 0.9179\n",
      "Epoch 195/200\n",
      "244/244 - 3s - loss: 0.2600 - accuracy: 0.9162\n",
      "Epoch 196/200\n",
      "244/244 - 3s - loss: 0.2602 - accuracy: 0.9161\n",
      "Epoch 197/200\n",
      "244/244 - 3s - loss: 0.2601 - accuracy: 0.9162\n",
      "Epoch 198/200\n",
      "244/244 - 3s - loss: 0.2596 - accuracy: 0.9171\n",
      "Epoch 199/200\n",
      "244/244 - 3s - loss: 0.2602 - accuracy: 0.9164\n",
      "Epoch 200/200\n",
      "244/244 - 3s - loss: 0.2593 - accuracy: 0.9173\n"
     ]
    },
    {
     "data": {
      "text/plain": [
       "<keras.callbacks.History at 0x1ca16c2cb80>"
      ]
     },
     "execution_count": 55,
     "metadata": {},
     "output_type": "execute_result"
    }
   ],
   "source": [
    "embedding_dim = 10\n",
    "hidden_units = 128\n",
    "model = Sequential()\n",
    "model.add(Embedding(vocab_size,embedding_dim))\n",
    "model.add(LSTM(hidden_units))\n",
    "model.add(Dense(vocab_size,activation='softmax'))\n",
    "model.compile(loss='categorical_crossentropy',optimizer='adam',metrics=['accuracy'])\n",
    "model.fit(X,y,epochs=200,verbose=2)"
   ]
  },
  {
   "cell_type": "code",
   "execution_count": 65,
   "metadata": {},
   "outputs": [],
   "source": [
    "def sentence_generation(model,tokenizer,current_word,n):\n",
    "    init_word = current_word\n",
    "    sentence = ''\n",
    "    \n",
    "    for _ in range(n):\n",
    "        encoded = tokenizer.texts_to_sequences([current_word])[0]\n",
    "        encoded = pad_sequences([encoded],maxlen=max_len-1,padding='pre')\n",
    "        result = model.predict(encoded, verbose=0)\n",
    "        result = np.argmax(result,axis=1)\n",
    "        \n",
    "        for word, index in tokenizer.word_index.items():\n",
    "            if index == result:\n",
    "                break\n",
    "        current_word = current_word + ' ' + word\n",
    "        sentence = sentence + ' ' + word\n",
    "    sentence = init_word + sentence\n",
    "    return sentence"
   ]
  },
  {
   "cell_type": "code",
   "execution_count": 66,
   "metadata": {},
   "outputs": [
    {
     "name": "stdout",
     "output_type": "stream",
     "text": [
      "i cant jump ship from facebook yet melania a birthday gift\n"
     ]
    }
   ],
   "source": [
    "print(sentence_generation(model,tokenizer,'i',10))"
   ]
  },
  {
   "cell_type": "code",
   "execution_count": 67,
   "metadata": {},
   "outputs": [
    {
     "name": "stdout",
     "output_type": "stream",
     "text": [
      "how can a doctor grapple with the epidemic of cost care\n"
     ]
    }
   ],
   "source": [
    "print(sentence_generation(model,tokenizer,'how',10))"
   ]
  },
  {
   "cell_type": "code",
   "execution_count": 1,
   "metadata": {},
   "outputs": [],
   "source": [
    "import numpy as np\n",
    "import urllib.request\n",
    "from tensorflow.keras.utils import to_categorical\n",
    "\n",
    "urllib.request.urlretrieve(\"http://www.gutenberg.org/files/11/11-0.txt\", filename=\"11-0.txt\")\n",
    "\n",
    "f = open('11-0.txt','rb')\n",
    "sentences = []\n",
    "for sentence in f:\n",
    "    sentence = sentence.strip()\n",
    "    sentence = sentence.lower()\n",
    "    sentence = sentence.decode('ascii','ignore')\n",
    "    if len(sentence) > 0:\n",
    "        sentences.append(sentence)\n",
    "f.close()"
   ]
  },
  {
   "cell_type": "code",
   "execution_count": 2,
   "metadata": {},
   "outputs": [
    {
     "data": {
      "text/plain": [
       "['the project gutenberg ebook of alices adventures in wonderland, by lewis carroll',\n",
       " 'this ebook is for the use of anyone anywhere in the united states and',\n",
       " 'most other parts of the world at no cost and with almost no restrictions',\n",
       " 'whatsoever. you may copy it, give it away or re-use it under the terms',\n",
       " 'of the project gutenberg license included with this ebook or online at']"
      ]
     },
     "execution_count": 2,
     "metadata": {},
     "output_type": "execute_result"
    }
   ],
   "source": [
    "sentences[:5]"
   ]
  },
  {
   "cell_type": "code",
   "execution_count": 5,
   "metadata": {},
   "outputs": [
    {
     "name": "stdout",
     "output_type": "stream",
     "text": [
      "문자열의 길이 또는 총 문자의 개수 : 159484 \n"
     ]
    }
   ],
   "source": [
    "total_data = ' '.join(sentences)\n",
    "print('문자열의 길이 또는 총 문자의 개수 : %d '% len(total_data))"
   ]
  },
  {
   "cell_type": "code",
   "execution_count": 4,
   "metadata": {},
   "outputs": [
    {
     "name": "stdout",
     "output_type": "stream",
     "text": [
      "the project gutenberg ebook of alices adventures in wonderland, by lewis carroll this ebook is for the use of anyone anywhere in the united states and most other parts of the world at no cost and with\n"
     ]
    }
   ],
   "source": [
    "print(total_data[:200])"
   ]
  },
  {
   "cell_type": "code",
   "execution_count": 6,
   "metadata": {},
   "outputs": [
    {
     "name": "stdout",
     "output_type": "stream",
     "text": [
      "문자 집합의 크기 : 56\n"
     ]
    }
   ],
   "source": [
    "char_vocab = sorted(list(set(total_data)))\n",
    "vocab_size = len(char_vocab)\n",
    "print('문자 집합의 크기 : {}'.format(vocab_size))"
   ]
  },
  {
   "cell_type": "code",
   "execution_count": 7,
   "metadata": {},
   "outputs": [
    {
     "name": "stdout",
     "output_type": "stream",
     "text": [
      "문자 집합 : {' ': 0, '!': 1, '\"': 2, '#': 3, '$': 4, '%': 5, \"'\": 6, '(': 7, ')': 8, '*': 9, ',': 10, '-': 11, '.': 12, '/': 13, '0': 14, '1': 15, '2': 16, '3': 17, '4': 18, '5': 19, '6': 20, '7': 21, '8': 22, '9': 23, ':': 24, ';': 25, '?': 26, '[': 27, ']': 28, '_': 29, 'a': 30, 'b': 31, 'c': 32, 'd': 33, 'e': 34, 'f': 35, 'g': 36, 'h': 37, 'i': 38, 'j': 39, 'k': 40, 'l': 41, 'm': 42, 'n': 43, 'o': 44, 'p': 45, 'q': 46, 'r': 47, 's': 48, 't': 49, 'u': 50, 'v': 51, 'w': 52, 'x': 53, 'y': 54, 'z': 55}\n"
     ]
    }
   ],
   "source": [
    "char_to_index = dict((char,index) for index,char in enumerate(char_vocab))\n",
    "print('문자 집합 :',char_to_index)"
   ]
  },
  {
   "cell_type": "code",
   "execution_count": 8,
   "metadata": {},
   "outputs": [],
   "source": [
    "index_to_char = {}\n",
    "for key,value in char_to_index.items():\n",
    "    index_to_char[value] = key"
   ]
  },
  {
   "cell_type": "code",
   "execution_count": 9,
   "metadata": {},
   "outputs": [],
   "source": [
    "train_X = 'appl'\n",
    "train_y = 'pple'"
   ]
  },
  {
   "cell_type": "code",
   "execution_count": 10,
   "metadata": {},
   "outputs": [
    {
     "name": "stdout",
     "output_type": "stream",
     "text": [
      "샘플의 수 : 2658\n"
     ]
    }
   ],
   "source": [
    "seq_length = 60\n",
    "n_samples = int(np.floor((len(total_data)-1) / seq_length))\n",
    "print('샘플의 수 : {}'.format(n_samples))"
   ]
  },
  {
   "cell_type": "code",
   "execution_count": 11,
   "metadata": {},
   "outputs": [],
   "source": [
    "train_X = []\n",
    "train_y = []\n",
    "for i in range(n_samples):\n",
    "    X_sample = total_data[i * seq_length : (i+1) * seq_length]\n",
    "    \n",
    "    X_encoded = [char_to_index[c] for c in X_sample]\n",
    "    train_X.append(X_encoded)\n",
    "    y_sample = total_data[i * seq_length + 1: (i+1) * seq_length + 1]\n",
    "    y_encoded = [char_to_index[c] for c in y_sample]\n",
    "    train_y.append(y_encoded)"
   ]
  },
  {
   "cell_type": "code",
   "execution_count": 12,
   "metadata": {},
   "outputs": [
    {
     "name": "stdout",
     "output_type": "stream",
     "text": [
      "X 데이터의 첫번째 샘플 : [49, 37, 34, 0, 45, 47, 44, 39, 34, 32, 49, 0, 36, 50, 49, 34, 43, 31, 34, 47, 36, 0, 34, 31, 44, 44, 40, 0, 44, 35, 0, 30, 41, 38, 32, 34, 48, 0, 30, 33, 51, 34, 43, 49, 50, 47, 34, 48, 0, 38, 43, 0, 52, 44, 43, 33, 34, 47, 41, 30]\n",
      "y 데이터의 첫번째 샘플 : [37, 34, 0, 45, 47, 44, 39, 34, 32, 49, 0, 36, 50, 49, 34, 43, 31, 34, 47, 36, 0, 34, 31, 44, 44, 40, 0, 44, 35, 0, 30, 41, 38, 32, 34, 48, 0, 30, 33, 51, 34, 43, 49, 50, 47, 34, 48, 0, 38, 43, 0, 52, 44, 43, 33, 34, 47, 41, 30, 43]\n",
      "--------------------------------------------------\n",
      "X 데이터의 첫번째 샘플 디코딩 : ['t', 'h', 'e', ' ', 'p', 'r', 'o', 'j', 'e', 'c', 't', ' ', 'g', 'u', 't', 'e', 'n', 'b', 'e', 'r', 'g', ' ', 'e', 'b', 'o', 'o', 'k', ' ', 'o', 'f', ' ', 'a', 'l', 'i', 'c', 'e', 's', ' ', 'a', 'd', 'v', 'e', 'n', 't', 'u', 'r', 'e', 's', ' ', 'i', 'n', ' ', 'w', 'o', 'n', 'd', 'e', 'r', 'l', 'a']\n",
      "y 데이터의 첫번째 샘플 디코딩 : ['h', 'e', ' ', 'p', 'r', 'o', 'j', 'e', 'c', 't', ' ', 'g', 'u', 't', 'e', 'n', 'b', 'e', 'r', 'g', ' ', 'e', 'b', 'o', 'o', 'k', ' ', 'o', 'f', ' ', 'a', 'l', 'i', 'c', 'e', 's', ' ', 'a', 'd', 'v', 'e', 'n', 't', 'u', 'r', 'e', 's', ' ', 'i', 'n', ' ', 'w', 'o', 'n', 'd', 'e', 'r', 'l', 'a', 'n']\n"
     ]
    }
   ],
   "source": [
    "print('X 데이터의 첫번째 샘플 :',train_X[0])\n",
    "print('y 데이터의 첫번째 샘플 :',train_y[0])\n",
    "print('-'*50)\n",
    "print(\"X 데이터의 첫번째 샘플 디코딩 :\",[index_to_char[i] for i in train_X[0]])\n",
    "print(\"y 데이터의 첫번째 샘플 디코딩 :\",[index_to_char[i] for i in train_y[0]])"
   ]
  },
  {
   "cell_type": "code",
   "execution_count": 13,
   "metadata": {},
   "outputs": [
    {
     "name": "stdout",
     "output_type": "stream",
     "text": [
      "[43, 33, 10, 0, 31, 54, 0, 41, 34, 52, 38, 48, 0, 32, 30, 47, 47, 44, 41, 41, 0, 49, 37, 38, 48, 0, 34, 31, 44, 44, 40, 0, 38, 48, 0, 35, 44, 47, 0, 49, 37, 34, 0, 50, 48, 34, 0, 44, 35, 0, 30, 43, 54, 44, 43, 34, 0, 30, 43, 54]\n"
     ]
    }
   ],
   "source": [
    "print(train_X[1])"
   ]
  },
  {
   "cell_type": "code",
   "execution_count": 14,
   "metadata": {},
   "outputs": [
    {
     "name": "stdout",
     "output_type": "stream",
     "text": [
      "[33, 10, 0, 31, 54, 0, 41, 34, 52, 38, 48, 0, 32, 30, 47, 47, 44, 41, 41, 0, 49, 37, 38, 48, 0, 34, 31, 44, 44, 40, 0, 38, 48, 0, 35, 44, 47, 0, 49, 37, 34, 0, 50, 48, 34, 0, 44, 35, 0, 30, 43, 54, 44, 43, 34, 0, 30, 43, 54, 52]\n"
     ]
    }
   ],
   "source": [
    "print(train_y[1])"
   ]
  },
  {
   "cell_type": "code",
   "execution_count": 15,
   "metadata": {},
   "outputs": [
    {
     "name": "stdout",
     "output_type": "stream",
     "text": [
      "train_X의 크기(shape) : (2658, 60, 56)\n",
      "train_y의 크기(shape) : (2658, 60, 56)\n"
     ]
    }
   ],
   "source": [
    "train_X = to_categorical(train_X)\n",
    "train_y = to_categorical(train_y)\n",
    "\n",
    "print('train_X의 크기(shape) : {}'.format(train_X.shape))\n",
    "print('train_y의 크기(shape) : {}'.format(train_y.shape))"
   ]
  },
  {
   "cell_type": "code",
   "execution_count": 16,
   "metadata": {},
   "outputs": [
    {
     "name": "stdout",
     "output_type": "stream",
     "text": [
      "Epoch 1/80\n",
      "84/84 - 24s - loss: 3.0657 - accuracy: 0.1832\n",
      "Epoch 2/80\n",
      "84/84 - 19s - loss: 2.7152 - accuracy: 0.2490\n",
      "Epoch 3/80\n",
      "84/84 - 19s - loss: 2.3919 - accuracy: 0.3307\n",
      "Epoch 4/80\n",
      "84/84 - 18s - loss: 2.2481 - accuracy: 0.3621\n",
      "Epoch 5/80\n",
      "84/84 - 18s - loss: 2.1436 - accuracy: 0.3881\n",
      "Epoch 6/80\n",
      "84/84 - 18s - loss: 2.0597 - accuracy: 0.4099\n",
      "Epoch 7/80\n",
      "84/84 - 18s - loss: 1.9902 - accuracy: 0.4277\n",
      "Epoch 8/80\n",
      "84/84 - 19s - loss: 1.9311 - accuracy: 0.4415\n",
      "Epoch 9/80\n",
      "84/84 - 18s - loss: 1.8745 - accuracy: 0.4574\n",
      "Epoch 10/80\n",
      "84/84 - 18s - loss: 1.8260 - accuracy: 0.4699\n",
      "Epoch 11/80\n",
      "84/84 - 18s - loss: 1.7823 - accuracy: 0.4824\n",
      "Epoch 12/80\n",
      "84/84 - 18s - loss: 1.7424 - accuracy: 0.4929\n",
      "Epoch 13/80\n",
      "84/84 - 18s - loss: 1.7014 - accuracy: 0.5029\n",
      "Epoch 14/80\n",
      "84/84 - 18s - loss: 1.6644 - accuracy: 0.5140\n",
      "Epoch 15/80\n",
      "84/84 - 18s - loss: 1.6289 - accuracy: 0.5215\n",
      "Epoch 16/80\n",
      "84/84 - 17s - loss: 1.5963 - accuracy: 0.5315\n",
      "Epoch 17/80\n",
      "84/84 - 17s - loss: 1.5636 - accuracy: 0.5391\n",
      "Epoch 18/80\n",
      "84/84 - 17s - loss: 1.5323 - accuracy: 0.5476\n",
      "Epoch 19/80\n",
      "84/84 - 17s - loss: 1.5030 - accuracy: 0.5562\n",
      "Epoch 20/80\n",
      "84/84 - 18s - loss: 1.4707 - accuracy: 0.5649\n",
      "Epoch 21/80\n",
      "84/84 - 18s - loss: 1.4435 - accuracy: 0.5717\n",
      "Epoch 22/80\n",
      "84/84 - 17s - loss: 1.4149 - accuracy: 0.5800\n",
      "Epoch 23/80\n",
      "84/84 - 17s - loss: 1.3862 - accuracy: 0.5883\n",
      "Epoch 24/80\n",
      "84/84 - 18s - loss: 1.3594 - accuracy: 0.5962\n",
      "Epoch 25/80\n",
      "84/84 - 17s - loss: 1.3318 - accuracy: 0.6032\n",
      "Epoch 26/80\n",
      "84/84 - 18s - loss: 1.3038 - accuracy: 0.6115\n",
      "Epoch 27/80\n",
      "84/84 - 18s - loss: 1.2753 - accuracy: 0.6202\n",
      "Epoch 28/80\n",
      "84/84 - 18s - loss: 1.2502 - accuracy: 0.6264\n",
      "Epoch 29/80\n",
      "84/84 - 18s - loss: 1.2186 - accuracy: 0.6369\n",
      "Epoch 30/80\n",
      "84/84 - 17s - loss: 1.1922 - accuracy: 0.6443\n",
      "Epoch 31/80\n",
      "84/84 - 17s - loss: 1.1636 - accuracy: 0.6524\n",
      "Epoch 32/80\n",
      "84/84 - 17s - loss: 1.1366 - accuracy: 0.6592\n",
      "Epoch 33/80\n",
      "84/84 - 19s - loss: 1.1103 - accuracy: 0.6675\n",
      "Epoch 34/80\n",
      "84/84 - 16s - loss: 1.0847 - accuracy: 0.6753\n",
      "Epoch 35/80\n",
      "84/84 - 16s - loss: 1.0563 - accuracy: 0.6833\n",
      "Epoch 36/80\n",
      "84/84 - 16s - loss: 1.0327 - accuracy: 0.6912\n",
      "Epoch 37/80\n",
      "84/84 - 16s - loss: 0.9996 - accuracy: 0.7016\n",
      "Epoch 38/80\n",
      "84/84 - 16s - loss: 0.9734 - accuracy: 0.7101\n",
      "Epoch 39/80\n",
      "84/84 - 17s - loss: 0.9518 - accuracy: 0.7149\n",
      "Epoch 40/80\n",
      "84/84 - 16s - loss: 0.9263 - accuracy: 0.7237\n",
      "Epoch 41/80\n",
      "84/84 - 16s - loss: 0.8921 - accuracy: 0.7346\n",
      "Epoch 42/80\n",
      "84/84 - 16s - loss: 0.8661 - accuracy: 0.7419\n",
      "Epoch 43/80\n",
      "84/84 - 16s - loss: 0.8425 - accuracy: 0.7498\n",
      "Epoch 44/80\n",
      "84/84 - 16s - loss: 0.8133 - accuracy: 0.7596\n",
      "Epoch 45/80\n",
      "84/84 - 16s - loss: 0.7888 - accuracy: 0.7667\n",
      "Epoch 46/80\n",
      "84/84 - 16s - loss: 0.7844 - accuracy: 0.7661\n",
      "Epoch 47/80\n",
      "84/84 - 16s - loss: 0.7409 - accuracy: 0.7810\n",
      "Epoch 48/80\n",
      "84/84 - 17s - loss: 0.7167 - accuracy: 0.7897\n",
      "Epoch 49/80\n",
      "84/84 - 16s - loss: 0.6897 - accuracy: 0.7985\n",
      "Epoch 50/80\n",
      "84/84 - 16s - loss: 0.6594 - accuracy: 0.8093\n",
      "Epoch 51/80\n",
      "84/84 - 16s - loss: 0.6421 - accuracy: 0.8133\n",
      "Epoch 52/80\n",
      "84/84 - 16s - loss: 0.6166 - accuracy: 0.8231\n",
      "Epoch 53/80\n",
      "84/84 - 16s - loss: 0.5934 - accuracy: 0.8296\n",
      "Epoch 54/80\n",
      "84/84 - 16s - loss: 0.5731 - accuracy: 0.8372\n",
      "Epoch 55/80\n",
      "84/84 - 16s - loss: 0.5545 - accuracy: 0.8418\n",
      "Epoch 56/80\n",
      "84/84 - 16s - loss: 0.5403 - accuracy: 0.8455\n",
      "Epoch 57/80\n",
      "84/84 - 17s - loss: 0.5196 - accuracy: 0.8519\n",
      "Epoch 58/80\n",
      "84/84 - 19s - loss: 0.4989 - accuracy: 0.8604\n",
      "Epoch 59/80\n",
      "84/84 - 18s - loss: 0.4806 - accuracy: 0.8650\n",
      "Epoch 60/80\n",
      "84/84 - 17s - loss: 0.4576 - accuracy: 0.8744\n",
      "Epoch 61/80\n",
      "84/84 - 16s - loss: 0.4676 - accuracy: 0.8674\n",
      "Epoch 62/80\n",
      "84/84 - 17s - loss: 0.4209 - accuracy: 0.8860\n",
      "Epoch 63/80\n",
      "84/84 - 17s - loss: 0.3931 - accuracy: 0.8966\n",
      "Epoch 64/80\n",
      "84/84 - 19s - loss: 0.3738 - accuracy: 0.9030\n",
      "Epoch 65/80\n",
      "84/84 - 19s - loss: 0.3751 - accuracy: 0.9002\n",
      "Epoch 66/80\n",
      "84/84 - 20s - loss: 0.3566 - accuracy: 0.9063\n",
      "Epoch 67/80\n",
      "84/84 - 19s - loss: 0.3386 - accuracy: 0.9127\n",
      "Epoch 68/80\n",
      "84/84 - 17s - loss: 0.3267 - accuracy: 0.9163\n",
      "Epoch 69/80\n",
      "84/84 - 16s - loss: 0.3186 - accuracy: 0.9180\n",
      "Epoch 70/80\n",
      "84/84 - 16s - loss: 0.3126 - accuracy: 0.9194\n",
      "Epoch 71/80\n",
      "84/84 - 16s - loss: 0.2898 - accuracy: 0.9277\n",
      "Epoch 72/80\n",
      "84/84 - 16s - loss: 0.2752 - accuracy: 0.9319\n",
      "Epoch 73/80\n",
      "84/84 - 17s - loss: 0.2642 - accuracy: 0.9357\n",
      "Epoch 74/80\n",
      "84/84 - 19s - loss: 0.2630 - accuracy: 0.9350\n",
      "Epoch 75/80\n",
      "84/84 - 18s - loss: 0.2477 - accuracy: 0.9397\n",
      "Epoch 76/80\n",
      "84/84 - 17s - loss: 0.2367 - accuracy: 0.9433\n",
      "Epoch 77/80\n",
      "84/84 - 16s - loss: 0.2378 - accuracy: 0.9415\n",
      "Epoch 78/80\n",
      "84/84 - 16s - loss: 0.2324 - accuracy: 0.9424\n",
      "Epoch 79/80\n",
      "84/84 - 17s - loss: 0.2232 - accuracy: 0.9450\n",
      "Epoch 80/80\n",
      "84/84 - 17s - loss: 0.2098 - accuracy: 0.9494\n"
     ]
    },
    {
     "data": {
      "text/plain": [
       "<keras.callbacks.History at 0x18b120e3160>"
      ]
     },
     "execution_count": 16,
     "metadata": {},
     "output_type": "execute_result"
    }
   ],
   "source": [
    "from tensorflow.keras.models import Sequential\n",
    "from tensorflow.keras.layers import Dense,LSTM,TimeDistributed\n",
    "\n",
    "hidden_units = 256\n",
    "model = Sequential()\n",
    "model.add(LSTM(hidden_units,input_shape=(None,train_X.shape[2]),return_sequences=True))\n",
    "model.add(LSTM(hidden_units, return_sequences=True))\n",
    "model.add(TimeDistributed(Dense(vocab_size,activation='softmax')))\n",
    "model.compile(loss='categorical_crossentropy',optimizer='adam',metrics=['accuracy'])\n",
    "model.fit(train_X,train_y,epochs=80, verbose=2)"
   ]
  },
  {
   "cell_type": "code",
   "execution_count": 19,
   "metadata": {},
   "outputs": [],
   "source": [
    "def sentence_generation(model, length):\n",
    "    # 문자에 대한 랜덤한 정수 생성\n",
    "    ix = [np.random.randint(vocab_size)]\n",
    "\n",
    "    # 랜덤한 정수로부터 맵핑되는 문자 생성\n",
    "    y_char = [index_to_char[ix[-1]]]\n",
    "    print(ix[-1],'번 문자',y_char[-1],'로 예측을 시작!')\n",
    "\n",
    "    # (1, length, 55) 크기의 X 생성. 즉, LSTM의 입력 시퀀스 생성\n",
    "    X = np.zeros((1, length, vocab_size))\n",
    "\n",
    "    for i in range(length):\n",
    "        # X[0][i][예측한 문자의 인덱스] = 1, 즉, 예측 문자를 다음 입력 시퀀스에 추가\n",
    "        X[0][i][ix[-1]] = 1\n",
    "        print(index_to_char[ix[-1]], end=\"\")\n",
    "        ix = np.argmax(model.predict(X[:, :i+1, :])[0], 1)\n",
    "        y_char.append(index_to_char[ix[-1]])\n",
    "    return ('').join(y_char)"
   ]
  },
  {
   "cell_type": "code",
   "execution_count": 20,
   "metadata": {},
   "outputs": [
    {
     "name": "stdout",
     "output_type": "stream",
     "text": [
      "6 번 문자 ' 로 예측을 시작!\n",
      "'s more-tmabber wed, jut it was aspectackest: its electtinal little birds and beasts, as weld be som's more-tmabber wed, jut it was aspectackest: its electtinal little birds and beasts, as weld be some\n"
     ]
    }
   ],
   "source": [
    "result = sentence_generation(model,100)\n",
    "print(result)"
   ]
  },
  {
   "cell_type": "code",
   "execution_count": 1,
   "metadata": {},
   "outputs": [],
   "source": [
    "import numpy as np\n",
    "from tensorflow.keras.utils import to_categorical"
   ]
  },
  {
   "cell_type": "code",
   "execution_count": 2,
   "metadata": {},
   "outputs": [],
   "source": [
    "raw_text = '''\n",
    "I get on with life as a programmer,\n",
    "I like to contemplate beer.\n",
    "But when I start to daydream,\n",
    "My mind turns straight to wine.\n",
    "\n",
    "Do I love wine more than beer?\n",
    "\n",
    "I like to use words about beer.\n",
    "But when I stop my talking,\n",
    "My mind turns straight to wine.\n",
    "\n",
    "I hate bugs and errors.\n",
    "But I just think back to wine,\n",
    "And I'm happy once again.\n",
    "\n",
    "I like to hang out with programming and deep learning.\n",
    "But when left alone,\n",
    "My mind turns straight to wine.\n",
    "'''"
   ]
  },
  {
   "cell_type": "code",
   "execution_count": 3,
   "metadata": {},
   "outputs": [
    {
     "name": "stdout",
     "output_type": "stream",
     "text": [
      "I get on with life as a programmer, I like to contemplate beer. But when I start to daydream, My mind turns straight to wine. Do I love wine more than beer? I like to use words about beer. But when I stop my talking, My mind turns straight to wine. I hate bugs and errors. But I just think back to wine, And I'm happy once again. I like to hang out with programming and deep learning. But when left alone, My mind turns straight to wine.\n"
     ]
    }
   ],
   "source": [
    "tokens = raw_text.split()\n",
    "raw_text = ' '.join(tokens)\n",
    "print(raw_text)"
   ]
  },
  {
   "cell_type": "code",
   "execution_count": 4,
   "metadata": {},
   "outputs": [
    {
     "name": "stdout",
     "output_type": "stream",
     "text": [
      "문자 집합 : [' ', \"'\", ',', '.', '?', 'A', 'B', 'D', 'I', 'M', 'a', 'b', 'c', 'd', 'e', 'f', 'g', 'h', 'i', 'j', 'k', 'l', 'm', 'n', 'o', 'p', 'r', 's', 't', 'u', 'v', 'w', 'y']\n",
      "문자 집합의 크기 : 33\n"
     ]
    }
   ],
   "source": [
    "char_vocab = sorted(list(set(raw_text)))\n",
    "vocab_size = len(char_vocab)\n",
    "print('문자 집합 :',char_vocab)\n",
    "print('문자 집합의 크기 : {}'.format(vocab_size))"
   ]
  },
  {
   "cell_type": "code",
   "execution_count": 5,
   "metadata": {},
   "outputs": [
    {
     "name": "stdout",
     "output_type": "stream",
     "text": [
      "{' ': 0, \"'\": 1, ',': 2, '.': 3, '?': 4, 'A': 5, 'B': 6, 'D': 7, 'I': 8, 'M': 9, 'a': 10, 'b': 11, 'c': 12, 'd': 13, 'e': 14, 'f': 15, 'g': 16, 'h': 17, 'i': 18, 'j': 19, 'k': 20, 'l': 21, 'm': 22, 'n': 23, 'o': 24, 'p': 25, 'r': 26, 's': 27, 't': 28, 'u': 29, 'v': 30, 'w': 31, 'y': 32}\n"
     ]
    }
   ],
   "source": [
    "char_to_index = dict((char,index) for index,char in enumerate(char_vocab))\n",
    "print(char_to_index)"
   ]
  },
  {
   "cell_type": "code",
   "execution_count": 6,
   "metadata": {},
   "outputs": [
    {
     "name": "stdout",
     "output_type": "stream",
     "text": [
      "총 훈련 샘플의 수 : 426\n"
     ]
    }
   ],
   "source": [
    "length = 11\n",
    "sequences = []\n",
    "for i in range(length,len(raw_text)):\n",
    "    seq = raw_text[i-length:i]\n",
    "    sequences.append(seq)\n",
    "print('총 훈련 샘플의 수 : %d' % len(sequences))"
   ]
  },
  {
   "cell_type": "code",
   "execution_count": 7,
   "metadata": {},
   "outputs": [
    {
     "data": {
      "text/plain": [
       "['I get on wi',\n",
       " ' get on wit',\n",
       " 'get on with',\n",
       " 'et on with ',\n",
       " 't on with l',\n",
       " ' on with li',\n",
       " 'on with lif',\n",
       " 'n with life',\n",
       " ' with life ',\n",
       " 'with life a']"
      ]
     },
     "execution_count": 7,
     "metadata": {},
     "output_type": "execute_result"
    }
   ],
   "source": [
    "sequences[:10]"
   ]
  },
  {
   "cell_type": "code",
   "execution_count": 10,
   "metadata": {},
   "outputs": [],
   "source": [
    "encoded_sequences = []\n",
    "for sequence in sequences:\n",
    "    encoded_sequence = [char_to_index[char] for char in sequence]\n",
    "    encoded_sequences.append(encoded_sequence)"
   ]
  },
  {
   "cell_type": "code",
   "execution_count": 11,
   "metadata": {},
   "outputs": [
    {
     "data": {
      "text/plain": [
       "[[8, 0, 16, 14, 28, 0, 24, 23, 0, 31, 18],\n",
       " [0, 16, 14, 28, 0, 24, 23, 0, 31, 18, 28],\n",
       " [16, 14, 28, 0, 24, 23, 0, 31, 18, 28, 17],\n",
       " [14, 28, 0, 24, 23, 0, 31, 18, 28, 17, 0],\n",
       " [28, 0, 24, 23, 0, 31, 18, 28, 17, 0, 21]]"
      ]
     },
     "execution_count": 11,
     "metadata": {},
     "output_type": "execute_result"
    }
   ],
   "source": [
    "encoded_sequences[:5]"
   ]
  },
  {
   "cell_type": "code",
   "execution_count": 12,
   "metadata": {},
   "outputs": [],
   "source": [
    "encoded_sequences = np.array(encoded_sequences)\n",
    "X_data = encoded_sequences[:,:-1]\n",
    "y_data = encoded_sequences[:,-1]"
   ]
  },
  {
   "cell_type": "code",
   "execution_count": 13,
   "metadata": {},
   "outputs": [
    {
     "name": "stdout",
     "output_type": "stream",
     "text": [
      "[[ 8  0 16 14 28  0 24 23  0 31]\n",
      " [ 0 16 14 28  0 24 23  0 31 18]\n",
      " [16 14 28  0 24 23  0 31 18 28]\n",
      " [14 28  0 24 23  0 31 18 28 17]\n",
      " [28  0 24 23  0 31 18 28 17  0]]\n",
      "[18 28 17  0 21]\n"
     ]
    }
   ],
   "source": [
    "print(X_data[:5])\n",
    "print(y_data[:5])"
   ]
  },
  {
   "cell_type": "code",
   "execution_count": 14,
   "metadata": {},
   "outputs": [],
   "source": [
    "X_data_one_hot = [to_categorical(encoded,num_classes=vocab_size) for encoded in X_data]\n",
    "X_data_one_hot = np.array(X_data_one_hot)\n",
    "y_data_one_hot = to_categorical(y_data,num_classes=vocab_size)"
   ]
  },
  {
   "cell_type": "code",
   "execution_count": 15,
   "metadata": {},
   "outputs": [
    {
     "name": "stdout",
     "output_type": "stream",
     "text": [
      "(426, 10, 33)\n"
     ]
    }
   ],
   "source": [
    "print(X_data_one_hot.shape)"
   ]
  },
  {
   "cell_type": "code",
   "execution_count": 22,
   "metadata": {},
   "outputs": [
    {
     "name": "stdout",
     "output_type": "stream",
     "text": [
      "Epoch 1/100\n",
      "14/14 - 2s - loss: 3.4656 - accuracy: 0.1432\n",
      "Epoch 2/100\n",
      "14/14 - 0s - loss: 3.3449 - accuracy: 0.2019\n",
      "Epoch 3/100\n",
      "14/14 - 0s - loss: 3.0599 - accuracy: 0.1972\n",
      "Epoch 4/100\n",
      "14/14 - 0s - loss: 3.0005 - accuracy: 0.1972\n",
      "Epoch 5/100\n",
      "14/14 - 0s - loss: 2.9586 - accuracy: 0.1972\n",
      "Epoch 6/100\n",
      "14/14 - 0s - loss: 2.9388 - accuracy: 0.1972\n",
      "Epoch 7/100\n",
      "14/14 - 0s - loss: 2.9376 - accuracy: 0.1972\n",
      "Epoch 8/100\n",
      "14/14 - 0s - loss: 2.9142 - accuracy: 0.1972\n",
      "Epoch 9/100\n",
      "14/14 - 0s - loss: 2.9023 - accuracy: 0.1972\n",
      "Epoch 10/100\n",
      "14/14 - 0s - loss: 2.8843 - accuracy: 0.1972\n",
      "Epoch 11/100\n",
      "14/14 - 0s - loss: 2.8579 - accuracy: 0.1972\n",
      "Epoch 12/100\n",
      "14/14 - 0s - loss: 2.8331 - accuracy: 0.1972\n",
      "Epoch 13/100\n",
      "14/14 - 0s - loss: 2.8091 - accuracy: 0.2019\n",
      "Epoch 14/100\n",
      "14/14 - 0s - loss: 2.7820 - accuracy: 0.1995\n",
      "Epoch 15/100\n",
      "14/14 - 0s - loss: 2.7520 - accuracy: 0.1995\n",
      "Epoch 16/100\n",
      "14/14 - 0s - loss: 2.7157 - accuracy: 0.2324\n",
      "Epoch 17/100\n",
      "14/14 - 0s - loss: 2.6828 - accuracy: 0.2488\n",
      "Epoch 18/100\n",
      "14/14 - 0s - loss: 2.6372 - accuracy: 0.2488\n",
      "Epoch 19/100\n",
      "14/14 - 0s - loss: 2.6139 - accuracy: 0.2629\n",
      "Epoch 20/100\n",
      "14/14 - 0s - loss: 2.5830 - accuracy: 0.2582\n",
      "Epoch 21/100\n",
      "14/14 - 0s - loss: 2.5249 - accuracy: 0.2746\n",
      "Epoch 22/100\n",
      "14/14 - 0s - loss: 2.4875 - accuracy: 0.2700\n",
      "Epoch 23/100\n",
      "14/14 - 0s - loss: 2.4627 - accuracy: 0.2887\n",
      "Epoch 24/100\n",
      "14/14 - 0s - loss: 2.4080 - accuracy: 0.3028\n",
      "Epoch 25/100\n",
      "14/14 - 0s - loss: 2.3695 - accuracy: 0.3216\n",
      "Epoch 26/100\n",
      "14/14 - 0s - loss: 2.3264 - accuracy: 0.3427\n",
      "Epoch 27/100\n",
      "14/14 - 0s - loss: 2.3053 - accuracy: 0.3286\n",
      "Epoch 28/100\n",
      "14/14 - 0s - loss: 2.2662 - accuracy: 0.3427\n",
      "Epoch 29/100\n",
      "14/14 - 0s - loss: 2.2348 - accuracy: 0.3920\n",
      "Epoch 30/100\n",
      "14/14 - 0s - loss: 2.1891 - accuracy: 0.3662\n",
      "Epoch 31/100\n",
      "14/14 - 0s - loss: 2.1382 - accuracy: 0.3803\n",
      "Epoch 32/100\n",
      "14/14 - 0s - loss: 2.1127 - accuracy: 0.3991\n",
      "Epoch 33/100\n",
      "14/14 - 0s - loss: 2.0475 - accuracy: 0.4225\n",
      "Epoch 34/100\n",
      "14/14 - 0s - loss: 2.0124 - accuracy: 0.4178\n",
      "Epoch 35/100\n",
      "14/14 - 0s - loss: 1.9899 - accuracy: 0.4249\n",
      "Epoch 36/100\n",
      "14/14 - 0s - loss: 1.9345 - accuracy: 0.4484\n",
      "Epoch 37/100\n",
      "14/14 - 0s - loss: 1.8938 - accuracy: 0.4671\n",
      "Epoch 38/100\n",
      "14/14 - 0s - loss: 1.8460 - accuracy: 0.5000\n",
      "Epoch 39/100\n",
      "14/14 - 0s - loss: 1.8100 - accuracy: 0.5141\n",
      "Epoch 40/100\n",
      "14/14 - 0s - loss: 1.7668 - accuracy: 0.5211\n",
      "Epoch 41/100\n",
      "14/14 - 0s - loss: 1.7429 - accuracy: 0.5094\n",
      "Epoch 42/100\n",
      "14/14 - 0s - loss: 1.6933 - accuracy: 0.5493\n",
      "Epoch 43/100\n",
      "14/14 - 0s - loss: 1.6650 - accuracy: 0.5211\n",
      "Epoch 44/100\n",
      "14/14 - 0s - loss: 1.6241 - accuracy: 0.5493\n",
      "Epoch 45/100\n",
      "14/14 - 0s - loss: 1.5812 - accuracy: 0.6009\n",
      "Epoch 46/100\n",
      "14/14 - 0s - loss: 1.5524 - accuracy: 0.5869\n",
      "Epoch 47/100\n",
      "14/14 - 0s - loss: 1.5289 - accuracy: 0.5986\n",
      "Epoch 48/100\n",
      "14/14 - 0s - loss: 1.4722 - accuracy: 0.6009\n",
      "Epoch 49/100\n",
      "14/14 - 0s - loss: 1.4242 - accuracy: 0.6315\n",
      "Epoch 50/100\n",
      "14/14 - 0s - loss: 1.3914 - accuracy: 0.6643\n",
      "Epoch 51/100\n",
      "14/14 - 0s - loss: 1.3728 - accuracy: 0.6526\n",
      "Epoch 52/100\n",
      "14/14 - 0s - loss: 1.3484 - accuracy: 0.6526\n",
      "Epoch 53/100\n",
      "14/14 - 0s - loss: 1.2953 - accuracy: 0.6502\n",
      "Epoch 54/100\n",
      "14/14 - 0s - loss: 1.2550 - accuracy: 0.6948\n",
      "Epoch 55/100\n",
      "14/14 - 0s - loss: 1.2232 - accuracy: 0.7089\n",
      "Epoch 56/100\n",
      "14/14 - 0s - loss: 1.1973 - accuracy: 0.6761\n",
      "Epoch 57/100\n",
      "14/14 - 0s - loss: 1.1673 - accuracy: 0.6972\n",
      "Epoch 58/100\n",
      "14/14 - 0s - loss: 1.1391 - accuracy: 0.7019\n",
      "Epoch 59/100\n",
      "14/14 - 0s - loss: 1.1209 - accuracy: 0.7254\n",
      "Epoch 60/100\n",
      "14/14 - 0s - loss: 1.0755 - accuracy: 0.7418\n",
      "Epoch 61/100\n",
      "14/14 - 0s - loss: 1.0486 - accuracy: 0.7254\n",
      "Epoch 62/100\n",
      "14/14 - 0s - loss: 1.0196 - accuracy: 0.7606\n",
      "Epoch 63/100\n",
      "14/14 - 0s - loss: 0.9985 - accuracy: 0.7676\n",
      "Epoch 64/100\n",
      "14/14 - 0s - loss: 0.9616 - accuracy: 0.7934\n",
      "Epoch 65/100\n",
      "14/14 - 0s - loss: 0.9556 - accuracy: 0.7793\n",
      "Epoch 66/100\n",
      "14/14 - 0s - loss: 0.9288 - accuracy: 0.7840\n",
      "Epoch 67/100\n",
      "14/14 - 0s - loss: 0.9001 - accuracy: 0.8099\n",
      "Epoch 68/100\n",
      "14/14 - 0s - loss: 0.8782 - accuracy: 0.8192\n",
      "Epoch 69/100\n",
      "14/14 - 0s - loss: 0.8513 - accuracy: 0.8310\n",
      "Epoch 70/100\n",
      "14/14 - 0s - loss: 0.8095 - accuracy: 0.8310\n",
      "Epoch 71/100\n",
      "14/14 - 0s - loss: 0.7887 - accuracy: 0.8592\n",
      "Epoch 72/100\n",
      "14/14 - 0s - loss: 0.7615 - accuracy: 0.8662\n",
      "Epoch 73/100\n",
      "14/14 - 0s - loss: 0.7381 - accuracy: 0.8709\n",
      "Epoch 74/100\n",
      "14/14 - 0s - loss: 0.7217 - accuracy: 0.8756\n",
      "Epoch 75/100\n",
      "14/14 - 0s - loss: 0.6937 - accuracy: 0.9014\n",
      "Epoch 76/100\n",
      "14/14 - 0s - loss: 0.6808 - accuracy: 0.8803\n",
      "Epoch 77/100\n",
      "14/14 - 0s - loss: 0.6671 - accuracy: 0.8967\n",
      "Epoch 78/100\n",
      "14/14 - 0s - loss: 0.6625 - accuracy: 0.9108\n",
      "Epoch 79/100\n",
      "14/14 - 0s - loss: 0.6256 - accuracy: 0.9085\n",
      "Epoch 80/100\n",
      "14/14 - 0s - loss: 0.6007 - accuracy: 0.9131\n",
      "Epoch 81/100\n",
      "14/14 - 0s - loss: 0.5844 - accuracy: 0.9202\n",
      "Epoch 82/100\n",
      "14/14 - 0s - loss: 0.5753 - accuracy: 0.9296\n",
      "Epoch 83/100\n",
      "14/14 - 0s - loss: 0.5579 - accuracy: 0.9225\n",
      "Epoch 84/100\n",
      "14/14 - 0s - loss: 0.5289 - accuracy: 0.9366\n",
      "Epoch 85/100\n",
      "14/14 - 0s - loss: 0.5126 - accuracy: 0.9413\n",
      "Epoch 86/100\n",
      "14/14 - 0s - loss: 0.4897 - accuracy: 0.9554\n",
      "Epoch 87/100\n",
      "14/14 - 0s - loss: 0.4852 - accuracy: 0.9507\n",
      "Epoch 88/100\n",
      "14/14 - 0s - loss: 0.4705 - accuracy: 0.9484\n",
      "Epoch 89/100\n",
      "14/14 - 0s - loss: 0.4537 - accuracy: 0.9531\n",
      "Epoch 90/100\n",
      "14/14 - 0s - loss: 0.4414 - accuracy: 0.9577\n",
      "Epoch 91/100\n",
      "14/14 - 0s - loss: 0.4244 - accuracy: 0.9601\n",
      "Epoch 92/100\n",
      "14/14 - 0s - loss: 0.4131 - accuracy: 0.9577\n",
      "Epoch 93/100\n",
      "14/14 - 0s - loss: 0.4055 - accuracy: 0.9577\n",
      "Epoch 94/100\n",
      "14/14 - 0s - loss: 0.3878 - accuracy: 0.9648\n",
      "Epoch 95/100\n",
      "14/14 - 0s - loss: 0.3744 - accuracy: 0.9624\n",
      "Epoch 96/100\n",
      "14/14 - 0s - loss: 0.3603 - accuracy: 0.9671\n",
      "Epoch 97/100\n",
      "14/14 - 0s - loss: 0.3470 - accuracy: 0.9695\n",
      "Epoch 98/100\n",
      "14/14 - 0s - loss: 0.3325 - accuracy: 0.9695\n",
      "Epoch 99/100\n",
      "14/14 - 0s - loss: 0.3242 - accuracy: 0.9765\n",
      "Epoch 100/100\n",
      "14/14 - 0s - loss: 0.3224 - accuracy: 0.9765\n"
     ]
    },
    {
     "data": {
      "text/plain": [
       "<keras.callbacks.History at 0x200960aebe0>"
      ]
     },
     "execution_count": 22,
     "metadata": {},
     "output_type": "execute_result"
    }
   ],
   "source": [
    "from tensorflow.keras.models import Sequential\n",
    "from tensorflow.keras.layers import Dense,LSTM\n",
    "from tensorflow.keras.preprocessing.sequence import pad_sequences\n",
    "hidden_units = 64\n",
    "\n",
    "model = Sequential()\n",
    "model.add(LSTM(hidden_units,input_shape=(X_data_one_hot.shape[1],X_data_one_hot.shape[2])))\n",
    "model.add(Dense(vocab_size,activation='softmax'))\n",
    "\n",
    "model.compile(loss='categorical_crossentropy',optimizer='adam',metrics=['accuracy'])\n",
    "model.fit(X_data_one_hot,y_data_one_hot,epochs=100,verbose=2)"
   ]
  },
  {
   "cell_type": "code",
   "execution_count": 23,
   "metadata": {},
   "outputs": [],
   "source": [
    "def sentence_generation(model, char_to_index, seq_length, seed_text, n):\n",
    "\n",
    "    # 초기 시퀀스\n",
    "    init_text = seed_text\n",
    "    sentence = ''\n",
    "\n",
    "    # 다음 문자 예측은 총 n번만 반복.\n",
    "    for _ in range(n):\n",
    "        encoded = [char_to_index[char] for char in seed_text] # 현재 시퀀스에 대한 정수 인코딩\n",
    "        encoded = pad_sequences([encoded], maxlen=seq_length, padding='pre') # 데이터에 대한 패딩\n",
    "        encoded = to_categorical(encoded, num_classes=len(char_to_index))\n",
    "\n",
    "        # 입력한 X(현재 시퀀스)에 대해서 y를 예측하고 y(예측한 문자)를 result에 저장.\n",
    "        result = model.predict(encoded, verbose=0)\n",
    "        result = np.argmax(result, axis=1)\n",
    "\n",
    "        for char, index in char_to_index.items():\n",
    "            if index == result:\n",
    "                break\n",
    "\n",
    "        # 현재 시퀀스 + 예측 문자를 현재 시퀀스로 변경\n",
    "        seed_text = seed_text + char\n",
    "\n",
    "        # 예측 문자를 문장에 저장\n",
    "        sentence = sentence + char\n",
    "\n",
    "    # n번의 다음 문자 예측이 끝나면 최종 완성된 문장을 리턴.\n",
    "    sentence = init_text + sentence\n",
    "    return sentence"
   ]
  },
  {
   "cell_type": "code",
   "execution_count": 24,
   "metadata": {},
   "outputs": [
    {
     "name": "stdout",
     "output_type": "stream",
     "text": [
      "I get on with life as a programmer, I like to contemplate beer. But when I start to daydre\n"
     ]
    }
   ],
   "source": [
    "print(sentence_generation(model,char_to_index,10,'I get on w',80))"
   ]
  },
  {
   "cell_type": "code",
   "execution_count": null,
   "metadata": {},
   "outputs": [],
   "source": []
  }
 ],
 "metadata": {
  "kernelspec": {
   "display_name": "Python 3",
   "language": "python",
   "name": "python3"
  },
  "language_info": {
   "codemirror_mode": {
    "name": "ipython",
    "version": 3
   },
   "file_extension": ".py",
   "mimetype": "text/x-python",
   "name": "python",
   "nbconvert_exporter": "python",
   "pygments_lexer": "ipython3",
   "version": "3.8.3"
  }
 },
 "nbformat": 4,
 "nbformat_minor": 4
}
